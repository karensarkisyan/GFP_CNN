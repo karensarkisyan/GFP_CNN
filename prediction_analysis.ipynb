{
 "cells": [
  {
   "cell_type": "code",
   "execution_count": 1,
   "metadata": {
    "collapsed": true
   },
   "outputs": [],
   "source": [
    "from collections import OrderedDict\n",
    "from classes import *\n",
    "%matplotlib inline"
   ]
  },
  {
   "cell_type": "code",
   "execution_count": 2,
   "metadata": {
    "collapsed": true
   },
   "outputs": [],
   "source": [
    "from matplotlib import pyplot as plt"
   ]
  },
  {
   "cell_type": "markdown",
   "metadata": {},
   "source": [
    "## Visualizing results of test experiments"
   ]
  },
  {
   "cell_type": "code",
   "execution_count": 7,
   "metadata": {
    "scrolled": true
   },
   "outputs": [
    {
     "name": "stdout",
     "output_type": "stream",
     "text": [
      "20180412-1340_Dropout_rate_mse.txt  20180412-1820__mse.txt\r\n"
     ]
    }
   ],
   "source": [
    "!ls ../tmp/"
   ]
  },
  {
   "cell_type": "code",
   "execution_count": 17,
   "metadata": {
    "collapsed": true
   },
   "outputs": [],
   "source": [
    "experiment='20180412-1820'\n",
    "f='../tmp/20180412-1820__mse.txt'"
   ]
  },
  {
   "cell_type": "code",
   "execution_count": 18,
   "metadata": {},
   "outputs": [],
   "source": [
    "mse_train=list(pd.DataFrame.from_csv(f,sep='\\t').ix['Train'])\n",
    "mse_val=list(pd.DataFrame.from_csv(f,sep='\\t').ix['Test'])"
   ]
  },
  {
   "cell_type": "code",
   "execution_count": 20,
   "metadata": {
    "scrolled": false
   },
   "outputs": [
    {
     "data": {
      "image/png": "[encoded data removed]",
      "text/plain": [
       "<matplotlib.figure.Figure at 0x7fcd6fc31f10>"
      ]
     },
     "metadata": {},
     "output_type": "display_data"
    }
   ],
   "source": [
    "plt.figure(figsize=[10,8])\n",
    "plt.plot([x for x in range(len(mse_train))],mse_train,'ok',label='Train',ms=10)\n",
    "plt.plot([x for x in range(len(mse_val))],mse_val,'ob',label='Test',ms=10)\n",
    "plt.ylabel('MSE',fontsize=17)\n",
    "plt.xlabel('Weight decay',fontsize=17)\n",
    "plt.legend()\n",
    "plt.grid('k',lw=0.5)\n",
    "plt.xticks([x for x in range(len(mse_train))],['0.01', '0.1', '0.2', '0.3', '0.4', '0.5'])\n",
    "plt.savefig('../figures/'+experiment+'_weight_decay.pdf');"
   ]
  },
  {
   "cell_type": "markdown",
   "metadata": {},
   "source": [
    "## Extracting good mutations"
   ]
  },
  {
   "cell_type": "code",
   "execution_count": 2,
   "metadata": {
    "collapsed": true
   },
   "outputs": [],
   "source": [
    "wt_sq = 'MSKGEELFTGVVPILVELDGDVNGHKFSVSGEGEGDATYGKLTLKFICTTGKLPVPWPTLVTTLSYGVQCFSRYPDHMKQHDFFKSAMPEGYVQERTIFFKDDGNYKTRAEVKFEGDTLVNRIELKGIDFKEDGNILGHKLEYNYNSHNVYIMADKQKNGIKVNFKIRHNIEDGSVQLADHYQQNTPIGDGPVLLPDNHYLSTQSALSKDPNEKRDHMVLLEFVTAAGITHGMDELYK'"
   ]
  },
  {
   "cell_type": "code",
   "execution_count": 3,
   "metadata": {},
   "outputs": [
    {
     "name": "stderr",
     "output_type": "stream",
     "text": [
      "functions.py:87: FutureWarning: reshape is deprecated and will raise in a subsequent release. Please use .values.reshape(...) instead\n",
      "  labels=labels.reshape(-1,1)\n",
      "functions.py:90: FutureWarning: reshape is deprecated and will raise in a subsequent release. Please use .values.reshape(...) instead\n",
      "  sample_weights=sample_weights.reshape(-1,1)\n",
      "/nfs/scistore08/kondrgrp/eputints/.local/lib/python2.7/site-packages/sklearn/model_selection/_split.py:2010: FutureWarning: From version 0.21, test_size will always complement train_size unless both are specified.\n",
      "  FutureWarning)\n"
     ]
    }
   ],
   "source": [
    "f='./data/amino_acid_genotypes_to_brightness.txt'\n",
    "batch_size,zero_sample_fraction = 200,0.5\n",
    "\n",
    "input_data = Data(file_path=f,batch_size=batch_size,zero_sample_fraction=zero_sample_fraction, zeroing=True)"
   ]
  },
  {
   "cell_type": "code",
   "execution_count": 4,
   "metadata": {
    "collapsed": true
   },
   "outputs": [],
   "source": [
    "unique_mutations = []\n",
    "for mut in input_data.mutant_list:\n",
    "    unique_mutations.extend(mut)\n",
    "    \n",
    "unique_mutations = [[x] for x in set(unique_mutations)]"
   ]
  },
  {
   "cell_type": "code",
   "execution_count": 5,
   "metadata": {
    "collapsed": true
   },
   "outputs": [],
   "source": [
    "#start the list with a wild-type\n",
    "sq_test_set = [wt_sq]\n",
    "\n",
    "for mutant in unique_mutations:\n",
    "    sq_test_set.append(make_mutant_sq(wt_sq, mutant))"
   ]
  },
  {
   "cell_type": "code",
   "execution_count": 6,
   "metadata": {
    "collapsed": true
   },
   "outputs": [],
   "source": [
    "#creating the initial 0-filled carcas of unfolded versions of sqs, which will be further turned into binary matricies of shape 238 by 20 (aas)\n",
    "unfolded_df = OrderedDict()\n",
    "\n",
    "for aa in set([item[-1] for sublist in unique_mutations for item in sublist]):\n",
    "    unfolded_df[aa] = np.zeros((len(sq_test_set), len(wt_sq)))\n",
    "\n",
    "#filling the binary matrices, corresponding to 20 different amino acids within the unfoded_df dict\n",
    "\n",
    "for ind,mutant in enumerate(sq_test_set):\n",
    "    for pos,mut in enumerate(mutant):\n",
    "        unfolded_df[mut][ind, pos] = 1."
   ]
  },
  {
   "cell_type": "code",
   "execution_count": 7,
   "metadata": {
    "collapsed": true
   },
   "outputs": [],
   "source": [
    "#stacking all the amino acids into one np array\n",
    "input_df = np.stack(unfolded_df.values(),axis=1)\n",
    "\n",
    "#putting the channel info (amino acids) to the end\n",
    "input_df = np.swapaxes(input_df,-1,-2)"
   ]
  },
  {
   "cell_type": "code",
   "execution_count": 8,
   "metadata": {
    "collapsed": true
   },
   "outputs": [],
   "source": [
    "a = np.load('../tmp/'+experiment+'_predictions.npy')"
   ]
  },
  {
   "cell_type": "code",
   "execution_count": 23,
   "metadata": {
    "scrolled": false
   },
   "outputs": [
    {
     "name": "stdout",
     "output_type": "stream",
     "text": [
      "K1T\t8.0\t3.62977520434\t0.0648078069455\t2.0\n",
      "\n",
      "T60S\t8.0\t3.76956207394\t0.149814676718\t11.0\n",
      "\n",
      "I169H 8.0\n",
      "I169V\t8.0\t3.73328176752\t0.134486394974\t25.0\n",
      "\n",
      "I169S\t8.0\t3.79803541758\t0.0432742939777\t4.0\n",
      "\n",
      "N210D\t8.0\t3.72106800103\t0.0815761600693\t18.0\n",
      "\n",
      "K164E\t8.0\t3.74106939897\t0.096936995744\t32.0\n",
      "\n",
      "K164N\t8.0\t3.72589521566\tnan\t1.0\n",
      "\n",
      "I45V\t8.0\t3.77142177416\t0.0876062093054\t31.0\n",
      "\n",
      "S173N\t8.0\t3.65267676782\t0.0882553621266\t3.0\n",
      "\n",
      "S173G\t9.0\t3.75204274795\t0.0954394777939\t42.0\n",
      "\n",
      "N162F 8.0\n",
      "Y37S\t8.0\t3.85008641169\t0.127413785544\t2.0\n",
      "\n",
      "Y235S 8.0\n",
      "Y235D\t8.0\t3.75410080307\tnan\t1.0\n",
      "\n",
      "K160G 8.0\n",
      "A204T\t8.0\t3.81968408211\t0.117514219338\t3.0\n",
      "\n",
      "H229L\t8.0\t3.67780487734\t0.0888658082777\t9.0\n",
      "\n",
      "K212M\t8.0\t3.67766456215\t0.116066304645\t12.0\n",
      "\n",
      "M231T\t8.0\t3.73130180581\t0.0908269080725\t27.0\n",
      "\n",
      "K156M\t8.0\t3.72514961562\t0.0816103311009\t16.0\n",
      "\n",
      "T7N 8.0\n",
      "L234V\t8.0\t3.69366814543\t0.0499395372263\t3.0\n",
      "\n",
      "K99E\t10.0\t3.71281118421\t0.0866635653956\t35.0\n",
      "\n",
      "E233A\t8.0\t3.63512169662\tnan\t1.0\n",
      "\n",
      "E233D\t8.0\t3.5195049389\tnan\t1.0\n",
      "\n",
      "D127G\t8.0\t3.80426995512\t0.0930126084003\t28.0\n",
      "\n",
      "V161A\t10.0\t3.83302111518\t0.0925301935924\t33.0\n",
      "\n",
      "V161G\t8.0\t3.65712940273\t0.160766650866\t6.0\n",
      "\n",
      "D195Y\t8.0\t3.59250950361\t0.0692654187773\t3.0\n",
      "\n",
      "I126Y 8.0\n",
      "I126F\t9.0\t3.76296241032\t0.0889255771418\t15.0\n",
      "\n",
      "E170V\t8.0\t3.67596523508\t0.105505307343\t8.0\n",
      "\n",
      "K164T\t8.0\t3.73282242636\t0.0405056989121\t3.0\n",
      "\n",
      "K164R\t8.0\t3.73976317423\t0.121961309785\t29.0\n",
      "\n",
      "A85S\t8.0\t3.74051993907\t0.139358778545\t3.0\n",
      "\n",
      "Q182R\t8.0\t3.74468809808\t0.126901695396\t37.0\n",
      "\n",
      "I165V\t8.0\t3.7155201633\t0.0849708521871\t36.0\n",
      "\n",
      "Q202R\t8.0\t3.69684770524\t0.0924117625193\t19.0\n",
      "\n",
      "E3V\t8.0\t3.69078672386\t0.0896480940143\t14.0\n",
      "\n"
     ]
    }
   ],
   "source": [
    "f = open('../tmp/'+experiment+'_best_predicted_mutations.txt','w') \n",
    "f.write('Mutation\\tTimesPredicted\\tTrueBrightness\\tStD\\tUniqueBarcodes\\n')\n",
    "\n",
    "for i in range(len(unique_mutations)):\n",
    "    test = sum(a[i+1])\n",
    "    if test>=8 and len(input_data.initial_df[input_data.initial_df['aaMutations'] == 'S'+unique_mutations[i][0]])>0:\n",
    "        print (unique_mutations[i][0]+'\\t'+str(test)+'\\t'+str(float(input_data.initial_df['medianBrightness'][input_data.initial_df['aaMutations'] == 'S'+unique_mutations[i][0]]))+'\\t'+str(float(input_data.initial_df['std'][input_data.initial_df['aaMutations'] == 'S'+unique_mutations[i][0]]))+'\\t'+str(float(input_data.initial_df['uniqueBarcodes'][input_data.initial_df['aaMutations'] == 'S'+unique_mutations[i][0]]))+'\\n')\n",
    "        f.write(unique_mutations[i][0]+'\\t'+str(test)+'\\t'+str(float(input_data.initial_df['medianBrightness'][input_data.initial_df['aaMutations'] == 'S'+unique_mutations[i][0]]))+'\\t'+str(float(input_data.initial_df['std'][input_data.initial_df['aaMutations'] == 'S'+unique_mutations[i][0]]))+'\\t'+str(float(input_data.initial_df['uniqueBarcodes'][input_data.initial_df['aaMutations'] == 'S'+unique_mutations[i][0]]))+'\\n')\n",
    "    \n",
    "    elif test>=8 and len(input_data.initial_df[input_data.initial_df['aaMutations'] == 'S'+unique_mutations[i][0]])==0:\n",
    "        print unique_mutations[i][0], test\n",
    "    \n",
    "f.close()"
   ]
  },
  {
   "cell_type": "code",
   "execution_count": 9,
   "metadata": {
    "collapsed": true
   },
   "outputs": [],
   "source": []
  },
  {
   "cell_type": "code",
   "execution_count": null,
   "metadata": {
    "collapsed": true
   },
   "outputs": [],
   "source": []
  }
 ],
 "metadata": {
  "kernelspec": {
   "display_name": "Python 2",
   "language": "python",
   "name": "python2"
  },
  "language_info": {
   "codemirror_mode": {
    "name": "ipython",
    "version": 2
   },
   "file_extension": ".py",
   "mimetype": "text/x-python",
   "name": "python",
   "nbconvert_exporter": "python",
   "pygments_lexer": "ipython2",
   "version": "2.7.13"
  }
 },
 "nbformat": 4,
 "nbformat_minor": 2
}
