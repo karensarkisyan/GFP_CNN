{
 "cells": [
  {
   "cell_type": "code",
   "execution_count": 1,
   "metadata": {
    "collapsed": true
   },
   "outputs": [],
   "source": [
    "import numpy as np\n",
    "from itertools import combinations\n",
    "from matplotlib import cm\n",
    "from __future__ import division\n",
    "import pandas as pd \n",
    "import matplotlib.pyplot as plt\n",
    "from scipy import sparse \n",
    "import seaborn as sns\n",
    "sns.set(rc={'axes.facecolor':'#F5F5F5'})\n",
    "%matplotlib inline\n",
    "\n",
    "from sklearn.model_selection import KFold,cross_val_score\n",
    "from sklearn.model_selection import StratifiedShuffleSplit,StratifiedKFold\n",
    "from sklearn.ensemble import RandomForestClassifier,AdaBoostClassifier,ExtraTreesClassifier\n",
    "from sklearn.tree import DecisionTreeRegressor,DecisionTreeClassifier\n",
    "from sklearn.preprocessing import StandardScaler,MinMaxScaler,maxabs_scale\n",
    "from sklearn.linear_model import LogisticRegression\n",
    "from sklearn.svm import SVC,NuSVC,SVR,NuSVR\n",
    "from sklearn.model_selection import GridSearchCV\n",
    "from sklearn import metrics\n",
    "from sklearn import neighbors\n",
    "from sklearn.decomposition import TruncatedSVD\n",
    "\n",
    "from time import time"
   ]
  },
  {
   "cell_type": "markdown",
   "metadata": {},
   "source": [
    "# Importing data"
   ]
  },
  {
   "cell_type": "code",
   "execution_count": 2,
   "metadata": {
    "collapsed": true
   },
   "outputs": [],
   "source": [
    "# Function to load csr matrix of samples and list of colnames from file\n",
    "def load_csr_from_csv(filename):\n",
    "    indices = np.loadtxt(filename+\"_indices.csv\",unpack=True,delimiter=\",\")\n",
    "    indptr = np.loadtxt(filename+\"_indptr.csv\",unpack=True,delimiter=\",\")\n",
    "    shape = np.loadtxt(filename+\"_shape.csv\",unpack=True,delimiter=\",\")\n",
    "    col_names = np.loadtxt(filename+\"_col_names.csv\",unpack=True,delimiter=\",\",dtype=str)\n",
    "    data = np.ones_like(indices,dtype=np.int8)\n",
    "    \n",
    "    return sparse.csr_matrix((data, indices, indptr),\n",
    "                         shape = shape),col_names"
   ]
  },
  {
   "cell_type": "code",
   "execution_count": 3,
   "metadata": {
    "collapsed": true
   },
   "outputs": [],
   "source": [
    "# returns the csr matrix of samples and list of colnames\n",
    "def load_csr_from_csv_with_data(filename):\n",
    "    data = np.loadtxt(filename+\"_data.csv\",unpack=True,delimiter=\",\",dtype=np.int8)\n",
    "    indices = np.loadtxt(filename+\"_indices.csv\",unpack=True,delimiter=\",\")\n",
    "    indptr = np.loadtxt(filename+\"_indptr.csv\",unpack=True,delimiter=\",\")\n",
    "    shape = np.loadtxt(filename+\"_shape.csv\",unpack=True,delimiter=\",\")\n",
    "    col_names = np.loadtxt(filename+\"_col_names.csv\",unpack=True,delimiter=\",\",dtype=str)\n",
    "    \n",
    "    return sparse.csr_matrix((data, indices, indptr),\n",
    "                         shape = shape),col_names"
   ]
  },
  {
   "cell_type": "code",
   "execution_count": 4,
   "metadata": {
    "collapsed": false
   },
   "outputs": [
    {
     "name": "stdout",
     "output_type": "stream",
     "text": [
      "Total number of mutants: 54025\n",
      "Fraction of positive samples: 0.34\n"
     ]
    }
   ],
   "source": [
    "# load the target values of brightness and create a binary vector \n",
    "# with 1 for samples with brightness above threshold and 0 otherwise\n",
    "y,std = np.loadtxt(\"target_values.csv\",unpack=True,delimiter=\",\")\n",
    "\n",
    "threshold = 0.95 #threshold for target values\n",
    "\n",
    "y_bin = np.where(y >= y[0]*threshold,1,0) # binary respresentation of target values based on threshold\n",
    "\n",
    "class_weights = (y_bin.sum()*1./(y_bin.shape[0]-y_bin.sum())*1.,1.)\n",
    " \n",
    "print \"Total number of mutants: %d\"%y.shape[0]\n",
    "print \"Fraction of positive samples: %.2f\"%(y_bin.sum()*1./y_bin.shape[0])"
   ]
  },
  {
   "cell_type": "code",
   "execution_count": 5,
   "metadata": {
    "collapsed": true
   },
   "outputs": [],
   "source": [
    "sample_weights = np.loadtxt(\"sample_weights.csv\",delimiter=\",\")\n",
    "sample_weights = np.log10(sample_weights*10)\n",
    "sample_weights = (sample_weights/sample_weights.max()).reshape(-1)"
   ]
  },
  {
   "cell_type": "code",
   "execution_count": 6,
   "metadata": {
    "collapsed": false
   },
   "outputs": [
    {
     "name": "stdout",
     "output_type": "stream",
     "text": [
      "(54025, 1879)\n"
     ]
    }
   ],
   "source": [
    "# Load the full mutation list dataset with column names from file\n",
    "X, col_names = load_csr_from_csv(\"sparse_csr\")\n",
    "print X.shape"
   ]
  },
  {
   "cell_type": "code",
   "execution_count": 7,
   "metadata": {
    "collapsed": false
   },
   "outputs": [],
   "source": [
    "# Retrieve all the mutants with single mutations \n",
    "# and create the look up table for this single mutations\n",
    "single_mutations = {}\n",
    "single_mut_idx = []\n",
    "\n",
    "for i in xrange(X.shape[0]):\n",
    "    if X.getrow(i).indices.shape[0] == 1: #how many mutations in this mutant? one?\n",
    "        index = X.getrow(i).indices[0]\n",
    "        mutation = col_names[index]\n",
    "#         print mutation, i\n",
    "        if mutation not in single_mutations:\n",
    "            single_mutations[mutation] = {\"id\":index,\"mutants\":[i]}\n",
    "            single_mut_idx.append(i)\n",
    "        else:\n",
    "            single_mutations[mutation][\"mutants\"].append(i)\n",
    "            \n",
    "            "
   ]
  },
  {
   "cell_type": "code",
   "execution_count": 8,
   "metadata": {
    "collapsed": false
   },
   "outputs": [
    {
     "name": "stdout",
     "output_type": "stream",
     "text": [
      "Total number of single mutation mutants: 1114\n"
     ]
    }
   ],
   "source": [
    "print \"Total number of single mutation mutants: %d\" % len(single_mut_idx)"
   ]
  },
  {
   "cell_type": "markdown",
   "metadata": {},
   "source": [
    "# SVM"
   ]
  },
  {
   "cell_type": "code",
   "execution_count": 9,
   "metadata": {
    "collapsed": false
   },
   "outputs": [
    {
     "data": {
      "text/plain": [
       "array([    0,     2,     6, ..., 54017, 54018, 54019])"
      ]
     },
     "execution_count": 9,
     "metadata": {},
     "output_type": "execute_result"
    }
   ],
   "source": [
    "skf = StratifiedKFold(n_splits=5,shuffle=True)\n",
    "train_idx,test_idx = skf.split(X,y_bin).next()\n",
    "test_idx.shape\n",
    "x,y = X[test_idx,:],y_bin[test_idx]\n",
    "x.shape\n",
    "test_idx"
   ]
  },
  {
   "cell_type": "markdown",
   "metadata": {},
   "source": [
    "#### Grid search"
   ]
  },
  {
   "cell_type": "code",
   "execution_count": null,
   "metadata": {
    "collapsed": false
   },
   "outputs": [],
   "source": [
    "# print \"Running SVM parameter grid search...\"\n",
    "# t1 = time()\n",
    "# clf = SVC(class_weight={0:class_weights[0],1:class_weights[1]})\n",
    "# #print rf.get_params()\n",
    "# parameters = {\"C\":(.1,10,100),\"gamma\":(0.01,.1,1)}\n",
    "# clf = GridSearchCV(clf,param_grid=parameters,cv = 5,n_jobs=-1,\\\n",
    "#                    fit_params={'sample_weight':sample_weights[test_idx]})\n",
    "# clf.fit(x,y)\n",
    "# print \"Time taken: %.f s\"%(time()-t1)\n",
    "\n",
    "# print clf.best_params_,clf.best_score_\n",
    "# cv_results = pd.DataFrame(clf.cv_results_)\n",
    "# cv_results.sort_values(by=\"rank_test_score\").sort_values(by=\"rank_test_score\")\n",
    "# cv_results[['params',\"mean_test_score\",\"std_test_score\",'rank_test_score','mean_fit_time']].sort_values(by=\"rank_test_score\")"
   ]
  },
  {
   "cell_type": "markdown",
   "metadata": {},
   "source": [
    "#### Training SVC"
   ]
  },
  {
   "cell_type": "code",
   "execution_count": 10,
   "metadata": {
    "collapsed": false
   },
   "outputs": [
    {
     "name": "stdout",
     "output_type": "stream",
     "text": [
      "Training SVM...\n",
      "Time taken: 1277\n"
     ]
    }
   ],
   "source": [
    "# # train the classifer using full data set\n",
    "print \"Training SVM...\"\n",
    "t1 = time()\n",
    "clf = SVC(C=100,gamma=0.1,class_weight={0:class_weights[0],1:class_weights[1]}, probability = True)\n",
    "clf.fit(X,y_bin,sample_weight = sample_weights)\n",
    "print \"Time taken: %.f\"%(time()-t1)"
   ]
  },
  {
   "cell_type": "code",
   "execution_count": 11,
   "metadata": {
    "collapsed": false
   },
   "outputs": [],
   "source": [
    "yhat = clf.predict(X)"
   ]
  },
  {
   "cell_type": "code",
   "execution_count": 12,
   "metadata": {
    "collapsed": false
   },
   "outputs": [
    {
     "name": "stdout",
     "output_type": "stream",
     "text": [
      "Training Accuracy: 0.97\n"
     ]
    }
   ],
   "source": [
    "print \"Training Accuracy: %.2f\" % metrics.accuracy_score(y_bin, yhat, sample_weight = sample_weights)"
   ]
  },
  {
   "cell_type": "code",
   "execution_count": 13,
   "metadata": {
    "collapsed": false
   },
   "outputs": [
    {
     "data": {
      "text/plain": [
       "array([1, 0, 0, ..., 0, 0, 0])"
      ]
     },
     "execution_count": 13,
     "metadata": {},
     "output_type": "execute_result"
    }
   ],
   "source": [
    "yhat"
   ]
  },
  {
   "cell_type": "markdown",
   "metadata": {},
   "source": [
    "# Assessing quality"
   ]
  },
  {
   "cell_type": "code",
   "execution_count": 18,
   "metadata": {
    "collapsed": false
   },
   "outputs": [
    {
     "data": {
      "image/png": "[encoded data removed]",
      "text/plain": [
       "<matplotlib.figure.Figure at 0x117d3e510>"
      ]
     },
     "metadata": {},
     "output_type": "display_data"
    }
   ],
   "source": [
    "r = 200\n",
    "x = np.arange(r)\n",
    "weight_order = sample_weights.argsort()[::-1]\n",
    "\n",
    "TP = (yhat == y_bin) & (y_bin == 1)\n",
    "TP = TP[weight_order][:r]\n",
    "\n",
    "TN = (yhat == y_bin) & (y_bin == 0)\n",
    "TN = TN[weight_order][:r]\n",
    "\n",
    "FP = (yhat != y_bin) & (yhat == 1)\n",
    "FP = FP[weight_order][:r]\n",
    "\n",
    "FN = (yhat != y_bin) & (yhat == 0)\n",
    "FN = FN[weight_order][:r]\n",
    "\n",
    "F = (yhat != y_bin)\n",
    "F = F[weight_order][:r]\n",
    "\n",
    "T = (yhat == y_bin)\n",
    "T = T[weight_order][:r]\n",
    "\n",
    "plt.figure(figsize = [15,10])\n",
    "plt.plot(x[TP],sample_weights[weight_order][:r][TP].cumsum(),'.')\n",
    "plt.plot(x[TN],sample_weights[weight_order][:r][TN].cumsum(),'.')\n",
    "plt.plot(x[FP],sample_weights[weight_order][:r][FP].cumsum(),'.')\n",
    "plt.plot(x[FN],sample_weights[weight_order][:r][FN].cumsum(),'.')\n",
    "plt.legend(('TP','TN',\"FP\",\"FN\"), loc = 2);"
   ]
  },
  {
   "cell_type": "code",
   "execution_count": 19,
   "metadata": {
    "collapsed": false
   },
   "outputs": [
    {
     "data": {
      "image/png": "[encoded data removed]",
      "text/plain": [
       "<matplotlib.figure.Figure at 0x118afc990>"
      ]
     },
     "metadata": {},
     "output_type": "display_data"
    }
   ],
   "source": [
    "plt.figure(figsize = [15,10])\n",
    "plt.plot(x,TP.cumsum(), '.')\n",
    "plt.plot(x,TN.cumsum(), '.')\n",
    "plt.plot(x,FP.cumsum(), '.')\n",
    "plt.plot(x,FN.cumsum(), '.')\n",
    "plt.legend(('TP','TN',\"FP\",\"FN\"),loc=2)\n",
    "plt.title('Accumulated numbers of TP, TN, FP and FN');"
   ]
  },
  {
   "cell_type": "code",
   "execution_count": 20,
   "metadata": {
    "collapsed": false
   },
   "outputs": [
    {
     "name": "stdout",
     "output_type": "stream",
     "text": [
      "False predictions start at #30 sample weight\n"
     ]
    },
    {
     "data": {
      "image/png": "[encoded data removed]",
      "text/plain": [
       "<matplotlib.figure.Figure at 0x117c79f10>"
      ]
     },
     "metadata": {},
     "output_type": "display_data"
    }
   ],
   "source": [
    "plt.figure(figsize=[15,10])\n",
    "pT = plt.plot(x[T],sample_weights[weight_order][:r][T].cumsum())\n",
    "pF = plt.plot(x[F],sample_weights[weight_order][:r][F].cumsum())\n",
    "print 'False predictions start at #%d sample weight' % x[F][0]\n",
    "\n",
    "plt.legend((pT[0], pF[0]), ('True','False'),loc=2)\n",
    "\n",
    "plt.title(\"Cumulative weight of True and False predictions\")\n",
    "plt.ylabel(\"Cumulative sample weight\")\n",
    "plt.xlabel(\"Mutants in decreasing order of weight\");"
   ]
  },
  {
   "cell_type": "code",
   "execution_count": 21,
   "metadata": {
    "collapsed": false
   },
   "outputs": [],
   "source": [
    "single_mutants_idx = np.asarray((np.sum(X,axis = 1) == 1)).ravel()\n",
    "single_mutation_idx = np.asarray(np.sum(X[single_mutants_idx,:],axis=0) == 1).ravel()\n",
    "single_mutation_idx\n",
    "del single_mutants_idx\n",
    "\n",
    "S = sparse.diags(np.ones(X.shape[1]))"
   ]
  },
  {
   "cell_type": "code",
   "execution_count": 22,
   "metadata": {
    "collapsed": false,
    "scrolled": true
   },
   "outputs": [],
   "source": [
    "hs = clf.predict_proba(S)"
   ]
  },
  {
   "cell_type": "code",
   "execution_count": 23,
   "metadata": {
    "collapsed": false
   },
   "outputs": [
    {
     "name": "stdout",
     "output_type": "stream",
     "text": [
      "198 18\n"
     ]
    }
   ],
   "source": [
    "pos_idx = (hs[:,1]>0.9) & ~single_mutation_idx\n",
    "neg_idx = (hs[:,0]>0.9) & ~single_mutation_idx\n",
    "pos_mutations = zip([col_names[i] for i in xrange(pos_idx.shape[0]) if pos_idx[i]],hs[pos_idx][:,1],np.sum(X[:,pos_idx],axis = 0).tolist()[0])\n",
    "neg_mutations = zip([col_names[i] for i in xrange(neg_idx.shape[0]) if neg_idx[i]],hs[neg_idx][:,0],np.sum(X[:,neg_idx],axis = 0).tolist()[0])\n",
    "print len(pos_mutations),len(neg_mutations)"
   ]
  },
  {
   "cell_type": "markdown",
   "metadata": {},
   "source": [
    "# Generating code for PyMOL"
   ]
  },
  {
   "cell_type": "markdown",
   "metadata": {},
   "source": [
    "bg_color white\n",
    "set surface_quality, 1\n",
    "set transparency, 0.5\n",
    "\n",
    "fetch 2WUR \n",
    "show cartoon, all\n",
    "hide lines, all\n",
    "\n",
    "select waters, name o\n",
    "hide everything, waters\n",
    "\n",
    "select chr, resn GYS\n",
    "\n",
    "color white, all\n",
    "show sticks, chr\n",
    "color green, chr\n",
    "\n",
    "select aa_64_68, resi 64+68\n",
    "select aa_64_68_mainchain, aa_64_68 and name C+CO+CA+N\n",
    "show ribbons, aa_64_68_mainchain"
   ]
  },
  {
   "cell_type": "code",
   "execution_count": 24,
   "metadata": {
    "collapsed": false
   },
   "outputs": [],
   "source": [
    "positions = []\n",
    "for m in pos_mutations[:20]:\n",
    "    position = int(m[0][2:-1])\n",
    "    positions.append(position)"
   ]
  },
  {
   "cell_type": "code",
   "execution_count": 25,
   "metadata": {
    "collapsed": false,
    "scrolled": true
   },
   "outputs": [
    {
     "name": "stdout",
     "output_type": "stream",
     "text": [
      "#75\n",
      "set_color mCol75 = (1.0, 0.0, 1.0)\n",
      "select mSel75, resi 75\n",
      "show spheres, mSel75\n",
      "color mCol75 ,mSel75\n",
      "#76\n",
      "set_color mCol76 = (1.0, 0.0, 1.0)\n",
      "select mSel76, resi 76\n",
      "show spheres, mSel76\n",
      "color mCol76 ,mSel76\n",
      "#105\n",
      "set_color mCol105 = (1.0, 0.0, 1.0)\n",
      "select mSel105, resi 105\n",
      "show spheres, mSel105\n",
      "color mCol105 ,mSel105\n",
      "#132\n",
      "set_color mCol132 = (1.0, 0.0, 1.0)\n",
      "select mSel132, resi 132\n",
      "show spheres, mSel132\n",
      "color mCol132 ,mSel132\n",
      "#149\n",
      "set_color mCol149 = (1.0, 0.0, 1.0)\n",
      "select mSel149, resi 149\n",
      "show spheres, mSel149\n",
      "color mCol149 ,mSel149\n",
      "#154\n",
      "set_color mCol154 = (1.0, 0.0, 1.0)\n",
      "select mSel154, resi 154\n",
      "show spheres, mSel154\n",
      "color mCol154 ,mSel154\n",
      "#154\n",
      "set_color mCol154 = (1.0, 0.0, 1.0)\n",
      "select mSel154, resi 154\n",
      "show spheres, mSel154\n",
      "color mCol154 ,mSel154\n",
      "#154\n",
      "set_color mCol154 = (1.0, 0.0, 1.0)\n",
      "select mSel154, resi 154\n",
      "show spheres, mSel154\n",
      "color mCol154 ,mSel154\n",
      "#155\n",
      "set_color mCol155 = (1.0, 0.0, 1.0)\n",
      "select mSel155, resi 155\n",
      "show spheres, mSel155\n",
      "color mCol155 ,mSel155\n",
      "#159\n",
      "set_color mCol159 = (1.0, 0.0, 1.0)\n",
      "select mSel159, resi 159\n",
      "show spheres, mSel159\n",
      "color mCol159 ,mSel159\n",
      "#159\n",
      "set_color mCol159 = (1.0, 0.0, 1.0)\n",
      "select mSel159, resi 159\n",
      "show spheres, mSel159\n",
      "color mCol159 ,mSel159\n",
      "#173\n",
      "set_color mCol173 = (1.0, 0.0, 1.0)\n",
      "select mSel173, resi 173\n",
      "show spheres, mSel173\n",
      "color mCol173 ,mSel173\n",
      "#185\n",
      "set_color mCol185 = (1.0, 0.0, 1.0)\n",
      "select mSel185, resi 185\n",
      "show spheres, mSel185\n",
      "color mCol185 ,mSel185\n",
      "#189\n",
      "set_color mCol189 = (1.0, 0.0, 1.0)\n",
      "select mSel189, resi 189\n",
      "show spheres, mSel189\n",
      "color mCol189 ,mSel189\n",
      "#190\n",
      "set_color mCol190 = (1.0, 0.0, 1.0)\n",
      "select mSel190, resi 190\n",
      "show spheres, mSel190\n",
      "color mCol190 ,mSel190\n",
      "#191\n",
      "set_color mCol191 = (1.0, 0.0, 1.0)\n",
      "select mSel191, resi 191\n",
      "show spheres, mSel191\n",
      "color mCol191 ,mSel191\n",
      "#204\n",
      "set_color mCol204 = (1.0, 0.0, 1.0)\n",
      "select mSel204, resi 204\n",
      "show spheres, mSel204\n",
      "color mCol204 ,mSel204\n",
      "#229\n",
      "set_color mCol229 = (1.0, 0.0, 1.0)\n",
      "select mSel229, resi 229\n",
      "show spheres, mSel229\n",
      "color mCol229 ,mSel229\n",
      "#230\n",
      "set_color mCol230 = (1.0, 0.0, 1.0)\n",
      "select mSel230, resi 230\n",
      "show spheres, mSel230\n",
      "color mCol230 ,mSel230\n",
      "#235\n",
      "set_color mCol235 = (1.0, 0.0, 1.0)\n",
      "select mSel235, resi 235\n",
      "show spheres, mSel235\n",
      "color mCol235 ,mSel235\n"
     ]
    }
   ],
   "source": [
    "for position in sorted(positions):\n",
    "    color = cm.cool(10.0)\n",
    "    colorName = \"mCol\" + str(position+2)\n",
    "    selName = \"mSel\" + str(position+2)\n",
    "    print '#' + str(position+2)\n",
    "    print \"set_color \" + colorName + \" = \" +str(color[0:3])\n",
    "    print \"select \" + selName +\", resi \" + str(int(position + 2))\n",
    "    print \"show spheres, \" + selName\n",
    "    print \"color \" + colorName + \" ,\" + selName"
   ]
  },
  {
   "cell_type": "markdown",
   "metadata": {},
   "source": [
    "### Making a gif\n",
    "\n",
    "show sticks, qplex\n",
    "show spheres, qplex\n",
    "rotate y,90\n",
    "set sphere_scale, 0.2\n",
    "set stick_radius,0.15\n",
    "bg_color white\n",
    "set antialias,1\n",
    "set depth_cue, 0\n",
    "mset 1 x360\n",
    "util.mroll(1,360,2)\n",
    "set ray_trace_frames=1\n",
    "set cache_frames=0\n",
    "mclear\n",
    "mpng mov"
   ]
  },
  {
   "cell_type": "markdown",
   "metadata": {},
   "source": [
    "# Simultaneous mutations introduction"
   ]
  },
  {
   "cell_type": "code",
   "execution_count": 65,
   "metadata": {
    "collapsed": false,
    "scrolled": true
   },
   "outputs": [],
   "source": [
    "pos_mutations.sort(key=lambda x:x[2],reverse = True)\n",
    "neg_mutations.sort(key=lambda x:x[2],reverse = True)\n",
    "\n",
    "x = np.arange((len(col_names)))\n",
    "top_pos_mut = x[np.in1d(col_names, [mut[0] for mut in pos_mutations[:15]])]"
   ]
  },
  {
   "cell_type": "code",
   "execution_count": 66,
   "metadata": {
    "collapsed": false
   },
   "outputs": [],
   "source": [
    "rows = 100000000\n",
    "test_X = np.zeros((rows, X.shape[1]))"
   ]
  },
  {
   "cell_type": "code",
   "execution_count": 67,
   "metadata": {
    "collapsed": false
   },
   "outputs": [],
   "source": [
    "i = 0\n",
    "\n",
    "for mutant in combinations(top_pos_mut, 10):\n",
    "    for pos in mutant:\n",
    "        test_X[i, pos] = 1\n",
    "    i+=1\n",
    "    \n",
    "test_X = test_X[:i]"
   ]
  },
  {
   "cell_type": "code",
   "execution_count": null,
   "metadata": {
    "collapsed": false
   },
   "outputs": [],
   "source": [
    "hs = clf.predict_proba(test_X)\n",
    "\n",
    "pos_idx = (hs[:,1]>0.9)\n",
    "neg_idx = (hs[:,0]>0.9)\n",
    "df = pd.DataFrame(test_X[pos_idx], columns=col_names)"
   ]
  },
  {
   "cell_type": "code",
   "execution_count": null,
   "metadata": {
    "collapsed": true
   },
   "outputs": [],
   "source": []
  },
  {
   "cell_type": "code",
   "execution_count": null,
   "metadata": {
    "collapsed": true
   },
   "outputs": [],
   "source": []
  },
  {
   "cell_type": "code",
   "execution_count": null,
   "metadata": {
    "collapsed": true
   },
   "outputs": [],
   "source": []
  },
  {
   "cell_type": "code",
   "execution_count": null,
   "metadata": {
    "collapsed": true
   },
   "outputs": [],
   "source": []
  },
  {
   "cell_type": "code",
   "execution_count": null,
   "metadata": {
    "collapsed": true
   },
   "outputs": [],
   "source": []
  },
  {
   "cell_type": "code",
   "execution_count": null,
   "metadata": {
    "collapsed": true
   },
   "outputs": [],
   "source": []
  },
  {
   "cell_type": "code",
   "execution_count": null,
   "metadata": {
    "collapsed": true
   },
   "outputs": [],
   "source": []
  },
  {
   "cell_type": "code",
   "execution_count": null,
   "metadata": {
    "collapsed": true
   },
   "outputs": [],
   "source": []
  },
  {
   "cell_type": "code",
   "execution_count": null,
   "metadata": {
    "collapsed": true
   },
   "outputs": [],
   "source": []
  },
  {
   "cell_type": "code",
   "execution_count": null,
   "metadata": {
    "collapsed": true
   },
   "outputs": [],
   "source": []
  },
  {
   "cell_type": "code",
   "execution_count": null,
   "metadata": {
    "collapsed": true
   },
   "outputs": [],
   "source": []
  },
  {
   "cell_type": "code",
   "execution_count": null,
   "metadata": {
    "collapsed": true
   },
   "outputs": [],
   "source": []
  },
  {
   "cell_type": "code",
   "execution_count": null,
   "metadata": {
    "collapsed": true
   },
   "outputs": [],
   "source": []
  },
  {
   "cell_type": "code",
   "execution_count": null,
   "metadata": {
    "collapsed": true
   },
   "outputs": [],
   "source": []
  },
  {
   "cell_type": "code",
   "execution_count": null,
   "metadata": {
    "collapsed": true
   },
   "outputs": [],
   "source": []
  },
  {
   "cell_type": "code",
   "execution_count": null,
   "metadata": {
    "collapsed": true
   },
   "outputs": [],
   "source": []
  },
  {
   "cell_type": "code",
   "execution_count": null,
   "metadata": {
    "collapsed": true
   },
   "outputs": [],
   "source": []
  },
  {
   "cell_type": "code",
   "execution_count": null,
   "metadata": {
    "collapsed": true
   },
   "outputs": [],
   "source": []
  }
 ],
 "metadata": {
  "anaconda-cloud": {},
  "kernelspec": {
   "display_name": "Python [conda root]",
   "language": "python",
   "name": "conda-root-py"
  },
  "language_info": {
   "codemirror_mode": {
    "name": "ipython",
    "version": 2
   },
   "file_extension": ".py",
   "mimetype": "text/x-python",
   "name": "python",
   "nbconvert_exporter": "python",
   "pygments_lexer": "ipython2",
   "version": "2.7.12"
  }
 },
 "nbformat": 4,
 "nbformat_minor": 1
}
