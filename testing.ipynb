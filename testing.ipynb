{
 "cells": [
  {
   "cell_type": "code",
   "execution_count": 1,
   "metadata": {
    "collapsed": true
   },
   "outputs": [],
   "source": [
    "from collections import OrderedDict\n",
    "from classes import *"
   ]
  },
  {
   "cell_type": "code",
   "execution_count": 9,
   "metadata": {},
   "outputs": [],
   "source": [
    "import pandas as pd\n",
    "import numpy as np\n",
    "\n",
    "l1=[1,2,3,4,5]\n",
    "l2=[7,4,6,45,2]\n",
    "\n",
    "x=pd.DataFrame([l1,l2],columns=[1,2,3,4,5])\n",
    "x.to_csv()"
   ]
  },
  {
   "cell_type": "code",
   "execution_count": 2,
   "metadata": {
    "collapsed": true
   },
   "outputs": [],
   "source": [
    "wt_sq = 'MSKGEELFTGVVPILVELDGDVNGHKFSVSGEGEGDATYGKLTLKFICTTGKLPVPWPTLVTTLSYGVQCFSRYPDHMKQHDFFKSAMPEGYVQERTIFFKDDGNYKTRAEVKFEGDTLVNRIELKGIDFKEDGNILGHKLEYNYNSHNVYIMADKQKNGIKVNFKIRHNIEDGSVQLADHYQQNTPIGDGPVLLPDNHYLSTQSALSKDPNEKRDHMVLLEFVTAAGITHGMDELYK'"
   ]
  },
  {
   "cell_type": "code",
   "execution_count": 3,
   "metadata": {
    "scrolled": false
   },
   "outputs": [
    {
     "name": "stdout",
     "output_type": "stream",
     "text": [
      "ITERATION # 0\n"
     ]
    },
    {
     "name": "stderr",
     "output_type": "stream",
     "text": [
      "functions.py:87: FutureWarning: reshape is deprecated and will raise in a subsequent release. Please use .values.reshape(...) instead\n",
      "  labels=labels.reshape(-1,1)\n",
      "functions.py:90: FutureWarning: reshape is deprecated and will raise in a subsequent release. Please use .values.reshape(...) instead\n",
      "  sample_weights=sample_weights.reshape(-1,1)\n",
      "/nfs/scistore08/kondrgrp/eputints/.local/lib/python2.7/site-packages/sklearn/model_selection/_split.py:2010: FutureWarning: From version 0.21, test_size will always complement train_size unless both are specified.\n",
      "  FutureWarning)\n"
     ]
    },
    {
     "name": "stdout",
     "output_type": "stream",
     "text": [
      "Initializing NN\n",
      "Epoch #\t\t\tTrain MSE\t\tTest MSE\n",
      "0\t\t\t2.68\t\t\t2.87\n",
      "Generating data for prediction\n",
      "Deleting input data\n",
      "Restoring session for prediction\n",
      "INFO:tensorflow:Restoring parameters from tmp/20180405-1527/model.ckpt\n",
      "Writing results to file\n"
     ]
    }
   ],
   "source": [
    "num_iter=1\n",
    "mse_train=[]\n",
    "mse_val=[]\n",
    "\n",
    "for it in range(num_iter):\n",
    "    clear_output()\n",
    "    print 'ITERATION #', it\n",
    "    \n",
    "    timestr = time.strftime(\"%Y%m%d-%H%M\")\n",
    "    log_dir = 'tmp/'+timestr+'/'\n",
    "\n",
    "    if not os.path.exists(log_dir):\n",
    "        os.makedirs(log_dir)\n",
    "\n",
    "    num_scales=int(it/3)+1\n",
    "    block_repeats=3\n",
    "    NN_name='ResNet'\n",
    "    mode='gpu'\n",
    "    kernel_size=3\n",
    "    pool_size=3\n",
    "    weight_decay=0.1\n",
    "    keep_prob=0.9\n",
    "\n",
    "    n_epoch=10\n",
    "    \n",
    "    reset_graph()\n",
    "\n",
    "    f='data/amino_acid_genotypes_to_brightness.txt'\n",
    "    batch_size,zero_sample_fraction = 100, 0.5\n",
    "\n",
    "    input_data = Data(file_path=f,batch_size=batch_size,zero_sample_fraction=zero_sample_fraction, zeroing=True)\n",
    "    \n",
    "    nn_instance = ResNet(input_data, num_scales, block_repeats, NN_name, mode,\n",
    "                     kernel_size, pool_size, weight_decay, keep_prob, n_epoch)\n",
    "    \n",
    "    train_mse_hist, val_mse_hist = train_NN(nn_instance, input_data, 20, log_dir)\n",
    "    \n",
    "    mse_train.append(train_mse_hist[-1])\n",
    "    mse_val.append(val_mse_hist[-1])\n",
    "    \n",
    "    if it==0:\n",
    "        print 'Generating data for prediction'\n",
    "        \n",
    "        wt_sq = 'MSKGEELFTGVVPILVELDGDVNGHKFSVSGEGEGDATYGKLTLKFICTTGKLPVPWPTLVTTLSYGVQCFSRYPDHMKQHDFFKSAMPEGYVQERTIFFKDDGNYKTRAEVKFEGDTLVNRIELKGIDFKEDGNILGHKLEYNYNSHNVYIMADKQKNGIKVNFKIRHNIEDGSVQLADHYQQNTPIGDGPVLLPDNHYLSTQSALSKDPNEKRDHMVLLEFVTAAGITHGMDELYK'\n",
    "        unique_mutations = []\n",
    "        for mut in input_data.mutant_list:\n",
    "            unique_mutations.extend(mut)\n",
    "\n",
    "        unique_mutations = [[x] for x in set(unique_mutations)]\n",
    "        \n",
    "        #start the list with a wild-type\n",
    "        sq_test_set = [wt_sq]\n",
    "\n",
    "        for mutant in unique_mutations:\n",
    "            sq_test_set.append(make_mutant_sq(wt_sq, mutant))\n",
    "            \n",
    "        #creating the initial 0-filled carcas of unfolded versions of sqs, which will be further turned into binary matricies of shape 238 by 20 (aas)\n",
    "        unfolded_df = OrderedDict()\n",
    "\n",
    "        for aa in set([item[-1] for sublist in unique_mutations for item in sublist]):\n",
    "            unfolded_df[aa] = np.zeros((len(sq_test_set), len(wt_sq)))\n",
    "\n",
    "        #filling the binary matrices, corresponding to 20 different amino acids within the unfoded_df dict\n",
    "\n",
    "        for ind,mutant in enumerate(sq_test_set):\n",
    "            for pos,mut in enumerate(mutant):\n",
    "                unfolded_df[mut][ind, pos] = 1.  \n",
    "                \n",
    "        #stacking all the amino acids into one np array\n",
    "        input_df = np.stack(unfolded_df.values(),axis=1)\n",
    "\n",
    "        #putting the channel info (amino acids) to the end\n",
    "        input_df = np.swapaxes(input_df,-1,-2)\n",
    "    \n",
    "    print 'Deleting input data'\n",
    "    del input_data\n",
    "    \n",
    "    print 'Restoring session for prediction'\n",
    "    with tf.Session() as sess:\n",
    "    \n",
    "        saver = tf.train.Saver()\n",
    "        saver.restore(sess, log_dir+\"model.ckpt\")\n",
    "        predictions_test = sess.run(nn_instance.preds_val,{nn_instance.x_val_ph:input_df})\n",
    "        \n",
    "    if it==0:\n",
    "        recording_predictions = np.zeros(shape=[len(input_df), num_iter])\n",
    "        \n",
    "    for i,val in enumerate(predictions_test):\n",
    "        if val[0] > 3.72:\n",
    "            recording_predictions[i,it]=1\n",
    "            \n",
    "    print 'Writing results to file'\n",
    "    np.save('tmp/recorded_predictions_increasing_block_repeats.npy',recording_predictions)\n",
    "    \n",
    "plt.figure(figsize=[10,8])\n",
    "plt.plot([int(x/3)+1 for x in range(len(mse_train))],mse_train,'ok',label='Train',ms=10)\n",
    "plt.plot([int(x/3)+1 for x in range(len(mse_val))],mse_val,'ob',label='Test',ms=10)\n",
    "plt.ylabel('MSE',fontsize=20)\n",
    "plt.xlabel('Number of blocks',fontsize=20)\n",
    "plt.legend()\n",
    "plt.grid('k',lw=0.5)\n",
    "plt.savefig('model_reproducibility.pdf')"
   ]
  },
  {
   "cell_type": "code",
   "execution_count": 15,
   "metadata": {},
   "outputs": [
    {
     "data": {
      "image/png": "[encoded data removed]",
      "text/plain": [
       "<matplotlib.figure.Figure at 0x2b254d417950>"
      ]
     },
     "metadata": {},
     "output_type": "display_data"
    }
   ],
   "source": []
  },
  {
   "cell_type": "code",
   "execution_count": 5,
   "metadata": {
    "collapsed": true
   },
   "outputs": [],
   "source": [
    "%matplotlib inline"
   ]
  },
  {
   "cell_type": "code",
   "execution_count": null,
   "metadata": {
    "collapsed": true
   },
   "outputs": [],
   "source": []
  }
 ],
 "metadata": {
  "kernelspec": {
   "display_name": "Python 2",
   "language": "python",
   "name": "python2"
  },
  "language_info": {
   "codemirror_mode": {
    "name": "ipython",
    "version": 2
   },
   "file_extension": ".py",
   "mimetype": "text/x-python",
   "name": "python",
   "nbconvert_exporter": "python",
   "pygments_lexer": "ipython2",
   "version": "2.7.13"
  }
 },
 "nbformat": 4,
 "nbformat_minor": 2
}
