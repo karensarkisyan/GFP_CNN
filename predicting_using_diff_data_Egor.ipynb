{
 "cells": [
  {
   "cell_type": "markdown",
   "metadata": {},
   "source": [
    "## To do\n",
    "- Try extra trees on location based dataset\n",
    "\n",
    "## Done\n",
    "- compared a single decision tree on both full mutation and location based datasets, results are the same\n",
    "- sort the aa based on BLOSUM62 and check the random forest\n",
    "- create aa swap based dataset and run decision tree on it\n",
    "- Do a parameter grid search on Random Forest on location and mutation based dataset"
   ]
  },
  {
   "cell_type": "code",
   "execution_count": 70,
   "metadata": {
    "collapsed": false
   },
   "outputs": [],
   "source": [
    "import numpy as np\n",
    "import pandas as pd \n",
    "import matplotlib.pyplot as plt\n",
    "from scipy import sparse \n",
    "import seaborn as sns\n",
    "sns.set(rc={'axes.facecolor':'#F5F5F5'})\n",
    "%matplotlib inline\n",
    "\n",
    "from sklearn.model_selection import KFold,cross_val_score\n",
    "from sklearn.model_selection import StratifiedShuffleSplit,StratifiedKFold\n",
    "from sklearn.ensemble import RandomForestClassifier,AdaBoostClassifier,ExtraTreesClassifier\n",
    "from sklearn.tree import DecisionTreeRegressor,DecisionTreeClassifier\n",
    "from sklearn.preprocessing import StandardScaler,MinMaxScaler,maxabs_scale\n",
    "from sklearn.linear_model import LogisticRegression\n",
    "from sklearn.svm import SVC,NuSVC,SVR,NuSVR\n",
    "from sklearn.model_selection import GridSearchCV\n",
    "from sklearn import metrics\n",
    "from sklearn import neighbors\n",
    "from sklearn.decomposition import TruncatedSVD\n",
    "\n",
    "from time import time"
   ]
  },
  {
   "cell_type": "markdown",
   "metadata": {},
   "source": [
    "----------------------------------------------------------------------------------------------------------------------"
   ]
  },
  {
   "cell_type": "markdown",
   "metadata": {},
   "source": [
    "# Importing data"
   ]
  },
  {
   "cell_type": "code",
   "execution_count": 2,
   "metadata": {
    "collapsed": true
   },
   "outputs": [],
   "source": [
    "# Function to load csr matrix of samples and list of colnames from file\n",
    "def load_csr_from_csv(filename):\n",
    "    indices = np.loadtxt(filename+\"_indices.csv\",unpack=True,delimiter=\",\")\n",
    "    indptr = np.loadtxt(filename+\"_indptr.csv\",unpack=True,delimiter=\",\")\n",
    "    shape = np.loadtxt(filename+\"_shape.csv\",unpack=True,delimiter=\",\")\n",
    "    col_names = np.loadtxt(filename+\"_col_names.csv\",unpack=True,delimiter=\",\",dtype=str)\n",
    "    data = np.ones_like(indices,dtype=np.int8)\n",
    "    \n",
    "    return sparse.csr_matrix((data, indices, indptr),\n",
    "                         shape = shape),col_names"
   ]
  },
  {
   "cell_type": "code",
   "execution_count": 3,
   "metadata": {
    "collapsed": true
   },
   "outputs": [],
   "source": [
    "# returns the csr matrix of samples and list of colnames\n",
    "def load_csr_from_csv_with_data(filename):\n",
    "    data = np.loadtxt(filename+\"_data.csv\",unpack=True,delimiter=\",\",dtype=np.int8)\n",
    "    indices = np.loadtxt(filename+\"_indices.csv\",unpack=True,delimiter=\",\")\n",
    "    indptr = np.loadtxt(filename+\"_indptr.csv\",unpack=True,delimiter=\",\")\n",
    "    shape = np.loadtxt(filename+\"_shape.csv\",unpack=True,delimiter=\",\")\n",
    "    col_names = np.loadtxt(filename+\"_col_names.csv\",unpack=True,delimiter=\",\",dtype=str)\n",
    "    \n",
    "    return sparse.csr_matrix((data, indices, indptr),\n",
    "                         shape = shape),col_names"
   ]
  },
  {
   "cell_type": "code",
   "execution_count": 4,
   "metadata": {
    "collapsed": false
   },
   "outputs": [
    {
     "name": "stdout",
     "output_type": "stream",
     "text": [
      "Total number of mutants: 54025\n",
      "Fraction of positive smaples: 0.34\n"
     ]
    }
   ],
   "source": [
    "# load the target values of brightness and create a binary vector \n",
    "# with 1 for samples with brightness above threshold and 0 otherwise\n",
    "y,std = np.loadtxt(\"target_values.csv\",unpack=True,delimiter=\",\")\n",
    "\n",
    "threshold = 0.95 #threshold for target values\n",
    "\n",
    "y_bin = np.where(y >= y[0]*threshold,1,0) # binary respresentation of target values based on threshold\n",
    "\n",
    "class_weights = (y_bin.sum()*1./(y_bin.shape[0]-y_bin.sum())*1.,1.)\n",
    " \n",
    "print \"Total number of mutants: %d\"%y.shape[0]\n",
    "print \"Fraction of positive samples: %.2f\"%(y_bin.sum()*1./y_bin.shape[0])"
   ]
  },
  {
   "cell_type": "code",
   "execution_count": 6,
   "metadata": {
    "collapsed": false
   },
   "outputs": [],
   "source": [
    "sample_weights = np.loadtxt(\"sample_weights.csv\",delimiter=\",\")\n",
    "sample_weights = np.log10(sample_weights*10)\n",
    "sample_weights = (sample_weights/sample_weights.max()).reshape(-1)"
   ]
  },
  {
   "cell_type": "code",
   "execution_count": 8,
   "metadata": {
    "collapsed": false
   },
   "outputs": [
    {
     "name": "stdout",
     "output_type": "stream",
     "text": [
      "(54025, 1879)\n"
     ]
    }
   ],
   "source": [
    "# Load the full mutation list dataset with column names from file\n",
    "X, col_names = load_csr_from_csv(\"sparse_csr\")\n",
    "print X.shape"
   ]
  },
  {
   "cell_type": "code",
   "execution_count": 150,
   "metadata": {
    "collapsed": false
   },
   "outputs": [
    {
     "name": "stdout",
     "output_type": "stream",
     "text": [
      "Reading sparse matrix from file took 2.10 seconds.\n",
      "\n"
     ]
    }
   ],
   "source": [
    "# load blossum-based data\n",
    "t1 = time()\n",
    "X_blosum, cols = load_csr_from_csv_with_data(\"loc_blosum\")\n",
    "print \"Reading sparse matrix from file took %0.2f seconds.\\n\"%(time()-t1);"
   ]
  },
  {
   "cell_type": "code",
   "execution_count": 14,
   "metadata": {
    "collapsed": false
   },
   "outputs": [],
   "source": [
    "#Rescaling data to [0,1]\n",
    "X_blosum_scaled = maxabs_scale(X_blosum)"
   ]
  },
  {
   "cell_type": "code",
   "execution_count": 30,
   "metadata": {
    "collapsed": false
   },
   "outputs": [],
   "source": [
    "# Retrieve all the mutants with single mutations \n",
    "# and create the look up table for this single mutations\n",
    "single_mutations = {}\n",
    "single_mut_idx = []\n",
    "\n",
    "for i in xrange(X.shape[0]):\n",
    "    if X.getrow(i).indices.shape[0] == 1: #how many mutations in this mutant? one?\n",
    "        index = X.getrow(i).indices[0]\n",
    "        mutation = col_names[index]\n",
    "#         print mutation, i\n",
    "        if mutation not in single_mutations:\n",
    "            single_mutations[mutation] = {\"id\":index,\"mutants\":[i]}\n",
    "            single_mut_idx.append(i)\n",
    "        else:\n",
    "            single_mutations[mutation][\"mutants\"].append(i)"
   ]
  },
  {
   "cell_type": "code",
   "execution_count": 31,
   "metadata": {
    "collapsed": false
   },
   "outputs": [
    {
     "name": "stdout",
     "output_type": "stream",
     "text": [
      "Total number of single mutation mutants: 1114\n"
     ]
    }
   ],
   "source": [
    "print \"Total number of single mutation mutants: %d\" % len(single_mut_idx)"
   ]
  },
  {
   "cell_type": "markdown",
   "metadata": {},
   "source": [
    "----------------------------------------------------------------------------------------------------------------------"
   ]
  },
  {
   "cell_type": "markdown",
   "metadata": {},
   "source": [
    "# Training Random Forest Classifier"
   ]
  },
  {
   "cell_type": "markdown",
   "metadata": {},
   "source": [
    "<div class=\"alert alert-success\">Location + blosum based dataset</div>"
   ]
  },
  {
   "cell_type": "code",
   "execution_count": 32,
   "metadata": {
    "collapsed": false
   },
   "outputs": [
    {
     "name": "stdout",
     "output_type": "stream",
     "text": [
      "Performing parameter grid search on Random Forest...\n",
      "Time taken: 19.65\n"
     ]
    }
   ],
   "source": [
    "print \"Performing parameter grid search on Random Forest...\"\n",
    "t1 = time()\n",
    "clf = RandomForestClassifier(n_estimators=30, class_weight={0:class_weights[0], 1:class_weights[1]})\n",
    "#print rf.get_params()\n",
    "parameters = {\"max_features\":(10,), \"min_samples_split\":(50,100)}\n",
    "clf = GridSearchCV(clf, parameters,cv = 5,n_jobs=-1)\n",
    "clf.fit(X_blosum_scaled,y_bin)\n",
    "print \"Time taken: %.2f\" % (time()-t1)"
   ]
  },
  {
   "cell_type": "code",
   "execution_count": 33,
   "metadata": {
    "collapsed": false
   },
   "outputs": [
    {
     "name": "stdout",
     "output_type": "stream",
     "text": [
      "{'max_features': 10, 'min_samples_split': 50} 0.820694123091\n"
     ]
    },
    {
     "data": {
      "text/html": [
       "<div>\n",
       "<table border=\"1\" class=\"dataframe\">\n",
       "  <thead>\n",
       "    <tr style=\"text-align: right;\">\n",
       "      <th></th>\n",
       "      <th>params</th>\n",
       "      <th>mean_train_score</th>\n",
       "      <th>mean_test_score</th>\n",
       "      <th>std_test_score</th>\n",
       "      <th>rank_test_score</th>\n",
       "      <th>mean_fit_time</th>\n",
       "    </tr>\n",
       "  </thead>\n",
       "  <tbody>\n",
       "    <tr>\n",
       "      <th>0</th>\n",
       "      <td>{u'max_features': 10, u'min_samples_split': 50}</td>\n",
       "      <td>0.925761</td>\n",
       "      <td>0.820694</td>\n",
       "      <td>0.008667</td>\n",
       "      <td>1</td>\n",
       "      <td>8.395274</td>\n",
       "    </tr>\n",
       "    <tr>\n",
       "      <th>1</th>\n",
       "      <td>{u'max_features': 10, u'min_samples_split': 100}</td>\n",
       "      <td>0.894327</td>\n",
       "      <td>0.819232</td>\n",
       "      <td>0.008481</td>\n",
       "      <td>2</td>\n",
       "      <td>5.071479</td>\n",
       "    </tr>\n",
       "  </tbody>\n",
       "</table>\n",
       "</div>"
      ],
      "text/plain": [
       "                                             params  mean_train_score  \\\n",
       "0   {u'max_features': 10, u'min_samples_split': 50}          0.925761   \n",
       "1  {u'max_features': 10, u'min_samples_split': 100}          0.894327   \n",
       "\n",
       "   mean_test_score  std_test_score  rank_test_score  mean_fit_time  \n",
       "0         0.820694        0.008667                1       8.395274  \n",
       "1         0.819232        0.008481                2       5.071479  "
      ]
     },
     "execution_count": 33,
     "metadata": {},
     "output_type": "execute_result"
    }
   ],
   "source": [
    "#printing the results of grid search\n",
    "print clf.best_params_,clf.best_score_\n",
    "cv_results = pd.DataFrame(clf.cv_results_)\n",
    "cv_results.sort_values(by=\"rank_test_score\").sort_values(by=\"rank_test_score\")\n",
    "cv_results[['params',\"mean_train_score\",\"mean_test_score\",\"std_test_score\",'rank_test_score','mean_fit_time']].sort_values(by=\"rank_test_score\")"
   ]
  },
  {
   "cell_type": "code",
   "execution_count": 34,
   "metadata": {
    "collapsed": false
   },
   "outputs": [],
   "source": [
    "# Running cross validation on Random Forest using cross-validation\n",
    "cv = StratifiedKFold(n_splits=5)\n",
    "clf = RandomForestClassifier(n_estimators=30,max_features= 10,min_samples_split=50,class_weight={0:class_weights[0],1:class_weights[1]})\n",
    "scores = cross_val_score(clf, X_blosum_scaled, y_bin, cv=cv,fit_params={'sample_weight':sample_weights},n_jobs=-1)"
   ]
  },
  {
   "cell_type": "code",
   "execution_count": 35,
   "metadata": {
    "collapsed": false
   },
   "outputs": [
    {
     "name": "stdout",
     "output_type": "stream",
     "text": [
      "[ 0.82704053  0.81545581  0.83146691  0.81601111  0.80831174]\n",
      "Accuracy: 0.82 (+/- 0.017)\n"
     ]
    }
   ],
   "source": [
    "# printing the results of cross-validation\n",
    "print scores\n",
    "print(\"Accuracy: %0.2f (+/- %0.3f)\" % (scores.mean(), scores.std() * 2))"
   ]
  },
  {
   "cell_type": "code",
   "execution_count": 36,
   "metadata": {
    "collapsed": false
   },
   "outputs": [
    {
     "data": {
      "text/plain": [
       "RandomForestClassifier(bootstrap=True,\n",
       "            class_weight={0: 0.51632097448707515, 1: 1.0},\n",
       "            criterion='gini', max_depth=None, max_features=10,\n",
       "            max_leaf_nodes=None, min_impurity_split=1e-07,\n",
       "            min_samples_leaf=1, min_samples_split=50,\n",
       "            min_weight_fraction_leaf=0.0, n_estimators=30, n_jobs=1,\n",
       "            oob_score=False, random_state=None, verbose=0,\n",
       "            warm_start=False)"
      ]
     },
     "execution_count": 36,
     "metadata": {},
     "output_type": "execute_result"
    }
   ],
   "source": [
    "# Train the classifier on the full dataset\n",
    "clf = RandomForestClassifier(n_estimators=30,max_features=10,min_samples_split=50,class_weight={0:class_weights[0],1:class_weights[1]})\n",
    "clf.fit(X_blosum_scaled,y_bin,sample_weight = sample_weights)"
   ]
  },
  {
   "cell_type": "code",
   "execution_count": 37,
   "metadata": {
    "collapsed": false
   },
   "outputs": [
    {
     "name": "stdout",
     "output_type": "stream",
     "text": [
      "Training accuracy: 0.93\n"
     ]
    }
   ],
   "source": [
    "yhat = clf.predict(X_blosum_scaled)\n",
    "print \"Training accuracy: %.2f\"%metrics.accuracy_score(y_bin,yhat,sample_weight = sample_weights)"
   ]
  },
  {
   "cell_type": "markdown",
   "metadata": {},
   "source": [
    "<div class = \"alert alert-danger\" style = \"border-radius:10px\">Best parameters so far: <i>n_estimators=30, max_features= 10, min_samples_split=50</i></div>"
   ]
  },
  {
   "cell_type": "markdown",
   "metadata": {},
   "source": [
    "----------------------------------------------------------------------------------------------------------------------"
   ]
  },
  {
   "cell_type": "markdown",
   "metadata": {},
   "source": [
    "<div class=\"alert alert-success\">Mutation based dataset</div>"
   ]
  },
  {
   "cell_type": "code",
   "execution_count": 54,
   "metadata": {
    "collapsed": false
   },
   "outputs": [
    {
     "name": "stdout",
     "output_type": "stream",
     "text": [
      "Performing parameter grid search on Random Forest...\n",
      "Time taken: 15.58\n"
     ]
    }
   ],
   "source": [
    "print \"Performing parameter grid search on Random Forest...\"\n",
    "t1 = time()\n",
    "clf = RandomForestClassifier(n_estimators=30,class_weight={0:class_weights[0],1:class_weights[1]})\n",
    "#print rf.get_params()\n",
    "parameters = {\"max_features\":(5,10),\"min_samples_split\":(100,)}\n",
    "clf = GridSearchCV(clf, parameters,cv = 5,fit_params={'sample_weight':sample_weights},n_jobs=-1)\n",
    "clf.fit(X,y_bin)\n",
    "print \"Time taken: %.2f\"%(time()-t1)"
   ]
  },
  {
   "cell_type": "code",
   "execution_count": 55,
   "metadata": {
    "collapsed": false
   },
   "outputs": [
    {
     "name": "stdout",
     "output_type": "stream",
     "text": [
      "{'max_features': 5, 'min_samples_split': 100} 0.836112910689\n"
     ]
    },
    {
     "data": {
      "text/html": [
       "<div>\n",
       "<table border=\"1\" class=\"dataframe\">\n",
       "  <thead>\n",
       "    <tr style=\"text-align: right;\">\n",
       "      <th></th>\n",
       "      <th>params</th>\n",
       "      <th>mean_train_score</th>\n",
       "      <th>mean_test_score</th>\n",
       "      <th>std_test_score</th>\n",
       "      <th>rank_test_score</th>\n",
       "      <th>mean_fit_time</th>\n",
       "    </tr>\n",
       "  </thead>\n",
       "  <tbody>\n",
       "    <tr>\n",
       "      <th>0</th>\n",
       "      <td>{u'max_features': 5, u'min_samples_split': 100}</td>\n",
       "      <td>0.899255</td>\n",
       "      <td>0.836113</td>\n",
       "      <td>0.009742</td>\n",
       "      <td>1</td>\n",
       "      <td>5.575208</td>\n",
       "    </tr>\n",
       "    <tr>\n",
       "      <th>1</th>\n",
       "      <td>{u'max_features': 10, u'min_samples_split': 100}</td>\n",
       "      <td>0.895595</td>\n",
       "      <td>0.831226</td>\n",
       "      <td>0.008812</td>\n",
       "      <td>2</td>\n",
       "      <td>5.740653</td>\n",
       "    </tr>\n",
       "  </tbody>\n",
       "</table>\n",
       "</div>"
      ],
      "text/plain": [
       "                                             params  mean_train_score  \\\n",
       "0   {u'max_features': 5, u'min_samples_split': 100}          0.899255   \n",
       "1  {u'max_features': 10, u'min_samples_split': 100}          0.895595   \n",
       "\n",
       "   mean_test_score  std_test_score  rank_test_score  mean_fit_time  \n",
       "0         0.836113        0.009742                1       5.575208  \n",
       "1         0.831226        0.008812                2       5.740653  "
      ]
     },
     "execution_count": 55,
     "metadata": {},
     "output_type": "execute_result"
    }
   ],
   "source": [
    "print clf.best_params_,clf.best_score_\n",
    "cv_results = pd.DataFrame(clf.cv_results_)\n",
    "cv_results.sort_values(by=\"rank_test_score\")\n",
    "cv_results[['params',\"mean_train_score\",\"mean_test_score\",\"std_test_score\",'rank_test_score','mean_fit_time']].sort_values(by=\"rank_test_score\")"
   ]
  },
  {
   "cell_type": "code",
   "execution_count": 56,
   "metadata": {
    "collapsed": false
   },
   "outputs": [],
   "source": [
    "# cross validation using top \n",
    "cv = StratifiedKFold(n_splits=5)\n",
    "clf = RandomForestClassifier(n_estimators=30,max_features=10,min_samples_split=50,class_weight={0:class_weights[0],1:class_weights[1]})\n",
    "#print clf.get_params()\n",
    "scores = cross_val_score(clf, X, y_bin, cv=cv,fit_params={'sample_weight':sample_weights})"
   ]
  },
  {
   "cell_type": "code",
   "execution_count": 57,
   "metadata": {
    "collapsed": false
   },
   "outputs": [
    {
     "name": "stdout",
     "output_type": "stream",
     "text": [
      "[ 0.84018138  0.82832022  0.83868579  0.81850995  0.83404295]\n",
      "Accuracy: 0.83 (+/- 0.016)\n"
     ]
    }
   ],
   "source": [
    "print scores\n",
    "print(\"Accuracy: %0.2f (+/- %0.3f)\" % (scores.mean(), scores.std() * 2))"
   ]
  },
  {
   "cell_type": "code",
   "execution_count": 58,
   "metadata": {
    "collapsed": false
   },
   "outputs": [
    {
     "name": "stdout",
     "output_type": "stream",
     "text": [
      "RandomForestClassifier(bootstrap=True,\n",
      "            class_weight={0: 0.51632097448707515, 1: 1.0},\n",
      "            criterion='gini', max_depth=None, max_features=10,\n",
      "            max_leaf_nodes=None, min_impurity_split=1e-07,\n",
      "            min_samples_leaf=1, min_samples_split=50,\n",
      "            min_weight_fraction_leaf=0.0, n_estimators=30, n_jobs=1,\n",
      "            oob_score=False, random_state=None, verbose=0,\n",
      "            warm_start=False)\n"
     ]
    }
   ],
   "source": [
    "# train the classifer using full data set\n",
    "clf = RandomForestClassifier(n_estimators=30,min_samples_split=50,max_features=10,class_weight={0:class_weights[0],1:class_weights[1]})\n",
    "print clf.fit(X,y_bin,sample_weight = sample_weights)"
   ]
  },
  {
   "cell_type": "code",
   "execution_count": 59,
   "metadata": {
    "collapsed": false,
    "scrolled": false
   },
   "outputs": [
    {
     "name": "stdout",
     "output_type": "stream",
     "text": [
      "Training accuracy: 0.93\n"
     ]
    }
   ],
   "source": [
    "yhat = clf.predict(X)\n",
    "print \"Training accuracy: %.2f\"%metrics.accuracy_score(y_bin,yhat,sample_weight = sample_weights)"
   ]
  },
  {
   "cell_type": "markdown",
   "metadata": {},
   "source": [
    "----------------------------------------------------------------------------------------------------------------------"
   ]
  },
  {
   "cell_type": "markdown",
   "metadata": {},
   "source": [
    "<div class=\"alert alert-success\">Extra trees classifier (with blossum)</div>"
   ]
  },
  {
   "cell_type": "code",
   "execution_count": 60,
   "metadata": {
    "collapsed": false
   },
   "outputs": [
    {
     "name": "stdout",
     "output_type": "stream",
     "text": [
      "Performing parameter grid search on Extra trees Classifier...\n",
      "Time taken: 34.52\n"
     ]
    }
   ],
   "source": [
    "print \"Performing parameter grid search on Extra trees Classifier...\"\n",
    "t1 = time()\n",
    "clf = ExtraTreesClassifier(n_estimators=30,class_weight={0:class_weights[0],1:class_weights[1]})\n",
    "#print rf.get_params()\n",
    "parameters = {\"max_features\":(10,\"auto\"),\"min_samples_split\":(50,)}\n",
    "clf = GridSearchCV(clf, parameters,cv = 5,n_jobs=-1)#,fit_params={'sample_weight':sample_weights})\n",
    "clf.fit(X_blosum_scaled,y_bin)\n",
    "print \"Time taken: %.2f\"%(time()-t1)"
   ]
  },
  {
   "cell_type": "code",
   "execution_count": 62,
   "metadata": {
    "collapsed": false
   },
   "outputs": [
    {
     "name": "stdout",
     "output_type": "stream",
     "text": [
      "{'max_features': 10, 'min_samples_split': 50} 0.814086071263\n"
     ]
    },
    {
     "data": {
      "text/html": [
       "<div>\n",
       "<table border=\"1\" class=\"dataframe\">\n",
       "  <thead>\n",
       "    <tr style=\"text-align: right;\">\n",
       "      <th></th>\n",
       "      <th>params</th>\n",
       "      <th>mean_train_score</th>\n",
       "      <th>mean_test_score</th>\n",
       "      <th>std_test_score</th>\n",
       "      <th>rank_test_score</th>\n",
       "      <th>mean_fit_time</th>\n",
       "    </tr>\n",
       "  </thead>\n",
       "  <tbody>\n",
       "    <tr>\n",
       "      <th>0</th>\n",
       "      <td>{u'max_features': 10, u'min_samples_split': 50}</td>\n",
       "      <td>0.948292</td>\n",
       "      <td>0.814086</td>\n",
       "      <td>0.011345</td>\n",
       "      <td>1</td>\n",
       "      <td>12.838986</td>\n",
       "    </tr>\n",
       "    <tr>\n",
       "      <th>1</th>\n",
       "      <td>{u'max_features': u'auto', u'min_samples_split...</td>\n",
       "      <td>0.948621</td>\n",
       "      <td>0.811994</td>\n",
       "      <td>0.012034</td>\n",
       "      <td>2</td>\n",
       "      <td>12.966203</td>\n",
       "    </tr>\n",
       "  </tbody>\n",
       "</table>\n",
       "</div>"
      ],
      "text/plain": [
       "                                              params  mean_train_score  \\\n",
       "0    {u'max_features': 10, u'min_samples_split': 50}          0.948292   \n",
       "1  {u'max_features': u'auto', u'min_samples_split...          0.948621   \n",
       "\n",
       "   mean_test_score  std_test_score  rank_test_score  mean_fit_time  \n",
       "0         0.814086        0.011345                1      12.838986  \n",
       "1         0.811994        0.012034                2      12.966203  "
      ]
     },
     "execution_count": 62,
     "metadata": {},
     "output_type": "execute_result"
    }
   ],
   "source": [
    "print clf.best_params_,clf.best_score_\n",
    "cv_results = pd.DataFrame(clf.cv_results_)\n",
    "cv_results.sort_values(by=\"rank_test_score\").sort_values(by=\"rank_test_score\")\n",
    "cv_results[['params',\"mean_train_score\",\"mean_test_score\",\"std_test_score\",'rank_test_score','mean_fit_time']].sort_values(by=\"rank_test_score\")"
   ]
  },
  {
   "cell_type": "code",
   "execution_count": 64,
   "metadata": {
    "collapsed": false,
    "scrolled": false
   },
   "outputs": [
    {
     "name": "stdout",
     "output_type": "stream",
     "text": [
      "Training accuracy: 0.95\n"
     ]
    }
   ],
   "source": [
    "yhat = clf.predict(X_blosum_scaled)\n",
    "print \"Training accuracy: %.2f\"%metrics.accuracy_score(y_bin,yhat,sample_weight = sample_weights)"
   ]
  },
  {
   "cell_type": "markdown",
   "metadata": {},
   "source": [
    "----------------------------------------------------------------------------------------------------------------------"
   ]
  },
  {
   "cell_type": "markdown",
   "metadata": {},
   "source": [
    "<div class=\"alert alert-success\">Extra trees classifier (with mutation-based matrix)</div>"
   ]
  },
  {
   "cell_type": "code",
   "execution_count": 65,
   "metadata": {
    "collapsed": false
   },
   "outputs": [
    {
     "name": "stdout",
     "output_type": "stream",
     "text": [
      "Performing parameter grid search on Extra trees Classifier...\n",
      "Time taken: 36.62\n"
     ]
    }
   ],
   "source": [
    "print \"Performing parameter grid search on Extra trees Classifier...\"\n",
    "t1 = time()\n",
    "clf = ExtraTreesClassifier(n_estimators=30,class_weight={0:class_weights[0],1:class_weights[1]})\n",
    "#print rf.get_params()\n",
    "parameters = {\"max_features\":(10,\"auto\"),\"min_samples_split\":(50,)}\n",
    "clf = GridSearchCV(clf, parameters,cv = 5,n_jobs=-1)#,fit_params={'sample_weight':sample_weights})\n",
    "clf.fit(X,y_bin)\n",
    "print \"Time taken: %.2f\"%(time()-t1)"
   ]
  },
  {
   "cell_type": "code",
   "execution_count": 66,
   "metadata": {
    "collapsed": false
   },
   "outputs": [
    {
     "name": "stdout",
     "output_type": "stream",
     "text": [
      "{'max_features': 10, 'min_samples_split': 50} 0.829282739472\n"
     ]
    },
    {
     "data": {
      "text/html": [
       "<div>\n",
       "<table border=\"1\" class=\"dataframe\">\n",
       "  <thead>\n",
       "    <tr style=\"text-align: right;\">\n",
       "      <th></th>\n",
       "      <th>params</th>\n",
       "      <th>mean_train_score</th>\n",
       "      <th>mean_test_score</th>\n",
       "      <th>std_test_score</th>\n",
       "      <th>rank_test_score</th>\n",
       "      <th>mean_fit_time</th>\n",
       "    </tr>\n",
       "  </thead>\n",
       "  <tbody>\n",
       "    <tr>\n",
       "      <th>0</th>\n",
       "      <td>{u'max_features': 10, u'min_samples_split': 50}</td>\n",
       "      <td>0.961009</td>\n",
       "      <td>0.829283</td>\n",
       "      <td>0.007910</td>\n",
       "      <td>1</td>\n",
       "      <td>14.225754</td>\n",
       "    </tr>\n",
       "    <tr>\n",
       "      <th>1</th>\n",
       "      <td>{u'max_features': u'auto', u'min_samples_split...</td>\n",
       "      <td>0.956872</td>\n",
       "      <td>0.818584</td>\n",
       "      <td>0.008546</td>\n",
       "      <td>2</td>\n",
       "      <td>16.214865</td>\n",
       "    </tr>\n",
       "  </tbody>\n",
       "</table>\n",
       "</div>"
      ],
      "text/plain": [
       "                                              params  mean_train_score  \\\n",
       "0    {u'max_features': 10, u'min_samples_split': 50}          0.961009   \n",
       "1  {u'max_features': u'auto', u'min_samples_split...          0.956872   \n",
       "\n",
       "   mean_test_score  std_test_score  rank_test_score  mean_fit_time  \n",
       "0         0.829283        0.007910                1      14.225754  \n",
       "1         0.818584        0.008546                2      16.214865  "
      ]
     },
     "execution_count": 66,
     "metadata": {},
     "output_type": "execute_result"
    }
   ],
   "source": [
    "print clf.best_params_,clf.best_score_\n",
    "cv_results = pd.DataFrame(clf.cv_results_)\n",
    "cv_results.sort_values(by=\"rank_test_score\").sort_values(by=\"rank_test_score\")\n",
    "cv_results[['params',\"mean_train_score\",\"mean_test_score\",\"std_test_score\",'rank_test_score','mean_fit_time']].sort_values(by=\"rank_test_score\")"
   ]
  },
  {
   "cell_type": "code",
   "execution_count": 68,
   "metadata": {
    "collapsed": false,
    "scrolled": false
   },
   "outputs": [
    {
     "name": "stdout",
     "output_type": "stream",
     "text": [
      "Training accuracy: 0.96\n"
     ]
    }
   ],
   "source": [
    "yhat = clf.predict(X)\n",
    "print \"Training accuracy: %.2f\"%metrics.accuracy_score(y_bin,yhat,sample_weight = sample_weights)"
   ]
  },
  {
   "cell_type": "markdown",
   "metadata": {},
   "source": [
    "----------------------------------------------------------------------------------------------------------------------"
   ]
  },
  {
   "cell_type": "markdown",
   "metadata": {},
   "source": [
    "# Assessing the quality of estimator"
   ]
  },
  {
   "cell_type": "code",
   "execution_count": 124,
   "metadata": {
    "collapsed": false
   },
   "outputs": [
    {
     "data": {
      "image/png": "[encoded data removed]",
      "text/plain": [
       "<matplotlib.figure.Figure at 0x11f7dfed0>"
      ]
     },
     "metadata": {},
     "output_type": "display_data"
    }
   ],
   "source": [
    "r = 200\n",
    "x = np.arange(r)\n",
    "weight_order = sample_weights.argsort()[::-1]\n",
    "\n",
    "TP = (yhat == y_bin) & (y_bin == 1)\n",
    "TP = TP[weight_order][:r]\n",
    "\n",
    "TN = (yhat == y_bin) & (y_bin == 0)\n",
    "TN = TN[weight_order][:r]\n",
    "\n",
    "FP = (yhat != y_bin) & (yhat == 1)\n",
    "FP = FP[weight_order][:r]\n",
    "\n",
    "FN = (yhat != y_bin) & (yhat == 0)\n",
    "FN = FN[weight_order][:r]\n",
    "\n",
    "F = (yhat != y_bin)\n",
    "F = F[weight_order][:r]\n",
    "\n",
    "T = (yhat == y_bin)\n",
    "T = T[weight_order][:r]\n",
    "\n",
    "plt.figure(figsize = [15,10])\n",
    "plt.plot(x[TP],sample_weights[weight_order][:r][TP].cumsum(),'.')\n",
    "plt.plot(x[TN],sample_weights[weight_order][:r][TN].cumsum(),'.')\n",
    "plt.plot(x[FP],sample_weights[weight_order][:r][FP].cumsum(),'.')\n",
    "plt.plot(x[FN],sample_weights[weight_order][:r][FN].cumsum(),'.')\n",
    "plt.legend(('TP','TN',\"FP\",\"FN\"), loc = 2);"
   ]
  },
  {
   "cell_type": "code",
   "execution_count": 126,
   "metadata": {
    "collapsed": false
   },
   "outputs": [
    {
     "data": {
      "image/png": "[encoded data removed]",
      "text/plain": [
       "<matplotlib.figure.Figure at 0x11def1fd0>"
      ]
     },
     "metadata": {},
     "output_type": "display_data"
    }
   ],
   "source": [
    "plt.figure(figsize = [15,10])\n",
    "plt.plot(x,TP.cumsum())\n",
    "plt.plot(x,TN.cumsum())\n",
    "plt.plot(x,FP.cumsum())\n",
    "plt.plot(x,FN.cumsum())\n",
    "plt.legend(('TP','TN',\"FP\",\"FN\"),loc=2)\n",
    "plt.title('Accumulated numbers of TP, TN, FP and FN');"
   ]
  },
  {
   "cell_type": "code",
   "execution_count": 130,
   "metadata": {
    "collapsed": false
   },
   "outputs": [
    {
     "name": "stdout",
     "output_type": "stream",
     "text": [
      "False predictions start at #75 sample weight\n"
     ]
    },
    {
     "data": {
      "image/png": "[encoded data removed]",
      "text/plain": [
       "<matplotlib.figure.Figure at 0x11ec67f10>"
      ]
     },
     "metadata": {},
     "output_type": "display_data"
    }
   ],
   "source": [
    "plt.figure(figsize=[15,10])\n",
    "pT = plt.plot(x[T],sample_weights[weight_order][:r][T].cumsum())\n",
    "pF = plt.plot(x[F],sample_weights[weight_order][:r][F].cumsum())\n",
    "print 'False predictions start at #%d sample weight' % x[F][0]\n",
    "\n",
    "plt.legend((pT[0], pF[0]), ('True','False'),loc=2)\n",
    "\n",
    "plt.title(\"Cumulative weight of True and False predictions\")\n",
    "plt.ylabel(\"Cumulative sample weight\")\n",
    "plt.xlabel(\"Mutants in decreasing order of weight\");"
   ]
  },
  {
   "cell_type": "code",
   "execution_count": 142,
   "metadata": {
    "collapsed": false
   },
   "outputs": [
    {
     "data": {
      "image/png": "[encoded data removed]",
      "text/plain": [
       "<matplotlib.figure.Figure at 0x11931b810>"
      ]
     },
     "metadata": {},
     "output_type": "display_data"
    }
   ],
   "source": [
    "swT = sample_weights[weight_order][:r]\n",
    "swT[x[~T]] = 0\n",
    "swT = swT.cumsum()\n",
    "\n",
    "swF = sample_weights[weight_order][:r]\n",
    "swF[x[~F]] = 0\n",
    "swF = swF.cumsum()\n",
    "\n",
    "plt.figure(figsize = [15,10])\n",
    "plt.plot(swT/(swF+swT))\n",
    "plt.plot(swF/(swF+swT))\n",
    "plt.title('Samples weights ')\n",
    "\n",
    "del swF,swT"
   ]
  },
  {
   "cell_type": "markdown",
   "metadata": {},
   "source": [
    "# Predicted mutations"
   ]
  },
  {
   "cell_type": "code",
   "execution_count": 148,
   "metadata": {
    "collapsed": false
   },
   "outputs": [
    {
     "name": "stdout",
     "output_type": "stream",
     "text": [
      "418 92\n",
      "0.369290113449\n"
     ]
    }
   ],
   "source": [
    "t1 = time()\n",
    "single_mutants_idx = np.asarray((np.sum(X,axis = 1) == 1)).ravel()\n",
    "single_mutation_idx = np.asarray(np.sum(X[single_mutants_idx,:],axis=0) == 1).ravel()\n",
    "single_mutation_idx\n",
    "del single_mutants_idx\n",
    "\n",
    "S = sparse.diags(np.ones(X.shape[1]))\n",
    "ys = clf.predict(S)\n",
    "hs = clf.predict_proba(S)\n",
    "pos_idx = (hs[:,1]>0.9) & ~single_mutation_idx\n",
    "neg_idx = (hs[:,0]>0.9) & ~single_mutation_idx\n",
    "pos_mutations = zip([col_names[i] for i in xrange(pos_idx.shape[0]) if pos_idx[i]],hs[pos_idx][:,1],np.sum(X[:,pos_idx],axis = 0).tolist()[0])\n",
    "neg_mutations = zip([col_names[i] for i in xrange(neg_idx.shape[0]) if neg_idx[i]],hs[neg_idx][:,0],np.sum(X[:,neg_idx],axis = 0).tolist()[0])\n",
    "print len(pos_mutations),len(neg_mutations)\n",
    "print time()-t1\n"
   ]
  },
  {
   "cell_type": "code",
   "execution_count": 149,
   "metadata": {
    "collapsed": false
   },
   "outputs": [
    {
     "data": {
      "text/plain": [
       "[('SN210H', 0.99049052973069995, 79L),\n",
       " ('ST184I', 0.9637050065631535, 74L),\n",
       " ('SN103T', 0.99134997529460689, 39L),\n",
       " ('SD232A', 0.96782234560124758, 39L),\n",
       " ('SK156T', 0.98483480816103586, 35L),\n",
       " ('SI227S', 0.97553724096256944, 34L),\n",
       " ('SK124T', 0.97172474031000478, 33L),\n",
       " ('SA152G', 0.98080278109712937, 31L),\n",
       " ('SE32D', 0.91935961854529169, 31L),\n",
       " ('SD19E', 0.98294335602601424, 29L),\n",
       " ('SL13M', 0.93314736132326381, 29L),\n",
       " ('SQ202K', 0.94033649842563938, 27L),\n",
       " ('SK154N', 0.95911633677842334, 26L),\n",
       " ('SQ182H', 0.96018531611206925, 26L),\n",
       " ('SR107L', 0.98553355076188287, 25L),\n",
       " ('SP87T', 0.92643969832316464, 25L),\n",
       " ('SE233*', 0.90629270242652737, 24L),\n",
       " ('SD232E', 0.99086427670095367, 24L),\n",
       " ('SD19Y', 0.97889594578703365, 24L),\n",
       " ('SD188E', 0.97521090416942224, 22L)]"
      ]
     },
     "execution_count": 149,
     "metadata": {},
     "output_type": "execute_result"
    }
   ],
   "source": [
    "pos_mutations.sort(key=lambda x:x[2],reverse = True)\n",
    "neg_mutations.sort(key=lambda x:x[2],reverse = True)\n",
    "pos_mutations[:20]"
   ]
  },
  {
   "cell_type": "code",
   "execution_count": 135,
   "metadata": {
    "collapsed": false
   },
   "outputs": [
    {
     "ename": "AttributeError",
     "evalue": "'GridSearchCV' object has no attribute 'feature_importances_'",
     "output_type": "error",
     "traceback": [
      "\u001b[0;31m---------------------------------------------------------------------------\u001b[0m",
      "\u001b[0;31mAttributeError\u001b[0m                            Traceback (most recent call last)",
      "\u001b[0;32m<ipython-input-135-74f898bb9370>\u001b[0m in \u001b[0;36m<module>\u001b[0;34m()\u001b[0m\n\u001b[1;32m      4\u001b[0m \u001b[0mneg_mutations\u001b[0m \u001b[0;34m=\u001b[0m \u001b[0;34m{\u001b[0m\u001b[0;34m}\u001b[0m\u001b[0;34m\u001b[0m\u001b[0m\n\u001b[1;32m      5\u001b[0m \u001b[0mcount\u001b[0m \u001b[0;34m=\u001b[0m \u001b[0;36m0\u001b[0m\u001b[0;34m\u001b[0m\u001b[0m\n\u001b[0;32m----> 6\u001b[0;31m \u001b[0;32mfor\u001b[0m \u001b[0mi\u001b[0m \u001b[0;32min\u001b[0m \u001b[0mclf\u001b[0m\u001b[0;34m.\u001b[0m\u001b[0mfeature_importances_\u001b[0m\u001b[0;34m.\u001b[0m\u001b[0margsort\u001b[0m\u001b[0;34m(\u001b[0m\u001b[0;34m)\u001b[0m\u001b[0;34m[\u001b[0m\u001b[0;34m:\u001b[0m\u001b[0;34m:\u001b[0m\u001b[0;34m-\u001b[0m\u001b[0;36m1\u001b[0m\u001b[0;34m]\u001b[0m\u001b[0;34m:\u001b[0m\u001b[0;34m\u001b[0m\u001b[0m\n\u001b[0m\u001b[1;32m      7\u001b[0m     \u001b[0;32mif\u001b[0m \u001b[0mcol_names\u001b[0m\u001b[0;34m[\u001b[0m\u001b[0mi\u001b[0m\u001b[0;34m]\u001b[0m \u001b[0;32mnot\u001b[0m \u001b[0;32min\u001b[0m \u001b[0msingle_mutations\u001b[0m\u001b[0;34m:\u001b[0m\u001b[0;34m\u001b[0m\u001b[0m\n\u001b[1;32m      8\u001b[0m         \u001b[0moccurence\u001b[0m \u001b[0;34m=\u001b[0m \u001b[0mX\u001b[0m\u001b[0;34m[\u001b[0m\u001b[0;34m:\u001b[0m\u001b[0;34m,\u001b[0m\u001b[0mi\u001b[0m\u001b[0;34m]\u001b[0m\u001b[0;34m.\u001b[0m\u001b[0msum\u001b[0m\u001b[0;34m(\u001b[0m\u001b[0;34m)\u001b[0m\u001b[0;34m\u001b[0m\u001b[0m\n",
      "\u001b[0;31mAttributeError\u001b[0m: 'GridSearchCV' object has no attribute 'feature_importances_'"
     ]
    }
   ],
   "source": [
    "t1 = time()\n",
    "# predict the category for all possible single mutations available in the dataset\n",
    "pos_mutations = {}\n",
    "neg_mutations = {}\n",
    "count = 0\n",
    "for i in clf.feature_importances_.argsort()[::-1]:\n",
    "    if col_names[i] not in single_mutations:\n",
    "        occurence = X[:,i].sum()\n",
    "        #med_brigtness = np.median(y[X[:,i]>0])\n",
    "        mutation_vector = np.zeros((1,X.shape[1]))\n",
    "        mutation_vector[0,i] = 1\n",
    "        h = clf.predict_proba(mutation_vector)\n",
    "        #print h\n",
    "        if h[0,1] > 0.9:\n",
    "            pos_mutations[col_names[i]] = (h[0][1],occurence,count)\n",
    "            #print count,col_names[i],clf.feature_importances_[i]\n",
    "            #print h\n",
    "        if h[0,0] > 0.9:\n",
    "            neg_mutations[col_names[i]] = (h[0][0],occurence,count)\n",
    "    count += 1\n",
    "   \n",
    "plt.plot(np.sort(clf.feature_importances_)[::-1],\".\")\n",
    "print time()-t1"
   ]
  },
  {
   "cell_type": "code",
   "execution_count": 282,
   "metadata": {
    "collapsed": false
   },
   "outputs": [
    {
     "data": {
      "text/plain": [
       "(1.0, 6, 1749)"
      ]
     },
     "execution_count": 282,
     "metadata": {},
     "output_type": "execute_result"
    }
   ],
   "source": [
    "pos_mutations['SE88Q']"
   ]
  },
  {
   "cell_type": "code",
   "execution_count": 11,
   "metadata": {
    "collapsed": false
   },
   "outputs": [
    {
     "ename": "NameError",
     "evalue": "name 'single_mutations' is not defined",
     "output_type": "error",
     "traceback": [
      "\u001b[0;31m---------------------------------------------------------------------------\u001b[0m",
      "\u001b[0;31mNameError\u001b[0m                                 Traceback (most recent call last)",
      "\u001b[0;32m<ipython-input-11-2bc7ed927cc8>\u001b[0m in \u001b[0;36m<module>\u001b[0;34m()\u001b[0m\n\u001b[1;32m      1\u001b[0m \u001b[0;31m# checking the prediction of classifier on provided set of mutants with single mutations\u001b[0m\u001b[0;34m\u001b[0m\u001b[0;34m\u001b[0m\u001b[0m\n\u001b[1;32m      2\u001b[0m \u001b[0mcount\u001b[0m \u001b[0;34m=\u001b[0m \u001b[0;36m0\u001b[0m\u001b[0;34m\u001b[0m\u001b[0m\n\u001b[0;32m----> 3\u001b[0;31m \u001b[0;32mfor\u001b[0m \u001b[0mmutation\u001b[0m \u001b[0;32min\u001b[0m \u001b[0msingle_mutations\u001b[0m\u001b[0;34m:\u001b[0m\u001b[0;34m\u001b[0m\u001b[0m\n\u001b[0m\u001b[1;32m      4\u001b[0m     \u001b[0mindex\u001b[0m \u001b[0;34m=\u001b[0m \u001b[0msingle_mutations\u001b[0m\u001b[0;34m[\u001b[0m\u001b[0mmutation\u001b[0m\u001b[0;34m]\u001b[0m\u001b[0;34m[\u001b[0m\u001b[0;34m\"id\"\u001b[0m\u001b[0;34m]\u001b[0m\u001b[0;34m\u001b[0m\u001b[0m\n\u001b[1;32m      5\u001b[0m     \u001b[0mmutation_vector\u001b[0m \u001b[0;34m=\u001b[0m \u001b[0mnp\u001b[0m\u001b[0;34m.\u001b[0m\u001b[0mzeros\u001b[0m\u001b[0;34m(\u001b[0m\u001b[0;34m(\u001b[0m\u001b[0;36m1\u001b[0m\u001b[0;34m,\u001b[0m\u001b[0mX\u001b[0m\u001b[0;34m.\u001b[0m\u001b[0mshape\u001b[0m\u001b[0;34m[\u001b[0m\u001b[0;36m1\u001b[0m\u001b[0;34m]\u001b[0m\u001b[0;34m)\u001b[0m\u001b[0;34m)\u001b[0m\u001b[0;34m\u001b[0m\u001b[0m\n",
      "\u001b[0;31mNameError\u001b[0m: name 'single_mutations' is not defined"
     ]
    }
   ],
   "source": [
    "# checking the prediction of classifier on provided set of mutants with single mutations\n",
    "count = 0\n",
    "for mutation in single_mutations:\n",
    "    index = single_mutations[mutation][\"id\"]\n",
    "    mutation_vector = np.zeros((1,X.shape[1]))\n",
    "    mutation_vector[0,index] = 1\n",
    "    yhat = clf.predict(mutation_vector)\n",
    "    h = clf.predict_proba(mutation_vector)\n",
    "    for mutant in single_mutations[mutation][\"mutants\"]:\n",
    "        if yhat == y_bin[mutant]:\n",
    "            count += 1\n",
    "        else:\n",
    "            print \"%d %d %.2f %.2f\" %(yhat[0],y_bin[mutant],h[0][int(yhat[0])],y[mutant]/y[0])\n",
    "\n",
    "#print \"\\nFraction of correct single mutation predictions %.2f\" % (count*1./len(single_mutations.keys()))"
   ]
  },
  {
   "cell_type": "code",
   "execution_count": 232,
   "metadata": {
    "collapsed": false
   },
   "outputs": [
    {
     "name": "stdout",
     "output_type": "stream",
     "text": [
      "97 0.0143104006796\n",
      "24 0.0133195461577\n",
      "80 0.0126326680093\n",
      "118 0.0120769823474\n",
      "82 0.011288892046\n",
      "54 0.00960766825015\n",
      "26 0.00947245560247\n",
      "215 0.00942723966379\n",
      "85 0.00910806818382\n",
      "71 0.0090743748663\n"
     ]
    }
   ],
   "source": [
    "for i in clf.feature_importances_.argsort()[::-1][:10]:\n",
    "    print i,clf.feature_importances_[i]"
   ]
  },
  {
   "cell_type": "code",
   "execution_count": 10,
   "metadata": {
    "collapsed": false,
    "scrolled": true
   },
   "outputs": [
    {
     "data": {
      "text/plain": [
       "DecisionTreeClassifier(class_weight=None, criterion='gini', max_depth=None,\n",
       "            max_features=None, max_leaf_nodes=None,\n",
       "            min_impurity_split=1e-07, min_samples_leaf=1,\n",
       "            min_samples_split=20, min_weight_fraction_leaf=0.0,\n",
       "            presort=False, random_state=None, splitter='best')"
      ]
     },
     "execution_count": 10,
     "metadata": {},
     "output_type": "execute_result"
    }
   ],
   "source": [
    "clf = DecisionTreeClassifier(min_samples_split=20)\n",
    "clf.fit(X_comb,y_bin)"
   ]
  },
  {
   "cell_type": "code",
   "execution_count": 84,
   "metadata": {
    "collapsed": false
   },
   "outputs": [
    {
     "name": "stdout",
     "output_type": "stream",
     "text": [
      "(54025, 100)\n"
     ]
    }
   ],
   "source": [
    "svd = TruncatedSVD(100)\n",
    "Y = svd.fit_transform(X_loc_aa)\n",
    "print Y.shape"
   ]
  },
  {
   "cell_type": "code",
   "execution_count": 107,
   "metadata": {
    "collapsed": false,
    "scrolled": true
   },
   "outputs": [
    {
     "data": {
      "image/png": "[encoded data removed]",
      "text/plain": [
       "<matplotlib.figure.Figure at 0x1221a3dd0>"
      ]
     },
     "metadata": {},
     "output_type": "display_data"
    }
   ],
   "source": [
    "with plt.style.context('seaborn-whitegrid'):\n",
    "    plt.figure(figsize=(6, 4))\n",
    "    for lab, col in zip((1, 0),\n",
    "                        ('green', 'red')):\n",
    "        plt.scatter(Y[y_bin==lab, 1],\n",
    "                    Y[y_bin==lab, 2],\n",
    "                    label=lab,\n",
    "                    c=col,alpha = 0.5)\n",
    "    plt.xlabel('Principal Component 1')\n",
    "    plt.ylabel('Principal Component 2')\n",
    "    plt.legend(loc='lower center')\n",
    "    plt.tight_layout()\n",
    "    plt.show()"
   ]
  },
  {
   "cell_type": "code",
   "execution_count": 50,
   "metadata": {
    "collapsed": false
   },
   "outputs": [],
   "source": [
    "#print svd.explained_variance_ratio_.sum()\n",
    "#eig_pairs = [(svd.explained_variance_ratio_[i],i) for i in range(svd.n_components)]\n",
    "#eig_pairs.sort(key=lambda x:x[0],reverse=True)\n",
    "#for i in range(len(eig_pairs)):\n",
    " #   print eig_pairs[i][0],eig_pairs[i][1]"
   ]
  },
  {
   "cell_type": "code",
   "execution_count": 51,
   "metadata": {
    "collapsed": false
   },
   "outputs": [],
   "source": [
    "#plt.plot(svd.components_[1])\n",
    "#print np.abs(svd.components_[1]).argsort()[::-1][:10]"
   ]
  },
  {
   "cell_type": "markdown",
   "metadata": {},
   "source": [
    "### Applying SVC"
   ]
  },
  {
   "cell_type": "code",
   "execution_count": 151,
   "metadata": {
    "collapsed": false
   },
   "outputs": [
    {
     "data": {
      "text/plain": [
       "array([    7,    15,    16, ..., 54018, 54020, 54023])"
      ]
     },
     "execution_count": 151,
     "metadata": {},
     "output_type": "execute_result"
    }
   ],
   "source": [
    "skf = StratifiedKFold(n_splits=5,shuffle=True)\n",
    "train_idx,test_idx = skf.split(X,y_bin).next()\n",
    "test_idx.shape\n",
    "x,y = X[test_idx,:],y_bin[test_idx]\n",
    "x.shape\n",
    "test_idx"
   ]
  },
  {
   "cell_type": "code",
   "execution_count": 95,
   "metadata": {
    "collapsed": false
   },
   "outputs": [
    {
     "name": "stdout",
     "output_type": "stream",
     "text": [
      "Running SVM...\n",
      "Time taken: 217 s\n"
     ]
    }
   ],
   "source": [
    "print \"Running SVM parameter grid search...\"\n",
    "t1 = time()\n",
    "clf = SVC(class_weight={0:class_weights[0],1:class_weights[1]})\n",
    "#print rf.get_params()\n",
    "parameters = {\"C\":(.1,10,100),\"gamma\":(0.01,.1,1)}\n",
    "clf = GridSearchCV(clf,param_grid=parameters,cv = 5,n_jobs=-1,\\\n",
    "                   fit_params={'sample_weight':sample_weights[test_idx]})\n",
    "clf.fit(x,y)\n",
    "print \"Time taken: %.f s\"%(time()-t1)"
   ]
  },
  {
   "cell_type": "code",
   "execution_count": 96,
   "metadata": {
    "collapsed": false
   },
   "outputs": [
    {
     "name": "stdout",
     "output_type": "stream",
     "text": [
      "{'C': 100, 'gamma': 0.1} 0.794003331483\n"
     ]
    },
    {
     "data": {
      "text/html": [
       "<div>\n",
       "<table border=\"1\" class=\"dataframe\">\n",
       "  <thead>\n",
       "    <tr style=\"text-align: right;\">\n",
       "      <th></th>\n",
       "      <th>params</th>\n",
       "      <th>mean_test_score</th>\n",
       "      <th>std_test_score</th>\n",
       "      <th>rank_test_score</th>\n",
       "      <th>mean_fit_time</th>\n",
       "    </tr>\n",
       "  </thead>\n",
       "  <tbody>\n",
       "    <tr>\n",
       "      <th>7</th>\n",
       "      <td>{u'C': 100, u'gamma': 0.1}</td>\n",
       "      <td>0.794003</td>\n",
       "      <td>0.016011</td>\n",
       "      <td>1</td>\n",
       "      <td>5.090356</td>\n",
       "    </tr>\n",
       "    <tr>\n",
       "      <th>8</th>\n",
       "      <td>{u'C': 100, u'gamma': 1}</td>\n",
       "      <td>0.760689</td>\n",
       "      <td>0.017834</td>\n",
       "      <td>2</td>\n",
       "      <td>13.477114</td>\n",
       "    </tr>\n",
       "    <tr>\n",
       "      <th>4</th>\n",
       "      <td>{u'C': 10, u'gamma': 0.1}</td>\n",
       "      <td>0.734407</td>\n",
       "      <td>0.017664</td>\n",
       "      <td>3</td>\n",
       "      <td>11.208999</td>\n",
       "    </tr>\n",
       "    <tr>\n",
       "      <th>5</th>\n",
       "      <td>{u'C': 10, u'gamma': 1}</td>\n",
       "      <td>0.723950</td>\n",
       "      <td>0.009463</td>\n",
       "      <td>4</td>\n",
       "      <td>11.672227</td>\n",
       "    </tr>\n",
       "    <tr>\n",
       "      <th>6</th>\n",
       "      <td>{u'C': 100, u'gamma': 0.01}</td>\n",
       "      <td>0.705071</td>\n",
       "      <td>0.026588</td>\n",
       "      <td>5</td>\n",
       "      <td>7.180618</td>\n",
       "    </tr>\n",
       "    <tr>\n",
       "      <th>3</th>\n",
       "      <td>{u'C': 10, u'gamma': 0.01}</td>\n",
       "      <td>0.347307</td>\n",
       "      <td>0.001499</td>\n",
       "      <td>6</td>\n",
       "      <td>10.228948</td>\n",
       "    </tr>\n",
       "    <tr>\n",
       "      <th>0</th>\n",
       "      <td>{u'C': 0.1, u'gamma': 0.01}</td>\n",
       "      <td>0.340552</td>\n",
       "      <td>0.000063</td>\n",
       "      <td>7</td>\n",
       "      <td>12.645110</td>\n",
       "    </tr>\n",
       "    <tr>\n",
       "      <th>1</th>\n",
       "      <td>{u'C': 0.1, u'gamma': 0.1}</td>\n",
       "      <td>0.340552</td>\n",
       "      <td>0.000063</td>\n",
       "      <td>7</td>\n",
       "      <td>13.147998</td>\n",
       "    </tr>\n",
       "    <tr>\n",
       "      <th>2</th>\n",
       "      <td>{u'C': 0.1, u'gamma': 1}</td>\n",
       "      <td>0.340552</td>\n",
       "      <td>0.000063</td>\n",
       "      <td>7</td>\n",
       "      <td>16.358358</td>\n",
       "    </tr>\n",
       "  </tbody>\n",
       "</table>\n",
       "</div>"
      ],
      "text/plain": [
       "                        params  mean_test_score  std_test_score  \\\n",
       "7   {u'C': 100, u'gamma': 0.1}         0.794003        0.016011   \n",
       "8     {u'C': 100, u'gamma': 1}         0.760689        0.017834   \n",
       "4    {u'C': 10, u'gamma': 0.1}         0.734407        0.017664   \n",
       "5      {u'C': 10, u'gamma': 1}         0.723950        0.009463   \n",
       "6  {u'C': 100, u'gamma': 0.01}         0.705071        0.026588   \n",
       "3   {u'C': 10, u'gamma': 0.01}         0.347307        0.001499   \n",
       "0  {u'C': 0.1, u'gamma': 0.01}         0.340552        0.000063   \n",
       "1   {u'C': 0.1, u'gamma': 0.1}         0.340552        0.000063   \n",
       "2     {u'C': 0.1, u'gamma': 1}         0.340552        0.000063   \n",
       "\n",
       "   rank_test_score  mean_fit_time  \n",
       "7                1       5.090356  \n",
       "8                2      13.477114  \n",
       "4                3      11.208999  \n",
       "5                4      11.672227  \n",
       "6                5       7.180618  \n",
       "3                6      10.228948  \n",
       "0                7      12.645110  \n",
       "1                7      13.147998  \n",
       "2                7      16.358358  "
      ]
     },
     "execution_count": 96,
     "metadata": {},
     "output_type": "execute_result"
    }
   ],
   "source": [
    "print clf.best_params_,clf.best_score_\n",
    "cv_results = pd.DataFrame(clf.cv_results_)\n",
    "cv_results.sort_values(by=\"rank_test_score\").sort_values(by=\"rank_test_score\")\n",
    "cv_results[['params',\"mean_test_score\",\"std_test_score\",'rank_test_score','mean_fit_time']].sort_values(by=\"rank_test_score\")"
   ]
  },
  {
   "cell_type": "code",
   "execution_count": 155,
   "metadata": {
    "collapsed": false
   },
   "outputs": [
    {
     "name": "stdout",
     "output_type": "stream",
     "text": [
      "Running SVM...\n",
      "Time taken: 274\n"
     ]
    }
   ],
   "source": [
    "# Running\n",
    "print \"Running SVM...\"\n",
    "t1 = time()\n",
    "cv = StratifiedKFold(n_splits=3)\n",
    "clf = SVC(C=100,gamma=0.1,class_weight={0:class_weights[0],1:class_weights[1]})\n",
    "scores = cross_val_score(clf,X, y_bin, cv=cv,n_jobs = -1,fit_params={'sample_weight':sample_weights})\n",
    "print \"Time taken: %.f\"%(time()-t1)"
   ]
  },
  {
   "cell_type": "code",
   "execution_count": 159,
   "metadata": {
    "collapsed": true
   },
   "outputs": [],
   "source": [
    "def cross_validate(clf,X,y,fit_params=None,n_splits = 5):\n",
    "    print \"Running classifier cross-validation...\"\n",
    "    t1 = time()\n",
    "    cv = StratifiedKFold(n_splits=n_splits)\n",
    "    scores = cross_val_score(clf,X,y, cv=cv,n_jobs = -1,fit_params=fit_params)\n",
    "    print \"Time taken: %.f\"%(time()-t1)\n",
    "    return scores"
   ]
  },
  {
   "cell_type": "code",
   "execution_count": 156,
   "metadata": {
    "collapsed": false
   },
   "outputs": [
    {
     "name": "stdout",
     "output_type": "stream",
     "text": [
      "[ 0.85007496  0.85872945  0.87444469]\n",
      "Accuracy: 0.86 (+/- 0.020)\n"
     ]
    }
   ],
   "source": [
    "clf = SVC(C=100,gamma=0.1,class_weight={0:class_weights[0],1:class_weights[1]})\n",
    "scores = cross_validate(clf,fit_params={'sample_weight':sample_weights})    \n",
    "print(\"Accuracy: %0.2f (+/- %0.3f)\" % (scores.mean(), scores.std() * 2))"
   ]
  },
  {
   "cell_type": "code",
   "execution_count": 149,
   "metadata": {
    "collapsed": false
   },
   "outputs": [
    {
     "name": "stdout",
     "output_type": "stream",
     "text": [
      "Training SVM...\n",
      "SVC(C=100, cache_size=200, class_weight={0: 0.51632097448707515, 1: 1.0},\n",
      "  coef0=0.0, decision_function_shape=None, degree=3, gamma=0.1,\n",
      "  kernel='rbf', max_iter=-1, probability=False, random_state=None,\n",
      "  shrinking=True, tol=0.001, verbose=False)\n",
      "Time taken: 4006\n"
     ]
    }
   ],
   "source": [
    "# train the classifer using full data set\n",
    "print \"Training SVM...\"\n",
    "clf = SVC(C=100,gamma=0.1,class_weight={0:class_weights[0],1:class_weights[1]})\n",
    "print clf.fit(X,y_bin,sample_weight = sample_weights)\n",
    "print \"Time taken: %.f\"%(time()-t1)"
   ]
  },
  {
   "cell_type": "code",
   "execution_count": 150,
   "metadata": {
    "collapsed": false
   },
   "outputs": [
    {
     "name": "stdout",
     "output_type": "stream",
     "text": [
      "Training Accuracy: 0.97\n"
     ]
    }
   ],
   "source": [
    "print \"Training Accuracy: %.2f\"%metrics.accuracy_score(y_bin,clf.predict(X),sample_weight = sample_weights)"
   ]
  },
  {
   "cell_type": "markdown",
   "metadata": {
    "collapsed": true
   },
   "source": [
    "### Applying SVC on blosum dataset"
   ]
  },
  {
   "cell_type": "code",
   "execution_count": 165,
   "metadata": {
    "collapsed": false
   },
   "outputs": [
    {
     "data": {
      "text/plain": [
       "array([    2,     8,    11, ..., 54013, 54014, 54021])"
      ]
     },
     "execution_count": 165,
     "metadata": {},
     "output_type": "execute_result"
    }
   ],
   "source": [
    "skf = StratifiedKFold(n_splits=5,shuffle=True)\n",
    "train_idx,test_idx = skf.split(X_blosum_scaled,y_bin).next()\n",
    "test_idx.shape\n",
    "x,y = X_blosum_scaled[test_idx,:],y_bin[test_idx]\n",
    "x.shape\n",
    "test_idx"
   ]
  },
  {
   "cell_type": "code",
   "execution_count": 167,
   "metadata": {
    "collapsed": false
   },
   "outputs": [
    {
     "name": "stdout",
     "output_type": "stream",
     "text": [
      "Running SVM grid search...\n",
      "Time taken: 81 s\n"
     ]
    }
   ],
   "source": [
    "# perform the grid search to find the best parameters\n",
    "print \"Running SVM grid search...\"\n",
    "t1 = time()\n",
    "clf = SVC(class_weight={0:class_weights[0],1:class_weights[1]})\n",
    "parameters = {\"C\":(10,110),\"gamma\":(1,.1)}\n",
    "clf = GridSearchCV(clf,param_grid=parameters,cv = 5,n_jobs=-1,\\\n",
    "                   fit_params={'sample_weight':sample_weights[test_idx]})\n",
    "clf.fit(x,y)\n",
    "print \"Time taken: %.f s\"%(time()-t1)"
   ]
  },
  {
   "cell_type": "code",
   "execution_count": 168,
   "metadata": {
    "collapsed": false
   },
   "outputs": [
    {
     "name": "stdout",
     "output_type": "stream",
     "text": [
      "{'C': 110, 'gamma': 1} 0.74995372941\n"
     ]
    },
    {
     "data": {
      "text/html": [
       "<div>\n",
       "<table border=\"1\" class=\"dataframe\">\n",
       "  <thead>\n",
       "    <tr style=\"text-align: right;\">\n",
       "      <th></th>\n",
       "      <th>params</th>\n",
       "      <th>mean_test_score</th>\n",
       "      <th>std_test_score</th>\n",
       "      <th>rank_test_score</th>\n",
       "      <th>mean_fit_time</th>\n",
       "    </tr>\n",
       "  </thead>\n",
       "  <tbody>\n",
       "    <tr>\n",
       "      <th>2</th>\n",
       "      <td>{u'C': 110, u'gamma': 1}</td>\n",
       "      <td>0.749954</td>\n",
       "      <td>0.006393</td>\n",
       "      <td>1</td>\n",
       "      <td>11.844177</td>\n",
       "    </tr>\n",
       "    <tr>\n",
       "      <th>0</th>\n",
       "      <td>{u'C': 10, u'gamma': 1}</td>\n",
       "      <td>0.741347</td>\n",
       "      <td>0.014735</td>\n",
       "      <td>2</td>\n",
       "      <td>7.267414</td>\n",
       "    </tr>\n",
       "    <tr>\n",
       "      <th>3</th>\n",
       "      <td>{u'C': 110, u'gamma': 0.1}</td>\n",
       "      <td>0.727466</td>\n",
       "      <td>0.015833</td>\n",
       "      <td>3</td>\n",
       "      <td>10.229941</td>\n",
       "    </tr>\n",
       "    <tr>\n",
       "      <th>1</th>\n",
       "      <td>{u'C': 10, u'gamma': 0.1}</td>\n",
       "      <td>0.684620</td>\n",
       "      <td>0.021800</td>\n",
       "      <td>4</td>\n",
       "      <td>8.536337</td>\n",
       "    </tr>\n",
       "  </tbody>\n",
       "</table>\n",
       "</div>"
      ],
      "text/plain": [
       "                       params  mean_test_score  std_test_score  \\\n",
       "2    {u'C': 110, u'gamma': 1}         0.749954        0.006393   \n",
       "0     {u'C': 10, u'gamma': 1}         0.741347        0.014735   \n",
       "3  {u'C': 110, u'gamma': 0.1}         0.727466        0.015833   \n",
       "1   {u'C': 10, u'gamma': 0.1}         0.684620        0.021800   \n",
       "\n",
       "   rank_test_score  mean_fit_time  \n",
       "2                1      11.844177  \n",
       "0                2       7.267414  \n",
       "3                3      10.229941  \n",
       "1                4       8.536337  "
      ]
     },
     "execution_count": 168,
     "metadata": {},
     "output_type": "execute_result"
    }
   ],
   "source": [
    "# print \n",
    "print clf.best_params_,clf.best_score_\n",
    "cv_results = pd.DataFrame(clf.cv_results_)\n",
    "cv_results.sort_values(by=\"rank_test_score\").sort_values(by=\"rank_test_score\")\n",
    "cv_results[['params',\"mean_test_score\",\"std_test_score\",'rank_test_score','mean_fit_time']].sort_values(by=\"rank_test_score\")"
   ]
  },
  {
   "cell_type": "code",
   "execution_count": 166,
   "metadata": {
    "collapsed": false
   },
   "outputs": [
    {
     "name": "stdout",
     "output_type": "stream",
     "text": [
      "Running classifier cross-validation...\n",
      "Time taken: 17\n",
      "[ 0.75115634  0.74317446  0.76029616  0.74317446  0.75196668]\n",
      "Accuracy: 0.75 (+/- 0.013)\n"
     ]
    }
   ],
   "source": [
    "clf = SVC(C=110,gamma=1,class_weight={0:class_weights[0],1:class_weights[1]})\n",
    "scores = cross_validate(clf,x,y,fit_params={'sample_weight':sample_weights[test_idx]}) \n",
    "print scores\n",
    "print(\"Accuracy: %0.2f (+/- %0.3f)\" % (scores.mean(), scores.std() * 2))"
   ]
  },
  {
   "cell_type": "code",
   "execution_count": 171,
   "metadata": {
    "collapsed": false
   },
   "outputs": [
    {
     "name": "stdout",
     "output_type": "stream",
     "text": [
      "Running classifier cross-validation...\n",
      "Time taken: 506\n",
      "[ 0.76794936  0.77060195  0.76921368]\n",
      "Accuracy: 0.77 (+/- 0.002)\n"
     ]
    }
   ],
   "source": [
    "clf = SVC(C=110,gamma=1,class_weight={0:class_weights[0],1:class_weights[1]})\n",
    "scores = cross_validate(clf,X_blosum_scaled,y_bin,n_splits=3,fit_params={'sample_weight':sample_weights})\n",
    "print scores\n",
    "print(\"Accuracy: %0.2f (+/- %0.3f)\" % (scores.mean(), scores.std() * 2))"
   ]
  },
  {
   "cell_type": "code",
   "execution_count": 187,
   "metadata": {
    "collapsed": false
   },
   "outputs": [
    {
     "name": "stdout",
     "output_type": "stream",
     "text": [
      "Training SVM...\n",
      "SVC(C=110, cache_size=200, class_weight={0: 0.51632097448707515, 1: 1.0},\n",
      "  coef0=0.0, decision_function_shape=None, degree=3, gamma=1, kernel='rbf',\n",
      "  max_iter=15000, probability=False, random_state=None, shrinking=True,\n",
      "  tol=0.001, verbose=False)\n",
      "Time taken: 79\n"
     ]
    },
    {
     "name": "stderr",
     "output_type": "stream",
     "text": [
      "/Users/tiavlovskiegor/anaconda2/lib/python2.7/site-packages/sklearn/svm/base.py:220: ConvergenceWarning: Solver terminated early (max_iter=15000).  Consider pre-processing your data with StandardScaler or MinMaxScaler.\n",
      "  % self.max_iter, ConvergenceWarning)\n"
     ]
    }
   ],
   "source": [
    "# train the classifer using full data set\n",
    "print \"Training SVM...\"\n",
    "t1 = time()\n",
    "clf = SVC(C=110,gamma=1,class_weight={0:class_weights[0],1:class_weights[1]},max_iter=15000)\n",
    "print clf.fit(X_blosum_scaled,y_bin,sample_weight = sample_weights)\n",
    "print \"Time taken: %.f\"%(time()-t1)"
   ]
  },
  {
   "cell_type": "code",
   "execution_count": 186,
   "metadata": {
    "collapsed": false
   },
   "outputs": [
    {
     "name": "stdout",
     "output_type": "stream",
     "text": [
      "Training Accuracy: 0.82\n"
     ]
    }
   ],
   "source": [
    "print \"Training Accuracy: %.2f\"%metrics.accuracy_score(y_bin,clf.predict(X_blosum_scaled),sample_weight = sample_weights)"
   ]
  },
  {
   "cell_type": "code",
   "execution_count": 178,
   "metadata": {
    "collapsed": false
   },
   "outputs": [
    {
     "data": {
      "text/plain": [
       "-1.0"
      ]
     },
     "execution_count": 178,
     "metadata": {},
     "output_type": "execute_result"
    }
   ],
   "source": [
    "X_blosum_scaled.min()"
   ]
  },
  {
   "cell_type": "code",
   "execution_count": 6,
   "metadata": {
    "collapsed": false
   },
   "outputs": [
    {
     "data": {
      "text/plain": [
       "[<matplotlib.lines.Line2D at 0x11c1ddf90>]"
      ]
     },
     "execution_count": 6,
     "metadata": {},
     "output_type": "execute_result"
    },
    {
     "data": {
      "image/png": "[encoded data removed]",
      "text/plain": [
       "<matplotlib.figure.Figure at 0x11b5a1b10>"
      ]
     },
     "metadata": {},
     "output_type": "display_data"
    }
   ],
   "source": [
    "plt.plot(sample_weights,\".\")"
   ]
  },
  {
   "cell_type": "code",
   "execution_count": null,
   "metadata": {
    "collapsed": true
   },
   "outputs": [],
   "source": []
  }
 ],
 "metadata": {
  "anaconda-cloud": {},
  "kernelspec": {
   "display_name": "Python [default]",
   "language": "python",
   "name": "python2"
  },
  "language_info": {
   "codemirror_mode": {
    "name": "ipython",
    "version": 2
   },
   "file_extension": ".py",
   "mimetype": "text/x-python",
   "name": "python",
   "nbconvert_exporter": "python",
   "pygments_lexer": "ipython2",
   "version": "2.7.12"
  }
 },
 "nbformat": 4,
 "nbformat_minor": 0
}
