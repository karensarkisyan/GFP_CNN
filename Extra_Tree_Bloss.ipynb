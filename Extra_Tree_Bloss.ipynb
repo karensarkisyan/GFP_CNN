{
 "cells": [
  {
   "cell_type": "code",
   "execution_count": 35,
   "metadata": {
    "collapsed": true
   },
   "outputs": [],
   "source": [
    "import numpy as np\n",
    "from matplotlib import cm\n",
    "import pandas as pd \n",
    "import matplotlib.pyplot as plt\n",
    "from scipy import sparse \n",
    "import seaborn as sns\n",
    "sns.set(rc={'axes.facecolor':'#F5F5F5'})\n",
    "%matplotlib inline\n",
    "\n",
    "from sklearn.model_selection import KFold,cross_val_score\n",
    "from sklearn.model_selection import StratifiedShuffleSplit,StratifiedKFold\n",
    "from sklearn.ensemble import RandomForestClassifier,AdaBoostClassifier,ExtraTreesClassifier\n",
    "from sklearn.tree import DecisionTreeRegressor,DecisionTreeClassifier\n",
    "from sklearn.preprocessing import StandardScaler,MinMaxScaler,maxabs_scale\n",
    "from sklearn.linear_model import LogisticRegression\n",
    "from sklearn.svm import SVC,NuSVC,SVR,NuSVR\n",
    "from sklearn.model_selection import GridSearchCV\n",
    "from sklearn import metrics\n",
    "from sklearn import neighbors\n",
    "from sklearn.decomposition import TruncatedSVD\n",
    "\n",
    "from time import time"
   ]
  },
  {
   "cell_type": "markdown",
   "metadata": {},
   "source": [
    "# Importing data"
   ]
  },
  {
   "cell_type": "code",
   "execution_count": 2,
   "metadata": {
    "collapsed": true
   },
   "outputs": [],
   "source": [
    "# Function to load csr matrix of samples and list of colnames from file\n",
    "def load_csr_from_csv(filename):\n",
    "    indices = np.loadtxt(filename+\"_indices.csv\",unpack=True,delimiter=\",\")\n",
    "    indptr = np.loadtxt(filename+\"_indptr.csv\",unpack=True,delimiter=\",\")\n",
    "    shape = np.loadtxt(filename+\"_shape.csv\",unpack=True,delimiter=\",\")\n",
    "    col_names = np.loadtxt(filename+\"_col_names.csv\",unpack=True,delimiter=\",\",dtype=str)\n",
    "    data = np.ones_like(indices,dtype=np.int8)\n",
    "    \n",
    "    return sparse.csr_matrix((data, indices, indptr),\n",
    "                         shape = shape),col_names"
   ]
  },
  {
   "cell_type": "code",
   "execution_count": 3,
   "metadata": {
    "collapsed": true
   },
   "outputs": [],
   "source": [
    "# returns the csr matrix of samples and list of colnames\n",
    "def load_csr_from_csv_with_data(filename):\n",
    "    data = np.loadtxt(filename+\"_data.csv\",unpack=True,delimiter=\",\",dtype=np.int8)\n",
    "    indices = np.loadtxt(filename+\"_indices.csv\",unpack=True,delimiter=\",\")\n",
    "    indptr = np.loadtxt(filename+\"_indptr.csv\",unpack=True,delimiter=\",\")\n",
    "    shape = np.loadtxt(filename+\"_shape.csv\",unpack=True,delimiter=\",\")\n",
    "    col_names = np.loadtxt(filename+\"_col_names.csv\",unpack=True,delimiter=\",\",dtype=str)\n",
    "    \n",
    "    return sparse.csr_matrix((data, indices, indptr),\n",
    "                         shape = shape),col_names"
   ]
  },
  {
   "cell_type": "code",
   "execution_count": 18,
   "metadata": {
    "collapsed": false
   },
   "outputs": [
    {
     "name": "stdout",
     "output_type": "stream",
     "text": [
      "Total number of mutants: 54025\n",
      "Fraction of positive samples: 0.34\n"
     ]
    }
   ],
   "source": [
    "# load the target values of brightness and create a binary vector \n",
    "# with 1 for samples with brightness above threshold and 0 otherwise\n",
    "y,std = np.loadtxt(\"target_values.csv\",unpack=True,delimiter=\",\")\n",
    "\n",
    "threshold = 0.95 #threshold for target values\n",
    "\n",
    "y_bin = np.where(y >= y[0]*threshold,1,0) # binary respresentation of target values based on threshold\n",
    "\n",
    "class_weights = (y_bin.sum()*1./(y_bin.shape[0]-y_bin.sum())*1.,1.)\n",
    " \n",
    "print \"Total number of mutants: %d\"%y.shape[0]\n",
    "print \"Fraction of positive samples: %.2f\"%(y_bin.sum()*1./y_bin.shape[0])"
   ]
  },
  {
   "cell_type": "code",
   "execution_count": 19,
   "metadata": {
    "collapsed": true
   },
   "outputs": [],
   "source": [
    "sample_weights = np.loadtxt(\"sample_weights.csv\",delimiter=\",\")\n",
    "sample_weights = np.log10(sample_weights*10)\n",
    "sample_weights = (sample_weights/sample_weights.max()).reshape(-1)"
   ]
  },
  {
   "cell_type": "code",
   "execution_count": 51,
   "metadata": {
    "collapsed": false
   },
   "outputs": [
    {
     "name": "stdout",
     "output_type": "stream",
     "text": [
      "(54025, 1879)\n"
     ]
    }
   ],
   "source": [
    "# Load the full mutation list dataset with column names from file\n",
    "X, col_names = load_csr_from_csv(\"sparse_csr\")\n",
    "print X.shape"
   ]
  },
  {
   "cell_type": "code",
   "execution_count": 52,
   "metadata": {
    "collapsed": false
   },
   "outputs": [],
   "source": [
    "# Retrieve all the mutants with single mutations \n",
    "# and create the look up table for this single mutations\n",
    "single_mutations = {}\n",
    "single_mut_idx = []\n",
    "\n",
    "for i in xrange(X.shape[0]):\n",
    "    if X.getrow(i).indices.shape[0] == 1: #how many mutations in this mutant? one?\n",
    "        index = X.getrow(i).indices[0]\n",
    "        mutation = col_names[index]\n",
    "#         print mutation, i\n",
    "        if mutation not in single_mutations:\n",
    "            single_mutations[mutation] = {\"id\":index,\"mutants\":[i]}\n",
    "            single_mut_idx.append(i)\n",
    "        else:\n",
    "            single_mutations[mutation][\"mutants\"].append(i)"
   ]
  },
  {
   "cell_type": "code",
   "execution_count": 53,
   "metadata": {
    "collapsed": false
   },
   "outputs": [
    {
     "name": "stdout",
     "output_type": "stream",
     "text": [
      "Total number of single mutation mutants: 1114\n"
     ]
    }
   ],
   "source": [
    "print \"Total number of single mutation mutants: %d\" % len(single_mut_idx)"
   ]
  },
  {
   "cell_type": "markdown",
   "metadata": {},
   "source": [
    "# Extra trees classifier"
   ]
  },
  {
   "cell_type": "code",
   "execution_count": 54,
   "metadata": {
    "collapsed": false
   },
   "outputs": [
    {
     "name": "stdout",
     "output_type": "stream",
     "text": [
      "Performing parameter grid search on Extra trees Classifier...\n",
      "Time taken: 38.46\n"
     ]
    }
   ],
   "source": [
    "print \"Performing parameter grid search on Extra trees Classifier...\"\n",
    "t1 = time()\n",
    "clf = ExtraTreesClassifier(n_estimators=30,class_weight={0:class_weights[0],1:class_weights[1]})\n",
    "#print rf.get_params()\n",
    "parameters = {\"max_features\":(10,\"auto\"),\"min_samples_split\":(50,)}\n",
    "clf = GridSearchCV(clf, parameters,cv = 5,n_jobs=-1)#,fit_params={'sample_weight':sample_weights})\n",
    "clf.fit(X,y_bin)\n",
    "print \"Time taken: %.2f\"%(time()-t1)"
   ]
  },
  {
   "cell_type": "code",
   "execution_count": 55,
   "metadata": {
    "collapsed": false
   },
   "outputs": [
    {
     "name": "stdout",
     "output_type": "stream",
     "text": [
      "{'max_features': 10, 'min_samples_split': 50} 0.82994909764\n"
     ]
    },
    {
     "data": {
      "text/html": [
       "<div>\n",
       "<table border=\"1\" class=\"dataframe\">\n",
       "  <thead>\n",
       "    <tr style=\"text-align: right;\">\n",
       "      <th></th>\n",
       "      <th>params</th>\n",
       "      <th>mean_train_score</th>\n",
       "      <th>mean_test_score</th>\n",
       "      <th>std_test_score</th>\n",
       "      <th>rank_test_score</th>\n",
       "      <th>mean_fit_time</th>\n",
       "    </tr>\n",
       "  </thead>\n",
       "  <tbody>\n",
       "    <tr>\n",
       "      <th>0</th>\n",
       "      <td>{u'max_features': 10, u'min_samples_split': 50}</td>\n",
       "      <td>0.961828</td>\n",
       "      <td>0.829949</td>\n",
       "      <td>0.008079</td>\n",
       "      <td>1</td>\n",
       "      <td>16.392576</td>\n",
       "    </tr>\n",
       "    <tr>\n",
       "      <th>1</th>\n",
       "      <td>{u'max_features': u'auto', u'min_samples_split...</td>\n",
       "      <td>0.957020</td>\n",
       "      <td>0.819250</td>\n",
       "      <td>0.009081</td>\n",
       "      <td>2</td>\n",
       "      <td>17.629419</td>\n",
       "    </tr>\n",
       "  </tbody>\n",
       "</table>\n",
       "</div>"
      ],
      "text/plain": [
       "                                              params  mean_train_score  \\\n",
       "0    {u'max_features': 10, u'min_samples_split': 50}          0.961828   \n",
       "1  {u'max_features': u'auto', u'min_samples_split...          0.957020   \n",
       "\n",
       "   mean_test_score  std_test_score  rank_test_score  mean_fit_time  \n",
       "0         0.829949        0.008079                1      16.392576  \n",
       "1         0.819250        0.009081                2      17.629419  "
      ]
     },
     "execution_count": 55,
     "metadata": {},
     "output_type": "execute_result"
    }
   ],
   "source": [
    "print clf.best_params_,clf.best_score_\n",
    "cv_results = pd.DataFrame(clf.cv_results_)\n",
    "cv_results.sort_values(by=\"rank_test_score\").sort_values(by=\"rank_test_score\")\n",
    "cv_results[['params',\"mean_train_score\",\"mean_test_score\",\"std_test_score\",'rank_test_score','mean_fit_time']].sort_values(by=\"rank_test_score\")"
   ]
  },
  {
   "cell_type": "code",
   "execution_count": 56,
   "metadata": {
    "collapsed": false
   },
   "outputs": [
    {
     "name": "stdout",
     "output_type": "stream",
     "text": [
      "Training accuracy: 0.96\n"
     ]
    }
   ],
   "source": [
    "yhat = clf.predict(X)\n",
    "print \"Training accuracy: %.2f\"%metrics.accuracy_score(y_bin,yhat,sample_weight = sample_weights)"
   ]
  },
  {
   "cell_type": "markdown",
   "metadata": {},
   "source": [
    "# Assessing quality"
   ]
  },
  {
   "cell_type": "code",
   "execution_count": 26,
   "metadata": {
    "collapsed": false
   },
   "outputs": [
    {
     "data": {
      "image/png": "[encoded data removed]",
      "text/plain": [
       "<matplotlib.figure.Figure at 0x118a8fd10>"
      ]
     },
     "metadata": {},
     "output_type": "display_data"
    }
   ],
   "source": [
    "r = 200\n",
    "x = np.arange(r)\n",
    "weight_order = sample_weights.argsort()[::-1]\n",
    "\n",
    "TP = (yhat == y_bin) & (y_bin == 1)\n",
    "TP = TP[weight_order][:r]\n",
    "\n",
    "TN = (yhat == y_bin) & (y_bin == 0)\n",
    "TN = TN[weight_order][:r]\n",
    "\n",
    "FP = (yhat != y_bin) & (yhat == 1)\n",
    "FP = FP[weight_order][:r]\n",
    "\n",
    "FN = (yhat != y_bin) & (yhat == 0)\n",
    "FN = FN[weight_order][:r]\n",
    "\n",
    "F = (yhat != y_bin)\n",
    "F = F[weight_order][:r]\n",
    "\n",
    "T = (yhat == y_bin)\n",
    "T = T[weight_order][:r]\n",
    "\n",
    "plt.figure(figsize = [15,10])\n",
    "plt.plot(x[TP],sample_weights[weight_order][:r][TP].cumsum(),'.')\n",
    "plt.plot(x[TN],sample_weights[weight_order][:r][TN].cumsum(),'.')\n",
    "plt.plot(x[FP],sample_weights[weight_order][:r][FP].cumsum(),'.')\n",
    "plt.plot(x[FN],sample_weights[weight_order][:r][FN].cumsum(),'.')\n",
    "plt.legend(('TP','TN',\"FP\",\"FN\"), loc = 2);"
   ]
  },
  {
   "cell_type": "code",
   "execution_count": 27,
   "metadata": {
    "collapsed": false
   },
   "outputs": [
    {
     "data": {
      "image/png": "[encoded data removed]",
      "text/plain": [
       "<matplotlib.figure.Figure at 0x11887c290>"
      ]
     },
     "metadata": {},
     "output_type": "display_data"
    }
   ],
   "source": [
    "plt.figure(figsize = [15,10])\n",
    "plt.plot(x,TP.cumsum(), '.')\n",
    "plt.plot(x,TN.cumsum(), '.')\n",
    "plt.plot(x,FP.cumsum(), '.')\n",
    "plt.plot(x,FN.cumsum(), '.')\n",
    "plt.legend(('TP','TN',\"FP\",\"FN\"),loc=2)\n",
    "plt.title('Accumulated numbers of TP, TN, FP and FN');"
   ]
  },
  {
   "cell_type": "code",
   "execution_count": 28,
   "metadata": {
    "collapsed": false
   },
   "outputs": [
    {
     "name": "stdout",
     "output_type": "stream",
     "text": [
      "False predictions start at #75 sample weight\n"
     ]
    },
    {
     "data": {
      "image/png": "[encoded data removed]",
      "text/plain": [
       "<matplotlib.figure.Figure at 0x1181be350>"
      ]
     },
     "metadata": {},
     "output_type": "display_data"
    }
   ],
   "source": [
    "plt.figure(figsize=[15,10])\n",
    "pT = plt.plot(x[T],sample_weights[weight_order][:r][T].cumsum())\n",
    "pF = plt.plot(x[F],sample_weights[weight_order][:r][F].cumsum())\n",
    "print 'False predictions start at #%d sample weight' % x[F][0]\n",
    "\n",
    "plt.legend((pT[0], pF[0]), ('True','False'),loc=2)\n",
    "\n",
    "plt.title(\"Cumulative weight of True and False predictions\")\n",
    "plt.ylabel(\"Cumulative sample weight\")\n",
    "plt.xlabel(\"Mutants in decreasing order of weight\");"
   ]
  },
  {
   "cell_type": "code",
   "execution_count": 29,
   "metadata": {
    "collapsed": false
   },
   "outputs": [
    {
     "name": "stdout",
     "output_type": "stream",
     "text": [
      "421 81\n",
      "0.378038883209\n"
     ]
    }
   ],
   "source": [
    "single_mutants_idx = np.asarray((np.sum(X,axis = 1) == 1)).ravel()\n",
    "single_mutation_idx = np.asarray(np.sum(X[single_mutants_idx,:],axis=0) == 1).ravel()\n",
    "single_mutation_idx\n",
    "del single_mutants_idx\n",
    "\n",
    "S = sparse.diags(np.ones(X.shape[1]))\n",
    "hs = clf.predict_proba(S)\n",
    "pos_idx = (hs[:,1]>0.9) & ~single_mutation_idx\n",
    "neg_idx = (hs[:,0]>0.9) & ~single_mutation_idx\n",
    "pos_mutations = zip([col_names[i] for i in xrange(pos_idx.shape[0]) if pos_idx[i]],hs[pos_idx][:,1],np.sum(X[:,pos_idx],axis = 0).tolist()[0])\n",
    "neg_mutations = zip([col_names[i] for i in xrange(neg_idx.shape[0]) if neg_idx[i]],hs[neg_idx][:,0],np.sum(X[:,neg_idx],axis = 0).tolist()[0])\n",
    "print len(pos_mutations),len(neg_mutations)"
   ]
  },
  {
   "cell_type": "markdown",
   "metadata": {},
   "source": [
    "# Generating code for PyMOL"
   ]
  },
  {
   "cell_type": "markdown",
   "metadata": {},
   "source": [
    "bg_color white\n",
    "set surface_quality, 1\n",
    "set transparency, 0.5\n",
    "\n",
    "fetch 2WUR \n",
    "show cartoon, all\n",
    "hide lines, all\n",
    "\n",
    "select waters, name o\n",
    "hide everything, waters\n",
    "\n",
    "select chr, resn GYS\n",
    "\n",
    "color white, all\n",
    "show sticks, chr\n",
    "color green, chr\n",
    "\n",
    "select aa_64_68, resi 64+68\n",
    "select aa_64_68_mainchain, aa_64_68 and name C+CO+CA+N\n",
    "show ribbons, aa_64_68_mainchain"
   ]
  },
  {
   "cell_type": "code",
   "execution_count": 390,
   "metadata": {
    "collapsed": false
   },
   "outputs": [],
   "source": [
    "positions = []\n",
    "for m in pos_mutations[:100]:\n",
    "    position = int(m[0][2:-1])\n",
    "    positions.append(position)"
   ]
  },
  {
   "cell_type": "code",
   "execution_count": 391,
   "metadata": {
    "collapsed": false,
    "scrolled": false
   },
   "outputs": [
    {
     "name": "stdout",
     "output_type": "stream",
     "text": [
      "#3\n",
      "set_color mCol3 = (1.0, 0.0, 1.0)\n",
      "select mSel3, resi 3\n",
      "show spheres, mSel3\n",
      "color mCol3 ,mSel3\n",
      "#4\n",
      "set_color mCol4 = (1.0, 0.0, 1.0)\n",
      "select mSel4, resi 4\n",
      "show spheres, mSel4\n",
      "color mCol4 ,mSel4\n",
      "#6\n",
      "set_color mCol6 = (1.0, 0.0, 1.0)\n",
      "select mSel6, resi 6\n",
      "show spheres, mSel6\n",
      "color mCol6 ,mSel6\n",
      "#6\n",
      "set_color mCol6 = (1.0, 0.0, 1.0)\n",
      "select mSel6, resi 6\n",
      "show spheres, mSel6\n",
      "color mCol6 ,mSel6\n",
      "#7\n",
      "set_color mCol7 = (1.0, 0.0, 1.0)\n",
      "select mSel7, resi 7\n",
      "show spheres, mSel7\n",
      "color mCol7 ,mSel7\n",
      "#9\n",
      "set_color mCol9 = (1.0, 0.0, 1.0)\n",
      "select mSel9, resi 9\n",
      "show spheres, mSel9\n",
      "color mCol9 ,mSel9\n",
      "#17\n",
      "set_color mCol17 = (1.0, 0.0, 1.0)\n",
      "select mSel17, resi 17\n",
      "show spheres, mSel17\n",
      "color mCol17 ,mSel17\n",
      "#19\n",
      "set_color mCol19 = (1.0, 0.0, 1.0)\n",
      "select mSel19, resi 19\n",
      "show spheres, mSel19\n",
      "color mCol19 ,mSel19\n",
      "#21\n",
      "set_color mCol21 = (1.0, 0.0, 1.0)\n",
      "select mSel21, resi 21\n",
      "show spheres, mSel21\n",
      "color mCol21 ,mSel21\n",
      "#21\n",
      "set_color mCol21 = (1.0, 0.0, 1.0)\n",
      "select mSel21, resi 21\n",
      "show spheres, mSel21\n",
      "color mCol21 ,mSel21\n",
      "#34\n",
      "set_color mCol34 = (1.0, 0.0, 1.0)\n",
      "select mSel34, resi 34\n",
      "show spheres, mSel34\n",
      "color mCol34 ,mSel34\n",
      "#42\n",
      "set_color mCol42 = (1.0, 0.0, 1.0)\n",
      "select mSel42, resi 42\n",
      "show spheres, mSel42\n",
      "color mCol42 ,mSel42\n",
      "#50\n",
      "set_color mCol50 = (1.0, 0.0, 1.0)\n",
      "select mSel50, resi 50\n",
      "show spheres, mSel50\n",
      "color mCol50 ,mSel50\n",
      "#56\n",
      "set_color mCol56 = (1.0, 0.0, 1.0)\n",
      "select mSel56, resi 56\n",
      "show spheres, mSel56\n",
      "color mCol56 ,mSel56\n",
      "#76\n",
      "set_color mCol76 = (1.0, 0.0, 1.0)\n",
      "select mSel76, resi 76\n",
      "show spheres, mSel76\n",
      "color mCol76 ,mSel76\n",
      "#80\n",
      "set_color mCol80 = (1.0, 0.0, 1.0)\n",
      "select mSel80, resi 80\n",
      "show spheres, mSel80\n",
      "color mCol80 ,mSel80\n",
      "#80\n",
      "set_color mCol80 = (1.0, 0.0, 1.0)\n",
      "select mSel80, resi 80\n",
      "show spheres, mSel80\n",
      "color mCol80 ,mSel80\n",
      "#81\n",
      "set_color mCol81 = (1.0, 0.0, 1.0)\n",
      "select mSel81, resi 81\n",
      "show spheres, mSel81\n",
      "color mCol81 ,mSel81\n",
      "#81\n",
      "set_color mCol81 = (1.0, 0.0, 1.0)\n",
      "select mSel81, resi 81\n",
      "show spheres, mSel81\n",
      "color mCol81 ,mSel81\n",
      "#85\n",
      "set_color mCol85 = (1.0, 0.0, 1.0)\n",
      "select mSel85, resi 85\n",
      "show spheres, mSel85\n",
      "color mCol85 ,mSel85\n",
      "#86\n",
      "set_color mCol86 = (1.0, 0.0, 1.0)\n",
      "select mSel86, resi 86\n",
      "show spheres, mSel86\n",
      "color mCol86 ,mSel86\n",
      "#89\n",
      "set_color mCol89 = (1.0, 0.0, 1.0)\n",
      "select mSel89, resi 89\n",
      "show spheres, mSel89\n",
      "color mCol89 ,mSel89\n",
      "#90\n",
      "set_color mCol90 = (1.0, 0.0, 1.0)\n",
      "select mSel90, resi 90\n",
      "show spheres, mSel90\n",
      "color mCol90 ,mSel90\n",
      "#91\n",
      "set_color mCol91 = (1.0, 0.0, 1.0)\n",
      "select mSel91, resi 91\n",
      "show spheres, mSel91\n",
      "color mCol91 ,mSel91\n",
      "#105\n",
      "set_color mCol105 = (1.0, 0.0, 1.0)\n",
      "select mSel105, resi 105\n",
      "show spheres, mSel105\n",
      "color mCol105 ,mSel105\n",
      "#105\n",
      "set_color mCol105 = (1.0, 0.0, 1.0)\n",
      "select mSel105, resi 105\n",
      "show spheres, mSel105\n",
      "color mCol105 ,mSel105\n",
      "#105\n",
      "set_color mCol105 = (1.0, 0.0, 1.0)\n",
      "select mSel105, resi 105\n",
      "show spheres, mSel105\n",
      "color mCol105 ,mSel105\n",
      "#109\n",
      "set_color mCol109 = (1.0, 0.0, 1.0)\n",
      "select mSel109, resi 109\n",
      "show spheres, mSel109\n",
      "color mCol109 ,mSel109\n",
      "#115\n",
      "set_color mCol115 = (1.0, 0.0, 1.0)\n",
      "select mSel115, resi 115\n",
      "show spheres, mSel115\n",
      "color mCol115 ,mSel115\n",
      "#124\n",
      "set_color mCol124 = (1.0, 0.0, 1.0)\n",
      "select mSel124, resi 124\n",
      "show spheres, mSel124\n",
      "color mCol124 ,mSel124\n",
      "#125\n",
      "set_color mCol125 = (1.0, 0.0, 1.0)\n",
      "select mSel125, resi 125\n",
      "show spheres, mSel125\n",
      "color mCol125 ,mSel125\n",
      "#126\n",
      "set_color mCol126 = (1.0, 0.0, 1.0)\n",
      "select mSel126, resi 126\n",
      "show spheres, mSel126\n",
      "color mCol126 ,mSel126\n",
      "#129\n",
      "set_color mCol129 = (1.0, 0.0, 1.0)\n",
      "select mSel129, resi 129\n",
      "show spheres, mSel129\n",
      "color mCol129 ,mSel129\n",
      "#131\n",
      "set_color mCol131 = (1.0, 0.0, 1.0)\n",
      "select mSel131, resi 131\n",
      "show spheres, mSel131\n",
      "color mCol131 ,mSel131\n",
      "#135\n",
      "set_color mCol135 = (1.0, 0.0, 1.0)\n",
      "select mSel135, resi 135\n",
      "show spheres, mSel135\n",
      "color mCol135 ,mSel135\n",
      "#139\n",
      "set_color mCol139 = (1.0, 0.0, 1.0)\n",
      "select mSel139, resi 139\n",
      "show spheres, mSel139\n",
      "color mCol139 ,mSel139\n",
      "#139\n",
      "set_color mCol139 = (1.0, 0.0, 1.0)\n",
      "select mSel139, resi 139\n",
      "show spheres, mSel139\n",
      "color mCol139 ,mSel139\n",
      "#140\n",
      "set_color mCol140 = (1.0, 0.0, 1.0)\n",
      "select mSel140, resi 140\n",
      "show spheres, mSel140\n",
      "color mCol140 ,mSel140\n",
      "#141\n",
      "set_color mCol141 = (1.0, 0.0, 1.0)\n",
      "select mSel141, resi 141\n",
      "show spheres, mSel141\n",
      "color mCol141 ,mSel141\n",
      "#141\n",
      "set_color mCol141 = (1.0, 0.0, 1.0)\n",
      "select mSel141, resi 141\n",
      "show spheres, mSel141\n",
      "color mCol141 ,mSel141\n",
      "#146\n",
      "set_color mCol146 = (1.0, 0.0, 1.0)\n",
      "select mSel146, resi 146\n",
      "show spheres, mSel146\n",
      "color mCol146 ,mSel146\n",
      "#147\n",
      "set_color mCol147 = (1.0, 0.0, 1.0)\n",
      "select mSel147, resi 147\n",
      "show spheres, mSel147\n",
      "color mCol147 ,mSel147\n",
      "#147\n",
      "set_color mCol147 = (1.0, 0.0, 1.0)\n",
      "select mSel147, resi 147\n",
      "show spheres, mSel147\n",
      "color mCol147 ,mSel147\n",
      "#149\n",
      "set_color mCol149 = (1.0, 0.0, 1.0)\n",
      "select mSel149, resi 149\n",
      "show spheres, mSel149\n",
      "color mCol149 ,mSel149\n",
      "#150\n",
      "set_color mCol150 = (1.0, 0.0, 1.0)\n",
      "select mSel150, resi 150\n",
      "show spheres, mSel150\n",
      "color mCol150 ,mSel150\n",
      "#150\n",
      "set_color mCol150 = (1.0, 0.0, 1.0)\n",
      "select mSel150, resi 150\n",
      "show spheres, mSel150\n",
      "color mCol150 ,mSel150\n",
      "#153\n",
      "set_color mCol153 = (1.0, 0.0, 1.0)\n",
      "select mSel153, resi 153\n",
      "show spheres, mSel153\n",
      "color mCol153 ,mSel153\n",
      "#154\n",
      "set_color mCol154 = (1.0, 0.0, 1.0)\n",
      "select mSel154, resi 154\n",
      "show spheres, mSel154\n",
      "color mCol154 ,mSel154\n",
      "#154\n",
      "set_color mCol154 = (1.0, 0.0, 1.0)\n",
      "select mSel154, resi 154\n",
      "show spheres, mSel154\n",
      "color mCol154 ,mSel154\n",
      "#154\n",
      "set_color mCol154 = (1.0, 0.0, 1.0)\n",
      "select mSel154, resi 154\n",
      "show spheres, mSel154\n",
      "color mCol154 ,mSel154\n",
      "#156\n",
      "set_color mCol156 = (1.0, 0.0, 1.0)\n",
      "select mSel156, resi 156\n",
      "show spheres, mSel156\n",
      "color mCol156 ,mSel156\n",
      "#157\n",
      "set_color mCol157 = (1.0, 0.0, 1.0)\n",
      "select mSel157, resi 157\n",
      "show spheres, mSel157\n",
      "color mCol157 ,mSel157\n",
      "#157\n",
      "set_color mCol157 = (1.0, 0.0, 1.0)\n",
      "select mSel157, resi 157\n",
      "show spheres, mSel157\n",
      "color mCol157 ,mSel157\n",
      "#158\n",
      "set_color mCol158 = (1.0, 0.0, 1.0)\n",
      "select mSel158, resi 158\n",
      "show spheres, mSel158\n",
      "color mCol158 ,mSel158\n",
      "#160\n",
      "set_color mCol160 = (1.0, 0.0, 1.0)\n",
      "select mSel160, resi 160\n",
      "show spheres, mSel160\n",
      "color mCol160 ,mSel160\n",
      "#163\n",
      "set_color mCol163 = (1.0, 0.0, 1.0)\n",
      "select mSel163, resi 163\n",
      "show spheres, mSel163\n",
      "color mCol163 ,mSel163\n",
      "#164\n",
      "set_color mCol164 = (1.0, 0.0, 1.0)\n",
      "select mSel164, resi 164\n",
      "show spheres, mSel164\n",
      "color mCol164 ,mSel164\n",
      "#164\n",
      "set_color mCol164 = (1.0, 0.0, 1.0)\n",
      "select mSel164, resi 164\n",
      "show spheres, mSel164\n",
      "color mCol164 ,mSel164\n",
      "#167\n",
      "set_color mCol167 = (1.0, 0.0, 1.0)\n",
      "select mSel167, resi 167\n",
      "show spheres, mSel167\n",
      "color mCol167 ,mSel167\n",
      "#168\n",
      "set_color mCol168 = (1.0, 0.0, 1.0)\n",
      "select mSel168, resi 168\n",
      "show spheres, mSel168\n",
      "color mCol168 ,mSel168\n",
      "#171\n",
      "set_color mCol171 = (1.0, 0.0, 1.0)\n",
      "select mSel171, resi 171\n",
      "show spheres, mSel171\n",
      "color mCol171 ,mSel171\n",
      "#172\n",
      "set_color mCol172 = (1.0, 0.0, 1.0)\n",
      "select mSel172, resi 172\n",
      "show spheres, mSel172\n",
      "color mCol172 ,mSel172\n",
      "#173\n",
      "set_color mCol173 = (1.0, 0.0, 1.0)\n",
      "select mSel173, resi 173\n",
      "show spheres, mSel173\n",
      "color mCol173 ,mSel173\n",
      "#174\n",
      "set_color mCol174 = (1.0, 0.0, 1.0)\n",
      "select mSel174, resi 174\n",
      "show spheres, mSel174\n",
      "color mCol174 ,mSel174\n",
      "#175\n",
      "set_color mCol175 = (1.0, 0.0, 1.0)\n",
      "select mSel175, resi 175\n",
      "show spheres, mSel175\n",
      "color mCol175 ,mSel175\n",
      "#179\n",
      "set_color mCol179 = (1.0, 0.0, 1.0)\n",
      "select mSel179, resi 179\n",
      "show spheres, mSel179\n",
      "color mCol179 ,mSel179\n",
      "#182\n",
      "set_color mCol182 = (1.0, 0.0, 1.0)\n",
      "select mSel182, resi 182\n",
      "show spheres, mSel182\n",
      "color mCol182 ,mSel182\n",
      "#184\n",
      "set_color mCol184 = (1.0, 0.0, 1.0)\n",
      "select mSel184, resi 184\n",
      "show spheres, mSel184\n",
      "color mCol184 ,mSel184\n",
      "#184\n",
      "set_color mCol184 = (1.0, 0.0, 1.0)\n",
      "select mSel184, resi 184\n",
      "show spheres, mSel184\n",
      "color mCol184 ,mSel184\n",
      "#186\n",
      "set_color mCol186 = (1.0, 0.0, 1.0)\n",
      "select mSel186, resi 186\n",
      "show spheres, mSel186\n",
      "color mCol186 ,mSel186\n",
      "#187\n",
      "set_color mCol187 = (1.0, 0.0, 1.0)\n",
      "select mSel187, resi 187\n",
      "show spheres, mSel187\n",
      "color mCol187 ,mSel187\n",
      "#187\n",
      "set_color mCol187 = (1.0, 0.0, 1.0)\n",
      "select mSel187, resi 187\n",
      "show spheres, mSel187\n",
      "color mCol187 ,mSel187\n",
      "#190\n",
      "set_color mCol190 = (1.0, 0.0, 1.0)\n",
      "select mSel190, resi 190\n",
      "show spheres, mSel190\n",
      "color mCol190 ,mSel190\n",
      "#190\n",
      "set_color mCol190 = (1.0, 0.0, 1.0)\n",
      "select mSel190, resi 190\n",
      "show spheres, mSel190\n",
      "color mCol190 ,mSel190\n",
      "#190\n",
      "set_color mCol190 = (1.0, 0.0, 1.0)\n",
      "select mSel190, resi 190\n",
      "show spheres, mSel190\n",
      "color mCol190 ,mSel190\n",
      "#191\n",
      "set_color mCol191 = (1.0, 0.0, 1.0)\n",
      "select mSel191, resi 191\n",
      "show spheres, mSel191\n",
      "color mCol191 ,mSel191\n",
      "#194\n",
      "set_color mCol194 = (1.0, 0.0, 1.0)\n",
      "select mSel194, resi 194\n",
      "show spheres, mSel194\n",
      "color mCol194 ,mSel194\n",
      "#194\n",
      "set_color mCol194 = (1.0, 0.0, 1.0)\n",
      "select mSel194, resi 194\n",
      "show spheres, mSel194\n",
      "color mCol194 ,mSel194\n",
      "#198\n",
      "set_color mCol198 = (1.0, 0.0, 1.0)\n",
      "select mSel198, resi 198\n",
      "show spheres, mSel198\n",
      "color mCol198 ,mSel198\n",
      "#201\n",
      "set_color mCol201 = (1.0, 0.0, 1.0)\n",
      "select mSel201, resi 201\n",
      "show spheres, mSel201\n",
      "color mCol201 ,mSel201\n",
      "#204\n",
      "set_color mCol204 = (1.0, 0.0, 1.0)\n",
      "select mSel204, resi 204\n",
      "show spheres, mSel204\n",
      "color mCol204 ,mSel204\n",
      "#208\n",
      "set_color mCol208 = (1.0, 0.0, 1.0)\n",
      "select mSel208, resi 208\n",
      "show spheres, mSel208\n",
      "color mCol208 ,mSel208\n",
      "#212\n",
      "set_color mCol212 = (1.0, 0.0, 1.0)\n",
      "select mSel212, resi 212\n",
      "show spheres, mSel212\n",
      "color mCol212 ,mSel212\n",
      "#212\n",
      "set_color mCol212 = (1.0, 0.0, 1.0)\n",
      "select mSel212, resi 212\n",
      "show spheres, mSel212\n",
      "color mCol212 ,mSel212\n",
      "#216\n",
      "set_color mCol216 = (1.0, 0.0, 1.0)\n",
      "select mSel216, resi 216\n",
      "show spheres, mSel216\n",
      "color mCol216 ,mSel216\n",
      "#219\n",
      "set_color mCol219 = (1.0, 0.0, 1.0)\n",
      "select mSel219, resi 219\n",
      "show spheres, mSel219\n",
      "color mCol219 ,mSel219\n",
      "#221\n",
      "set_color mCol221 = (1.0, 0.0, 1.0)\n",
      "select mSel221, resi 221\n",
      "show spheres, mSel221\n",
      "color mCol221 ,mSel221\n",
      "#223\n",
      "set_color mCol223 = (1.0, 0.0, 1.0)\n",
      "select mSel223, resi 223\n",
      "show spheres, mSel223\n",
      "color mCol223 ,mSel223\n",
      "#226\n",
      "set_color mCol226 = (1.0, 0.0, 1.0)\n",
      "select mSel226, resi 226\n",
      "show spheres, mSel226\n",
      "color mCol226 ,mSel226\n",
      "#227\n",
      "set_color mCol227 = (1.0, 0.0, 1.0)\n",
      "select mSel227, resi 227\n",
      "show spheres, mSel227\n",
      "color mCol227 ,mSel227\n",
      "#229\n",
      "set_color mCol229 = (1.0, 0.0, 1.0)\n",
      "select mSel229, resi 229\n",
      "show spheres, mSel229\n",
      "color mCol229 ,mSel229\n",
      "#229\n",
      "set_color mCol229 = (1.0, 0.0, 1.0)\n",
      "select mSel229, resi 229\n",
      "show spheres, mSel229\n",
      "color mCol229 ,mSel229\n",
      "#229\n",
      "set_color mCol229 = (1.0, 0.0, 1.0)\n",
      "select mSel229, resi 229\n",
      "show spheres, mSel229\n",
      "color mCol229 ,mSel229\n",
      "#230\n",
      "set_color mCol230 = (1.0, 0.0, 1.0)\n",
      "select mSel230, resi 230\n",
      "show spheres, mSel230\n",
      "color mCol230 ,mSel230\n",
      "#233\n",
      "set_color mCol233 = (1.0, 0.0, 1.0)\n",
      "select mSel233, resi 233\n",
      "show spheres, mSel233\n",
      "color mCol233 ,mSel233\n",
      "#234\n",
      "set_color mCol234 = (1.0, 0.0, 1.0)\n",
      "select mSel234, resi 234\n",
      "show spheres, mSel234\n",
      "color mCol234 ,mSel234\n",
      "#234\n",
      "set_color mCol234 = (1.0, 0.0, 1.0)\n",
      "select mSel234, resi 234\n",
      "show spheres, mSel234\n",
      "color mCol234 ,mSel234\n",
      "#235\n",
      "set_color mCol235 = (1.0, 0.0, 1.0)\n",
      "select mSel235, resi 235\n",
      "show spheres, mSel235\n",
      "color mCol235 ,mSel235\n",
      "#237\n",
      "set_color mCol237 = (1.0, 0.0, 1.0)\n",
      "select mSel237, resi 237\n",
      "show spheres, mSel237\n",
      "color mCol237 ,mSel237\n",
      "#237\n",
      "set_color mCol237 = (1.0, 0.0, 1.0)\n",
      "select mSel237, resi 237\n",
      "show spheres, mSel237\n",
      "color mCol237 ,mSel237\n"
     ]
    }
   ],
   "source": [
    "for position in sorted(positions):\n",
    "    color = cm.cool(10.0)\n",
    "    colorName = \"mCol\" + str(position+2)\n",
    "    selName = \"mSel\" + str(position+2)\n",
    "    print '#' + str(position+2)\n",
    "    print \"set_color \" + colorName + \" = \" +str(color[0:3])\n",
    "    print \"select \" + selName +\", resi \" + str(int(position + 2))\n",
    "    print \"show spheres, \" + selName\n",
    "    print \"color \" + colorName + \" ,\" + selName"
   ]
  },
  {
   "cell_type": "markdown",
   "metadata": {},
   "source": [
    "# Simultaneous mutations introduction"
   ]
  },
  {
   "cell_type": "code",
   "execution_count": 317,
   "metadata": {
    "collapsed": false,
    "scrolled": true
   },
   "outputs": [
    {
     "data": {
      "text/plain": [
       "[('SN210H', 0.98900530571079481, 79L),\n",
       " ('ST184I', 0.97283266209316177, 74L),\n",
       " ('SN103T', 0.98855658098215748, 39L),\n",
       " ('SD232A', 0.98716866857089325, 39L),\n",
       " ('SD171E', 0.93800635031541579, 36L),\n",
       " ('SK156T', 0.98700212771282092, 35L),\n",
       " ('SI227S', 0.92867705809644219, 34L),\n",
       " ('SK124T', 0.98359385591446624, 33L),\n",
       " ('SA152G', 0.97527841463459031, 31L),\n",
       " ('SD19E', 0.99052218705267026, 29L),\n",
       " ('SQ202K', 0.98088254840793276, 27L),\n",
       " ('SK154N', 0.98113061455457673, 26L),\n",
       " ('SQ182H', 0.97025305612210666, 26L),\n",
       " ('SR107L', 0.95178108044027843, 25L),\n",
       " ('SP87T', 0.92008646887212397, 25L),\n",
       " ('SD232E', 0.9964230705731032, 24L),\n",
       " ('SD19Y', 0.96744512846825093, 24L),\n",
       " ('SE233*', 0.93584844545053048, 24L),\n",
       " ('SD188E', 0.9974872917756108, 22L),\n",
       " ('SD188Y', 0.98435302130219993, 22L),\n",
       " ('SL219M', 0.97261067024463432, 22L),\n",
       " ('SI227L', 0.99439376874476204, 21L),\n",
       " ('SY235S', 0.9937737581345345, 20L),\n",
       " ('SG158A', 0.98847344375068014, 20L),\n",
       " ('SS206T', 0.98005686894078636, 20L),\n",
       " ('SK1N', 0.93349970012330297, 20L),\n",
       " ('SN147K', 0.90855321679944212, 19L),\n",
       " ('SP54A', 0.98092433504618204, 18L),\n",
       " ('SK129N', 0.96539439936131866, 18L),\n",
       " ('SA152P', 0.95894812971056864, 18L),\n",
       " ('SR166P', 0.93378236568041473, 18L),\n",
       " ('SE4D', 0.90211372925242539, 18L),\n",
       " ('SH137Q', 0.99352377520370438, 17L),\n",
       " ('SS145T', 0.9414832357015247, 17L),\n",
       " ('SS173I', 0.92596855231492592, 17L),\n",
       " ('SN162K', 0.98541332009859361, 16L),\n",
       " ('SY235*', 0.9843477153614314, 16L),\n",
       " ('SN133K', 0.98339753568089872, 16L),\n",
       " ('SL192M', 0.95410737827451364, 16L),\n",
       " ('SY180D', 0.99602969678388575, 15L),\n",
       " ('ST48N', 0.98326043439386956, 15L),\n",
       " ('SA177G', 0.97048007129102165, 15L),\n",
       " ('SE170D', 0.95992290565548233, 15L),\n",
       " ('SG2C', 0.99639254515427866, 14L),\n",
       " ('SL139M', 0.9960374678912387, 14L),\n",
       " ('SL5M', 0.99391002548651008, 14L),\n",
       " ('SD17Y', 0.92595119733503528, 14L),\n",
       " ('SV148F', 0.91930021318804545, 14L),\n",
       " ('SH79N', 0.97511627049975291, 13L),\n",
       " ('SG172V', 0.95983574203637434, 13L),\n",
       " ('SG189R', 0.94265606074731545, 13L),\n",
       " ('SI169M', 0.99463475858644623, 12L),\n",
       " ('SF221C', 0.99350884423050279, 12L),\n",
       " ('SQ78K', 0.99350137857673237, 12L),\n",
       " ('SA152S', 0.99317748491978408, 12L),\n",
       " ('SA224G', 0.98596752217049877, 12L),\n",
       " ('SP185R', 0.9733440106466007, 12L),\n",
       " ('SE122D', 0.99461136195918798, 11L),\n",
       " ('SV217L', 0.99112889074793453, 11L),\n",
       " ('SL139V', 0.98397770184003541, 11L),\n",
       " ('SV161L', 0.98325293238066247, 11L),\n",
       " ('SA225G', 0.96955876113894912, 11L),\n",
       " ('SP185A', 0.95948128239376229, 11L),\n",
       " ('ST228N', 0.99713968016634125, 10L),\n",
       " ('SV148L', 0.99497324668873122, 10L),\n",
       " ('SL199V', 0.9928142788648916, 10L),\n",
       " ('SQ155K', 0.98014924579844442, 10L),\n",
       " ('SE15Q', 0.93539965511103107, 10L),\n",
       " ('SM151A', 0.99533613141856092, 9L),\n",
       " ('SK138G', 0.99531307165350669, 9L),\n",
       " ('ST7N', 0.99172767657255323, 9L),\n",
       " ('SS145I', 0.97676741810002632, 9L),\n",
       " ('SH137N', 0.97228825509814976, 9L),\n",
       " ('SD74H', 0.97049179878249903, 9L),\n",
       " ('SN196G', 0.9609226250869366, 9L),\n",
       " ('SL123M', 0.93640935500634115, 9L),\n",
       " ('SD214H', 0.92506100990588658, 9L),\n",
       " ('SS84C', 0.99423324046823502, 8L),\n",
       " ('SD188H', 0.99350137857673237, 8L),\n",
       " ('SN210G', 0.99208241697338906, 8L),\n",
       " ('SE32Q', 0.98432365559609081, 8L),\n",
       " ('SQ182E', 0.96973655580087914, 8L),\n",
       " ('SM231E', 0.95948094553155838, 8L),\n",
       " ('SE113Q', 0.95477696046643468, 8L),\n",
       " ('SI227A', 0.99786441326627751, 7L),\n",
       " ('SL40V', 0.99567395638276357, 7L),\n",
       " ('SN103G', 0.99317716359472119, 7L),\n",
       " ('SL192V', 0.98702363540344928, 7L),\n",
       " ('SI165A', 0.98633785701695764, 7L),\n",
       " ('SG89R', 0.9583943432392199, 7L),\n",
       " ('SQ155E', 0.99423324046823491, 6L),\n",
       " ('SE4Q', 0.99352375966656337, 6L),\n",
       " ('SD127H', 0.99245953846405577, 6L),\n",
       " ('SE88Q', 0.9807395818404866, 6L),\n",
       " ('SQ78E', 0.96054453995542011, 6L),\n",
       " ('SN162C', 0.96021380742334717, 6L),\n",
       " ('SN144G', 0.92613237543710147, 6L),\n",
       " ('SK83G', 0.92543913139683964, 6L),\n",
       " ('SN103V', 0.99388664439639285, 5L),\n",
       " ('SH79C', 0.98218971117844123, 5L)]"
      ]
     },
     "execution_count": 317,
     "metadata": {},
     "output_type": "execute_result"
    }
   ],
   "source": [
    "pos_mutations.sort(key=lambda x:x[2],reverse = True)\n",
    "neg_mutations.sort(key=lambda x:x[2],reverse = True)\n",
    "pos_mutations[:100]"
   ]
  },
  {
   "cell_type": "code",
   "execution_count": 319,
   "metadata": {
    "collapsed": true
   },
   "outputs": [],
   "source": [
    "pos_mutations_extracted = [mut[0] for mut in pos_mutations[:100]]\n",
    "top_pos_idx = np.in1d(col_names, pos_mutations_extracted)"
   ]
  },
  {
   "cell_type": "code",
   "execution_count": 364,
   "metadata": {
    "collapsed": false
   },
   "outputs": [],
   "source": [
    "rows = 100000\n",
    "test_X = np.zeros((rows, X.shape[1]))"
   ]
  },
  {
   "cell_type": "code",
   "execution_count": 365,
   "metadata": {
    "collapsed": false
   },
   "outputs": [],
   "source": [
    "x = np.arange((1879))\n",
    "test_idx = x[top_pos_idx]"
   ]
  },
  {
   "cell_type": "code",
   "execution_count": 366,
   "metadata": {
    "collapsed": false,
    "scrolled": true
   },
   "outputs": [],
   "source": [
    "for it in range(rows):\n",
    "    i = 0\n",
    "    while i <= 20:\n",
    "        i+=1\n",
    "        x = np.random.randint(0,len(test_idx))\n",
    "        test_X[it, test_idx[x]] = 1"
   ]
  },
  {
   "cell_type": "code",
   "execution_count": 367,
   "metadata": {
    "collapsed": false
   },
   "outputs": [],
   "source": [
    "hs = clf.predict_proba(test_X)\n",
    "\n",
    "pos_idx = (hs[:,1]>0.9)\n",
    "neg_idx = (hs[:,0]>0.9)\n",
    "df = pd.DataFrame(test_X[pos_idx], columns=col_names)"
   ]
  },
  {
   "cell_type": "code",
   "execution_count": 368,
   "metadata": {
    "collapsed": true
   },
   "outputs": [],
   "source": [
    "pos_cum_mut = []\n",
    "for i in range(len(df)):\n",
    "    pos_cum_mut += list(df.columns[df.ix[i] == 1])"
   ]
  },
  {
   "cell_type": "code",
   "execution_count": 378,
   "metadata": {
    "collapsed": false
   },
   "outputs": [],
   "source": [
    "pos_cum_mut = list(set(pos_cum_mut))"
   ]
  },
  {
   "cell_type": "code",
   "execution_count": 386,
   "metadata": {
    "collapsed": false
   },
   "outputs": [
    {
     "data": {
      "text/plain": [
       "array([76, 97])"
      ]
     },
     "execution_count": 386,
     "metadata": {},
     "output_type": "execute_result"
    }
   ],
   "source": [
    "x = np.arange((100))\n",
    "x[~np.in1d(pos_mutations_extracted, pos_cum_mut)]"
   ]
  },
  {
   "cell_type": "code",
   "execution_count": 388,
   "metadata": {
    "collapsed": false
   },
   "outputs": [],
   "source": [
    "bad_mut = []\n",
    "for i in [76, 97]:\n",
    "    bad_mut += list(df.columns[df.ix[i] == 1])"
   ]
  },
  {
   "cell_type": "code",
   "execution_count": 389,
   "metadata": {
    "collapsed": false
   },
   "outputs": [
    {
     "data": {
      "text/plain": [
       "['SQ202K',\n",
       " 'SI227L',\n",
       " 'SD171E',\n",
       " 'SN210H',\n",
       " 'SQ182H',\n",
       " 'SK138G',\n",
       " 'SI227A',\n",
       " 'SE113Q',\n",
       " 'SD19E',\n",
       " 'SK156T',\n",
       " 'SD19Y',\n",
       " 'SE32Q',\n",
       " 'SS173I',\n",
       " 'SM151A',\n",
       " 'SN133K',\n",
       " 'SS145I',\n",
       " 'SG172V',\n",
       " 'SM231E',\n",
       " 'SI227L',\n",
       " 'SD188H',\n",
       " 'SD171E',\n",
       " 'SE233*',\n",
       " 'SD232E',\n",
       " 'SY180D',\n",
       " 'SL123M',\n",
       " 'SD19E',\n",
       " 'SD19Y',\n",
       " 'SE122D',\n",
       " 'SG158A',\n",
       " 'SQ182E',\n",
       " 'SH79C',\n",
       " 'SS173I',\n",
       " 'SI169M',\n",
       " 'SP54A',\n",
       " 'SM231E',\n",
       " 'ST7N']"
      ]
     },
     "execution_count": 389,
     "metadata": {},
     "output_type": "execute_result"
    }
   ],
   "source": [
    "bad_mut"
   ]
  },
  {
   "cell_type": "code",
   "execution_count": null,
   "metadata": {
    "collapsed": true
   },
   "outputs": [],
   "source": []
  }
 ],
 "metadata": {
  "anaconda-cloud": {},
  "kernelspec": {
   "display_name": "Python [conda root]",
   "language": "python",
   "name": "conda-root-py"
  },
  "language_info": {
   "codemirror_mode": {
    "name": "ipython",
    "version": 2
   },
   "file_extension": ".py",
   "mimetype": "text/x-python",
   "name": "python",
   "nbconvert_exporter": "python",
   "pygments_lexer": "ipython2",
   "version": "2.7.12"
  }
 },
 "nbformat": 4,
 "nbformat_minor": 1
}
