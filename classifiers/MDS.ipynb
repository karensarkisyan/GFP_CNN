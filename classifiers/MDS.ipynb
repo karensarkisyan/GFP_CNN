{
 "cells": [
  {
   "cell_type": "code",
   "execution_count": 50,
   "metadata": {
    "collapsed": true
   },
   "outputs": [],
   "source": [
    "from sklearn import manifold\n",
    "from scipy import sparse \n",
    "import numpy as np\n",
    "from time import time\n",
    "from matplotlib import pyplot as plt\n",
    "from sklearn.svm import SVC\n",
    "from sklearn import metrics\n",
    "%matplotlib inline"
   ]
  },
  {
   "cell_type": "markdown",
   "metadata": {},
   "source": [
    "## Importing sparse data"
   ]
  },
  {
   "cell_type": "code",
   "execution_count": 2,
   "metadata": {
    "collapsed": true
   },
   "outputs": [],
   "source": [
    "# Function to load csr matrix of samples and list of colnames from file\n",
    "def load_csr_from_csv(filename):\n",
    "    indices = np.loadtxt(filename+\"_indices.csv\",unpack=True,delimiter=\",\")\n",
    "    indptr = np.loadtxt(filename+\"_indptr.csv\",unpack=True,delimiter=\",\")\n",
    "    shape = np.loadtxt(filename+\"_shape.csv\",unpack=True,delimiter=\",\")\n",
    "    col_names = np.loadtxt(filename+\"_col_names.csv\",unpack=True,delimiter=\",\",dtype=str)\n",
    "    data = np.ones_like(indices,dtype=np.int8)\n",
    "    \n",
    "    return sparse.csr_matrix((data, indices, indptr),\n",
    "                         shape = shape),col_names"
   ]
  },
  {
   "cell_type": "code",
   "execution_count": 3,
   "metadata": {
    "collapsed": true
   },
   "outputs": [],
   "source": [
    "# returns the csr matrix of samples and list of colnames\n",
    "def load_csr_from_csv_with_data(filename):\n",
    "    data = np.loadtxt(filename+\"_data.csv\",unpack=True,delimiter=\",\",dtype=np.int8)\n",
    "    indices = np.loadtxt(filename+\"_indices.csv\",unpack=True,delimiter=\",\")\n",
    "    indptr = np.loadtxt(filename+\"_indptr.csv\",unpack=True,delimiter=\",\")\n",
    "    shape = np.loadtxt(filename+\"_shape.csv\",unpack=True,delimiter=\",\")\n",
    "    col_names = np.loadtxt(filename+\"_col_names.csv\",unpack=True,delimiter=\",\",dtype=str)\n",
    "    \n",
    "    return sparse.csr_matrix((data, indices, indptr),\n",
    "                         shape = shape),col_names"
   ]
  },
  {
   "cell_type": "code",
   "execution_count": 9,
   "metadata": {
    "collapsed": false
   },
   "outputs": [
    {
     "name": "stdout",
     "output_type": "stream",
     "text": [
      "Total number of mutants: 54025\n",
      "Fraction of positive samples: 0.34\n"
     ]
    }
   ],
   "source": [
    "# load the target values of brightness and create a binary vector \n",
    "# with 1 for samples with brightness above threshold and 0 otherwise\n",
    "y,std = np.loadtxt(\"target_values.csv\",unpack=True,delimiter=\",\")\n",
    "\n",
    "threshold = 0.95 #threshold for target values\n",
    "\n",
    "y_bin = np.where(y >= y[0]*threshold,1,0) # binary respresentation of target values based on threshold\n",
    "\n",
    "class_weights = (y_bin.sum()*1./(y_bin.shape[0]-y_bin.sum())*1.,1.)\n",
    " \n",
    "print \"Total number of mutants: %d\"%y.shape[0]\n",
    "print \"Fraction of positive samples: %.2f\"%(y_bin.sum()*1./y_bin.shape[0])"
   ]
  },
  {
   "cell_type": "code",
   "execution_count": 10,
   "metadata": {
    "collapsed": true
   },
   "outputs": [],
   "source": [
    "sample_weights = np.loadtxt(\"sample_weights.csv\", delimiter=\",\")\n",
    "sample_weights = np.log10(sample_weights*10)\n",
    "sample_weights = (sample_weights/sample_weights.max()).reshape(-1)"
   ]
  },
  {
   "cell_type": "code",
   "execution_count": 11,
   "metadata": {
    "collapsed": false
   },
   "outputs": [
    {
     "name": "stdout",
     "output_type": "stream",
     "text": [
      "(54025, 1879)\n"
     ]
    }
   ],
   "source": [
    "# Load the full mutation list dataset with column names from file\n",
    "X, col_names = load_csr_from_csv(\"sparse_csr\")\n",
    "print X.shape"
   ]
  },
  {
   "cell_type": "code",
   "execution_count": 12,
   "metadata": {
    "collapsed": false
   },
   "outputs": [],
   "source": [
    "# Retrieve all the mutants with single mutations \n",
    "# and create the look up table for this single mutations\n",
    "single_mutations = {}\n",
    "single_mut_idx = []\n",
    "\n",
    "for i in xrange(X.shape[0]):\n",
    "    if X.getrow(i).indices.shape[0] == 1: #how many mutations in this mutant? one?\n",
    "        index = X.getrow(i).indices[0]\n",
    "        mutation = col_names[index]\n",
    "#         print mutation, i\n",
    "        if mutation not in single_mutations:\n",
    "            single_mutations[mutation] = {\"id\":index,\"mutants\":[i]}\n",
    "            single_mut_idx.append(i)\n",
    "        else:\n",
    "            single_mutations[mutation][\"mutants\"].append(i)"
   ]
  },
  {
   "cell_type": "markdown",
   "metadata": {},
   "source": [
    "## MDS"
   ]
  },
  {
   "cell_type": "code",
   "execution_count": null,
   "metadata": {
    "collapsed": false
   },
   "outputs": [],
   "source": [
    "t0 = time()\n",
    "clf = manifold.MDS(n_components=10, max_iter=100, n_init=1)\n",
    "Y = clf.fit_transform(X.toarray())\n",
    "t1 = time()\n",
    "print(\"MDS: %.2g sec\" % (t1 - t0))"
   ]
  },
  {
   "cell_type": "markdown",
   "metadata": {},
   "source": [
    "### SVM on reduced data"
   ]
  },
  {
   "cell_type": "code",
   "execution_count": null,
   "metadata": {
    "collapsed": false
   },
   "outputs": [],
   "source": [
    "print \"Training SVM...\"\n",
    "t1 = time()\n",
    "clf = SVC(C=100, gamma=0.1, class_weight={0:class_weights[0],1:class_weights[1]}, probability = True)\n",
    "clf.fit(Y, y_bin, sample_weight = sample_weights)\n",
    "print \"Time taken: %.f\"%(time()-t1)"
   ]
  },
  {
   "cell_type": "code",
   "execution_count": null,
   "metadata": {
    "collapsed": false
   },
   "outputs": [],
   "source": [
    "yhat = clf.predict(Y)"
   ]
  },
  {
   "cell_type": "code",
   "execution_count": null,
   "metadata": {
    "collapsed": false
   },
   "outputs": [],
   "source": [
    "print \"Training Accuracy: %.2f\" % metrics.accuracy_score(y_bin, yhat, sample_weight = sample_weights)"
   ]
  },
  {
   "cell_type": "code",
   "execution_count": null,
   "metadata": {
    "collapsed": true
   },
   "outputs": [],
   "source": []
  }
 ],
 "metadata": {
  "kernelspec": {
   "display_name": "Python 2",
   "language": "python",
   "name": "python2"
  },
  "language_info": {
   "codemirror_mode": {
    "name": "ipython",
    "version": 2
   },
   "file_extension": ".py",
   "mimetype": "text/x-python",
   "name": "python",
   "nbconvert_exporter": "python",
   "pygments_lexer": "ipython2",
   "version": "2.7.13"
  }
 },
 "nbformat": 4,
 "nbformat_minor": 2
}
