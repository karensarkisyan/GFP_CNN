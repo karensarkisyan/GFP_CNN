{
 "cells": [
  {
   "cell_type": "code",
   "execution_count": 2,
   "metadata": {
    "collapsed": false
   },
   "outputs": [],
   "source": [
    "import numpy as np\n",
    "from itertools import combinations\n",
    "from matplotlib import cm\n",
    "from __future__ import division\n",
    "import pandas as pd \n",
    "import matplotlib.pyplot as plt\n",
    "from scipy import sparse \n",
    "import seaborn as sns\n",
    "sns.set(rc={'axes.facecolor':'#F5F5F5'})\n",
    "%matplotlib inline\n",
    "\n",
    "from sklearn.model_selection import StratifiedShuffleSplit,StratifiedKFold\n",
    "from sklearn.svm import SVR\n",
    "from sklearn.model_selection import KFold\n",
    "from sklearn.model_selection import GridSearchCV\n",
    "from sklearn import metrics\n",
    "from sklearn import neighbors\n",
    "from sklearn.model_selection import KFold\n",
    "\n",
    "from time import time"
   ]
  },
  {
   "cell_type": "markdown",
   "metadata": {},
   "source": [
    "# Importing data"
   ]
  },
  {
   "cell_type": "code",
   "execution_count": 3,
   "metadata": {
    "collapsed": true
   },
   "outputs": [],
   "source": [
    "# Function to load csr matrix of samples and list of colnames from file\n",
    "def load_csr_from_csv(filename):\n",
    "    indices = np.loadtxt(filename+\"_indices.csv\",unpack=True,delimiter=\",\")\n",
    "    indptr = np.loadtxt(filename+\"_indptr.csv\",unpack=True,delimiter=\",\")\n",
    "    shape = np.loadtxt(filename+\"_shape.csv\",unpack=True,delimiter=\",\")\n",
    "    col_names = np.loadtxt(filename+\"_col_names.csv\",unpack=True,delimiter=\",\",dtype=str)\n",
    "    data = np.ones_like(indices,dtype=np.int8)\n",
    "    \n",
    "    return sparse.csr_matrix((data, indices, indptr),\n",
    "                         shape = shape),col_names"
   ]
  },
  {
   "cell_type": "code",
   "execution_count": 4,
   "metadata": {
    "collapsed": true
   },
   "outputs": [],
   "source": [
    "# returns the csr matrix of samples and list of colnames\n",
    "def load_csr_from_csv_with_data(filename):\n",
    "    data = np.loadtxt(filename+\"_data.csv\",unpack=True,delimiter=\",\",dtype=np.int8)\n",
    "    indices = np.loadtxt(filename+\"_indices.csv\",unpack=True,delimiter=\",\")\n",
    "    indptr = np.loadtxt(filename+\"_indptr.csv\",unpack=True,delimiter=\",\")\n",
    "    shape = np.loadtxt(filename+\"_shape.csv\",unpack=True,delimiter=\",\")\n",
    "    col_names = np.loadtxt(filename+\"_col_names.csv\",unpack=True,delimiter=\",\",dtype=str)\n",
    "    \n",
    "    return sparse.csr_matrix((data, indices, indptr),\n",
    "                         shape = shape),col_names"
   ]
  },
  {
   "cell_type": "code",
   "execution_count": 27,
   "metadata": {
    "collapsed": false
   },
   "outputs": [
    {
     "name": "stdout",
     "output_type": "stream",
     "text": [
      "(54025, 1879)\n"
     ]
    }
   ],
   "source": [
    "# Load the full mutation list dataset with column names from file\n",
    "X, col_names = load_csr_from_csv(\"sparse_csr\")\n",
    "y,std = np.loadtxt(\"target_values.csv\",unpack=True,delimiter=\",\")\n",
    "print X.shape"
   ]
  },
  {
   "cell_type": "code",
   "execution_count": 7,
   "metadata": {
    "collapsed": false
   },
   "outputs": [],
   "source": [
    "# Retrieve all the mutants with single mutations \n",
    "# and create the look up table for this single mutations\n",
    "single_mutations = {}\n",
    "single_mut_idx = []\n",
    "\n",
    "for i in xrange(X.shape[0]):\n",
    "    if X.getrow(i).indices.shape[0] == 1: #how many mutations in this mutant? one?\n",
    "        index = X.getrow(i).indices[0]\n",
    "        mutation = col_names[index]\n",
    "#         print mutation, i\n",
    "        if mutation not in single_mutations:\n",
    "            single_mutations[mutation] = {\"id\":index,\"mutants\":[i]}\n",
    "            single_mut_idx.append(i)\n",
    "        else:\n",
    "            single_mutations[mutation][\"mutants\"].append(i)\n",
    "            \n",
    "            "
   ]
  },
  {
   "cell_type": "code",
   "execution_count": 8,
   "metadata": {
    "collapsed": false
   },
   "outputs": [
    {
     "name": "stdout",
     "output_type": "stream",
     "text": [
      "Total number of single mutation mutants: 1114\n"
     ]
    }
   ],
   "source": [
    "print \"Total number of single mutation mutants: %d\" % len(single_mut_idx)"
   ]
  },
  {
   "cell_type": "markdown",
   "metadata": {},
   "source": [
    "# SVR"
   ]
  },
  {
   "cell_type": "code",
   "execution_count": 11,
   "metadata": {
    "collapsed": false
   },
   "outputs": [
    {
     "data": {
      "text/plain": [
       "array([    5,     6,    13, ..., 54016, 54021, 54024])"
      ]
     },
     "execution_count": 11,
     "metadata": {},
     "output_type": "execute_result"
    }
   ],
   "source": [
    "skf = StratifiedKFold(n_splits=5,shuffle=True)\n",
    "train_idx, test_idx = skf.split(X,y_bin).next()\n",
    "test_idx.shape\n",
    "x,y = X[test_idx,:],y_bin[test_idx]\n",
    "x.shape\n",
    "test_idx"
   ]
  },
  {
   "cell_type": "markdown",
   "metadata": {},
   "source": [
    "### Grid search"
   ]
  },
  {
   "cell_type": "markdown",
   "metadata": {},
   "source": [
    "#### Choosing kernel"
   ]
  },
  {
   "cell_type": "code",
   "execution_count": 132,
   "metadata": {
    "collapsed": false
   },
   "outputs": [
    {
     "name": "stdout",
     "output_type": "stream",
     "text": [
      "Training SVM...\n",
      "Time taken: 730\n"
     ]
    }
   ],
   "source": [
    "## train the classifer using full data set\n",
    "print \"Training SVM...\"\n",
    "t1 = time()\n",
    "clf = SVC(C=100, gamma=0.1, class_weight={0:class_weights[0],1:class_weights[1]})\n",
    "parameters = {\"kernel\":('linear', 'poly', 'rbf', 'sigmoid')}\n",
    "clf = GridSearchCV(clf, param_grid=parameters, cv = 5, n_jobs = -1,\\\n",
    "                   fit_params = {'sample_weight':sample_weights})\n",
    "clf.fit(X, y_bin)\n",
    "print \"Time taken: %.f\"%(time()-t1)"
   ]
  },
  {
   "cell_type": "code",
   "execution_count": 133,
   "metadata": {
    "collapsed": false
   },
   "outputs": [
    {
     "name": "stdout",
     "output_type": "stream",
     "text": [
      "{'kernel': 'rbf'}\n"
     ]
    }
   ],
   "source": [
    "print str(clf.best_params_)"
   ]
  },
  {
   "cell_type": "markdown",
   "metadata": {},
   "source": [
    "#### Choosing C and gamma"
   ]
  },
  {
   "cell_type": "code",
   "execution_count": 135,
   "metadata": {
    "collapsed": false,
    "scrolled": true
   },
   "outputs": [],
   "source": [
    "print \"Running SVM parameter grid search...\"\n",
    "skf = StratifiedKFold(n_splits = 6, shuffle = True) \n",
    "\n",
    "for train_index, test_index in skf.split(X, y_bin):\n",
    "    t1 = time()\n",
    "    X_train, X_test = X[train_index], X[test_index]\n",
    "    y_train, y_test = y_bin[train_index], y_bin[test_index]\n",
    "    \n",
    "    clf = SVC(class_weight={0:class_weights[0],1:class_weights[1]})\n",
    "\n",
    "    parameters = {\"C\":(0.1,10,100,1000),\"gamma\":(0.01,0.1,1,10)}\n",
    "    clf = GridSearchCV(clf,param_grid=parameters,cv = 5,n_jobs=-1,\\\n",
    "                       fit_params={'sample_weight':sample_weights[train_index]})\n",
    "    clf.fit(X_train, y_train)\n",
    "    yhat = clf.predict(X_test)\n",
    "    print \"Test set Accuracy: %.2f\" % metrics.accuracy_score(y_test, yhat, sample_weight = sample_weights[test_index])\n",
    "    print str(clf.best_params_)\n",
    "    print \"Time taken: %.f s\"%(time()-t1)"
   ]
  },
  {
   "cell_type": "markdown",
   "metadata": {},
   "source": [
    "### Training classifier"
   ]
  },
  {
   "cell_type": "code",
   "execution_count": 13,
   "metadata": {
    "collapsed": false
   },
   "outputs": [
    {
     "name": "stdout",
     "output_type": "stream",
     "text": [
      "Training SVM...\n"
     ]
    },
    {
     "data": {
      "text/plain": [
       "SVR(C=100, cache_size=200, coef0=0.0, degree=3, epsilon=0.1, gamma=0.1,\n",
       "  kernel='rbf', max_iter=-1, shrinking=True, tol=0.001, verbose=False)"
      ]
     },
     "execution_count": 13,
     "metadata": {},
     "output_type": "execute_result"
    }
   ],
   "source": [
    "## train the classifer using full data set\n",
    "print \"Training SVM...\"\n",
    "t1 = time()\n",
    "clf = SVR(C=100, gamma=0.1)\n",
    "clf.fit(X, y)\n",
    "print \"Time taken: %.f\"%(time()-t1)"
   ]
  },
  {
   "cell_type": "code",
   "execution_count": 15,
   "metadata": {
    "collapsed": false
   },
   "outputs": [],
   "source": [
    "yhat = clf.predict(X)"
   ]
  },
  {
   "cell_type": "code",
   "execution_count": 21,
   "metadata": {
    "collapsed": false
   },
   "outputs": [
    {
     "data": {
      "text/plain": [
       "array([ 3.85319011,  1.40114079,  1.40109805, ...,  1.20087406,\n",
       "        1.40159136,  1.40233384])"
      ]
     },
     "execution_count": 21,
     "metadata": {},
     "output_type": "execute_result"
    }
   ],
   "source": [
    "yhat"
   ]
  },
  {
   "cell_type": "code",
   "execution_count": 28,
   "metadata": {
    "collapsed": false
   },
   "outputs": [
    {
     "data": {
      "text/plain": [
       "array([ 3.71921,  1.30103,  1.30103, ...,  1.30103,  1.30152,  1.30213])"
      ]
     },
     "execution_count": 28,
     "metadata": {},
     "output_type": "execute_result"
    }
   ],
   "source": [
    "y"
   ]
  },
  {
   "cell_type": "code",
   "execution_count": 19,
   "metadata": {
    "collapsed": false,
    "scrolled": true
   },
   "outputs": [
    {
     "data": {
      "text/plain": [
       "1.0"
      ]
     },
     "execution_count": 19,
     "metadata": {},
     "output_type": "execute_result"
    }
   ],
   "source": [
    "clf.score(X, yhat)"
   ]
  },
  {
   "cell_type": "markdown",
   "metadata": {},
   "source": [
    "# Assessing quality"
   ]
  },
  {
   "cell_type": "code",
   "execution_count": 20,
   "metadata": {
    "collapsed": false
   },
   "outputs": [
    {
     "ename": "NameError",
     "evalue": "name 'sample_weights' is not defined",
     "output_type": "error",
     "traceback": [
      "\u001b[0;31m---------------------------------------------------------------------------\u001b[0m",
      "\u001b[0;31mNameError\u001b[0m                                 Traceback (most recent call last)",
      "\u001b[0;32m<ipython-input-20-d430146fc6b3>\u001b[0m in \u001b[0;36m<module>\u001b[0;34m()\u001b[0m\n\u001b[1;32m      1\u001b[0m \u001b[0mr\u001b[0m \u001b[0;34m=\u001b[0m \u001b[0;36m200\u001b[0m\u001b[0;34m\u001b[0m\u001b[0m\n\u001b[1;32m      2\u001b[0m \u001b[0mx\u001b[0m \u001b[0;34m=\u001b[0m \u001b[0mnp\u001b[0m\u001b[0;34m.\u001b[0m\u001b[0marange\u001b[0m\u001b[0;34m(\u001b[0m\u001b[0mr\u001b[0m\u001b[0;34m)\u001b[0m\u001b[0;34m\u001b[0m\u001b[0m\n\u001b[0;32m----> 3\u001b[0;31m \u001b[0mweight_order\u001b[0m \u001b[0;34m=\u001b[0m \u001b[0msample_weights\u001b[0m\u001b[0;34m.\u001b[0m\u001b[0margsort\u001b[0m\u001b[0;34m(\u001b[0m\u001b[0;34m)\u001b[0m\u001b[0;34m[\u001b[0m\u001b[0;34m:\u001b[0m\u001b[0;34m:\u001b[0m\u001b[0;34m-\u001b[0m\u001b[0;36m1\u001b[0m\u001b[0;34m]\u001b[0m\u001b[0;34m\u001b[0m\u001b[0m\n\u001b[0m\u001b[1;32m      4\u001b[0m \u001b[0;34m\u001b[0m\u001b[0m\n\u001b[1;32m      5\u001b[0m \u001b[0mTP\u001b[0m \u001b[0;34m=\u001b[0m \u001b[0;34m(\u001b[0m\u001b[0myhat\u001b[0m \u001b[0;34m==\u001b[0m \u001b[0my_bin\u001b[0m\u001b[0;34m)\u001b[0m \u001b[0;34m&\u001b[0m \u001b[0;34m(\u001b[0m\u001b[0my_bin\u001b[0m \u001b[0;34m==\u001b[0m \u001b[0;36m1\u001b[0m\u001b[0;34m)\u001b[0m\u001b[0;34m\u001b[0m\u001b[0m\n",
      "\u001b[0;31mNameError\u001b[0m: name 'sample_weights' is not defined"
     ]
    }
   ],
   "source": [
    "r = 200\n",
    "x = np.arange(r)\n",
    "weight_order = sample_weights.argsort()[::-1]\n",
    "\n",
    "TP = (yhat == y_bin) & (y_bin == 1)\n",
    "TP = TP[weight_order][:r]\n",
    "\n",
    "TN = (yhat == y_bin) & (y_bin == 0)\n",
    "TN = TN[weight_order][:r]\n",
    "\n",
    "FP = (yhat != y_bin) & (yhat == 1)\n",
    "FP = FP[weight_order][:r]\n",
    "\n",
    "FN = (yhat != y_bin) & (yhat == 0)\n",
    "FN = FN[weight_order][:r]\n",
    "\n",
    "F = (yhat != y_bin)\n",
    "F = F[weight_order][:r]\n",
    "\n",
    "T = (yhat == y_bin)\n",
    "T = T[weight_order][:r]\n",
    "\n",
    "plt.figure(figsize = [15,10])\n",
    "plt.plot(x[TP],sample_weights[weight_order][:r][TP].cumsum(),'.')\n",
    "plt.plot(x[TN],sample_weights[weight_order][:r][TN].cumsum(),'.')\n",
    "plt.plot(x[FP],sample_weights[weight_order][:r][FP].cumsum(),'.')\n",
    "plt.plot(x[FN],sample_weights[weight_order][:r][FN].cumsum(),'.')\n",
    "plt.legend(('TP','TN',\"FP\",\"FN\"), loc = 2);"
   ]
  },
  {
   "cell_type": "code",
   "execution_count": 24,
   "metadata": {
    "collapsed": false
   },
   "outputs": [
    {
     "data": {
      "image/png": "[encoded data removed]",
      "text/plain": [
       "<matplotlib.figure.Figure at 0x7fa94ff25890>"
      ]
     },
     "metadata": {},
     "output_type": "display_data"
    }
   ],
   "source": [
    "plt.figure(figsize = [15,10])\n",
    "plt.plot(x,TP.cumsum(), '.')\n",
    "plt.plot(x,TN.cumsum(), '.')\n",
    "plt.plot(x,FP.cumsum(), '.')\n",
    "plt.plot(x,FN.cumsum(), '.')\n",
    "plt.legend(('TP','TN',\"FP\",\"FN\"),loc=2)\n",
    "plt.title('Accumulated numbers of TP, TN, FP and FN');"
   ]
  },
  {
   "cell_type": "code",
   "execution_count": 25,
   "metadata": {
    "collapsed": false
   },
   "outputs": [
    {
     "name": "stdout",
     "output_type": "stream",
     "text": [
      "False predictions start at #30 sample weight\n"
     ]
    },
    {
     "data": {
      "image/png": "[encoded data removed]",
      "text/plain": [
       "<matplotlib.figure.Figure at 0x7fa94d806d50>"
      ]
     },
     "metadata": {},
     "output_type": "display_data"
    }
   ],
   "source": [
    "plt.figure(figsize=[15,10])\n",
    "pT = plt.plot(x[T],sample_weights[weight_order][:r][T].cumsum())\n",
    "pF = plt.plot(x[F],sample_weights[weight_order][:r][F].cumsum())\n",
    "print 'False predictions start at #%d sample weight' % x[F][0]\n",
    "\n",
    "plt.legend((pT[0], pF[0]), ('True','False'),loc=2)\n",
    "\n",
    "plt.title(\"Cumulative weight of True and False predictions\")\n",
    "plt.ylabel(\"Cumulative sample weight\")\n",
    "plt.xlabel(\"Mutants in decreasing order of weight\");"
   ]
  },
  {
   "cell_type": "code",
   "execution_count": 26,
   "metadata": {
    "collapsed": false
   },
   "outputs": [],
   "source": [
    "single_mutants_idx = np.asarray((np.sum(X,axis = 1) == 1)).ravel()\n",
    "single_mutation_idx = np.asarray(np.sum(X[single_mutants_idx,:],axis=0) == 1).ravel()\n",
    "single_mutation_idx\n",
    "del single_mutants_idx\n",
    "\n",
    "S = sparse.diags(np.ones(X.shape[1]))"
   ]
  },
  {
   "cell_type": "code",
   "execution_count": 27,
   "metadata": {
    "collapsed": false,
    "scrolled": true
   },
   "outputs": [],
   "source": [
    "hs = clf.predict_proba(S)"
   ]
  },
  {
   "cell_type": "code",
   "execution_count": 28,
   "metadata": {
    "collapsed": false
   },
   "outputs": [
    {
     "name": "stdout",
     "output_type": "stream",
     "text": [
      "198 17\n"
     ]
    }
   ],
   "source": [
    "pos_idx = (hs[:,1]>0.9) & ~single_mutation_idx\n",
    "neg_idx = (hs[:,0]>0.9) & ~single_mutation_idx\n",
    "pos_mutations = zip([col_names[i] for i in xrange(pos_idx.shape[0]) if pos_idx[i]],hs[pos_idx][:,1],np.sum(X[:,pos_idx],axis = 0).tolist()[0])\n",
    "neg_mutations = zip([col_names[i] for i in xrange(neg_idx.shape[0]) if neg_idx[i]],hs[neg_idx][:,0],np.sum(X[:,neg_idx],axis = 0).tolist()[0])\n",
    "print len(pos_mutations),len(neg_mutations)"
   ]
  },
  {
   "cell_type": "markdown",
   "metadata": {},
   "source": [
    "#### Generating code for PyMOL"
   ]
  },
  {
   "cell_type": "markdown",
   "metadata": {},
   "source": [
    "bg_color white\n",
    "set surface_quality, 1\n",
    "set transparency, 0.5\n",
    "\n",
    "fetch 2WUR \n",
    "show cartoon, all\n",
    "hide lines, all\n",
    "\n",
    "select waters, name o\n",
    "hide everything, waters\n",
    "\n",
    "select chr, resn GYS\n",
    "\n",
    "color white, all\n",
    "show sticks, chr\n",
    "color green, chr\n",
    "\n",
    "select aa_64_68, resi 64+68\n",
    "select aa_64_68_mainchain, aa_64_68 and name C+CO+CA+N\n",
    "show ribbons, aa_64_68_mainchain"
   ]
  },
  {
   "cell_type": "code",
   "execution_count": 29,
   "metadata": {
    "collapsed": false
   },
   "outputs": [],
   "source": [
    "positions = []\n",
    "for m in pos_mutations[:20]:\n",
    "    position = int(m[0][2:-1])\n",
    "    positions.append(position)"
   ]
  },
  {
   "cell_type": "code",
   "execution_count": 30,
   "metadata": {
    "collapsed": false,
    "scrolled": true
   },
   "outputs": [
    {
     "name": "stdout",
     "output_type": "stream",
     "text": [
      "#75\n",
      "set_color mCol75 = (1.0, 0.0, 1.0)\n",
      "select mSel75, resi 75\n",
      "show spheres, mSel75\n",
      "color mCol75 ,mSel75\n",
      "#76\n",
      "set_color mCol76 = (1.0, 0.0, 1.0)\n",
      "select mSel76, resi 76\n",
      "show spheres, mSel76\n",
      "color mCol76 ,mSel76\n",
      "#105\n",
      "set_color mCol105 = (1.0, 0.0, 1.0)\n",
      "select mSel105, resi 105\n",
      "show spheres, mSel105\n",
      "color mCol105 ,mSel105\n",
      "#132\n",
      "set_color mCol132 = (1.0, 0.0, 1.0)\n",
      "select mSel132, resi 132\n",
      "show spheres, mSel132\n",
      "color mCol132 ,mSel132\n",
      "#149\n",
      "set_color mCol149 = (1.0, 0.0, 1.0)\n",
      "select mSel149, resi 149\n",
      "show spheres, mSel149\n",
      "color mCol149 ,mSel149\n",
      "#154\n",
      "set_color mCol154 = (1.0, 0.0, 1.0)\n",
      "select mSel154, resi 154\n",
      "show spheres, mSel154\n",
      "color mCol154 ,mSel154\n",
      "#154\n",
      "set_color mCol154 = (1.0, 0.0, 1.0)\n",
      "select mSel154, resi 154\n",
      "show spheres, mSel154\n",
      "color mCol154 ,mSel154\n",
      "#154\n",
      "set_color mCol154 = (1.0, 0.0, 1.0)\n",
      "select mSel154, resi 154\n",
      "show spheres, mSel154\n",
      "color mCol154 ,mSel154\n",
      "#155\n",
      "set_color mCol155 = (1.0, 0.0, 1.0)\n",
      "select mSel155, resi 155\n",
      "show spheres, mSel155\n",
      "color mCol155 ,mSel155\n",
      "#159\n",
      "set_color mCol159 = (1.0, 0.0, 1.0)\n",
      "select mSel159, resi 159\n",
      "show spheres, mSel159\n",
      "color mCol159 ,mSel159\n",
      "#159\n",
      "set_color mCol159 = (1.0, 0.0, 1.0)\n",
      "select mSel159, resi 159\n",
      "show spheres, mSel159\n",
      "color mCol159 ,mSel159\n",
      "#173\n",
      "set_color mCol173 = (1.0, 0.0, 1.0)\n",
      "select mSel173, resi 173\n",
      "show spheres, mSel173\n",
      "color mCol173 ,mSel173\n",
      "#185\n",
      "set_color mCol185 = (1.0, 0.0, 1.0)\n",
      "select mSel185, resi 185\n",
      "show spheres, mSel185\n",
      "color mCol185 ,mSel185\n",
      "#189\n",
      "set_color mCol189 = (1.0, 0.0, 1.0)\n",
      "select mSel189, resi 189\n",
      "show spheres, mSel189\n",
      "color mCol189 ,mSel189\n",
      "#190\n",
      "set_color mCol190 = (1.0, 0.0, 1.0)\n",
      "select mSel190, resi 190\n",
      "show spheres, mSel190\n",
      "color mCol190 ,mSel190\n",
      "#191\n",
      "set_color mCol191 = (1.0, 0.0, 1.0)\n",
      "select mSel191, resi 191\n",
      "show spheres, mSel191\n",
      "color mCol191 ,mSel191\n",
      "#204\n",
      "set_color mCol204 = (1.0, 0.0, 1.0)\n",
      "select mSel204, resi 204\n",
      "show spheres, mSel204\n",
      "color mCol204 ,mSel204\n",
      "#229\n",
      "set_color mCol229 = (1.0, 0.0, 1.0)\n",
      "select mSel229, resi 229\n",
      "show spheres, mSel229\n",
      "color mCol229 ,mSel229\n",
      "#230\n",
      "set_color mCol230 = (1.0, 0.0, 1.0)\n",
      "select mSel230, resi 230\n",
      "show spheres, mSel230\n",
      "color mCol230 ,mSel230\n",
      "#235\n",
      "set_color mCol235 = (1.0, 0.0, 1.0)\n",
      "select mSel235, resi 235\n",
      "show spheres, mSel235\n",
      "color mCol235 ,mSel235\n"
     ]
    }
   ],
   "source": [
    "for position in sorted(positions):\n",
    "    color = cm.cool(10.0)\n",
    "    colorName = \"mCol\" + str(position+2)\n",
    "    selName = \"mSel\" + str(position+2)\n",
    "    print '#' + str(position+2)\n",
    "    print \"set_color \" + colorName + \" = \" +str(color[0:3])\n",
    "    print \"select \" + selName +\", resi \" + str(int(position + 2))\n",
    "    print \"show spheres, \" + selName\n",
    "    print \"color \" + colorName + \" ,\" + selName"
   ]
  },
  {
   "cell_type": "markdown",
   "metadata": {},
   "source": [
    "### Making a gif\n",
    "\n",
    "show sticks, qplex\n",
    "show spheres, qplex\n",
    "rotate y,90\n",
    "set sphere_scale, 0.2\n",
    "set stick_radius,0.15\n",
    "bg_color white\n",
    "set antialias,1\n",
    "set depth_cue, 0\n",
    "mset 1 x360\n",
    "util.mroll(1,360,2)\n",
    "set ray_trace_frames=1\n",
    "set cache_frames=0\n",
    "mclear\n",
    "mpng mov"
   ]
  },
  {
   "cell_type": "markdown",
   "metadata": {},
   "source": [
    "# Simultaneous mutations introduction"
   ]
  },
  {
   "cell_type": "code",
   "execution_count": 80,
   "metadata": {
    "collapsed": true
   },
   "outputs": [],
   "source": [
    "pos_mutations.sort(key=lambda x:x[2],reverse = True)\n",
    "neg_mutations.sort(key=lambda x:x[2],reverse = True)\n",
    "\n",
    "x = np.arange((len(col_names)))\n",
    "top_pos_mut = x[np.in1d(col_names, [mut[0] for mut in pos_mutations[:20]])]"
   ]
  },
  {
   "cell_type": "code",
   "execution_count": 81,
   "metadata": {
    "collapsed": false
   },
   "outputs": [],
   "source": [
    "rows = 1000000\n",
    "test_X = np.zeros((rows, X.shape[1]))"
   ]
  },
  {
   "cell_type": "code",
   "execution_count": 82,
   "metadata": {
    "collapsed": true
   },
   "outputs": [],
   "source": [
    "i = 0\n",
    "\n",
    "for mutant in combinations(top_pos_mut, 5):\n",
    "    for pos in mutant:\n",
    "        test_X[i, pos] = 1\n",
    "    i+=1\n",
    "    \n",
    "test_X = test_X[:i]"
   ]
  },
  {
   "cell_type": "code",
   "execution_count": 83,
   "metadata": {
    "collapsed": true
   },
   "outputs": [],
   "source": [
    "hs = clf.predict_proba(test_X)\n",
    "\n",
    "pos_idx = (hs[:,1]>0.9)\n",
    "neg_idx = (hs[:,0]>0.9)\n",
    "df = pd.DataFrame(test_X[pos_idx], columns=col_names)"
   ]
  },
  {
   "cell_type": "code",
   "execution_count": 84,
   "metadata": {
    "collapsed": false,
    "scrolled": false
   },
   "outputs": [],
   "source": [
    "mut_combinations = [list(df.iloc[i].index[df.iloc[i]>0]) for i in range(len(df))]\n",
    "selected_mutations = set([item for sublist in mut_combinations for item in sublist])"
   ]
  },
  {
   "cell_type": "code",
   "execution_count": 85,
   "metadata": {
    "collapsed": false
   },
   "outputs": [
    {
     "data": {
      "text/plain": [
       "{'SA152G',\n",
       " 'SD153Y',\n",
       " 'SD171E',\n",
       " 'SD19E',\n",
       " 'SD19Y',\n",
       " 'SD232A',\n",
       " 'SD232E',\n",
       " 'SE233*',\n",
       " 'SI227S',\n",
       " 'SK124T',\n",
       " 'SK138T',\n",
       " 'SK154N',\n",
       " 'SK154T',\n",
       " 'SK156T',\n",
       " 'SL13M',\n",
       " 'SN103T',\n",
       " 'SN210H',\n",
       " 'SQ182H',\n",
       " 'SQ202K',\n",
       " 'ST184I'}"
      ]
     },
     "execution_count": 85,
     "metadata": {},
     "output_type": "execute_result"
    }
   ],
   "source": [
    "selected_mutations"
   ]
  },
  {
   "cell_type": "markdown",
   "metadata": {},
   "source": [
    "#### Generating code for PyMOL"
   ]
  },
  {
   "cell_type": "code",
   "execution_count": 87,
   "metadata": {
    "collapsed": false
   },
   "outputs": [],
   "source": [
    "positions = []\n",
    "for m in selected_mutations:\n",
    "    position = int(m[2:-1])\n",
    "    positions.append(position)"
   ]
  },
  {
   "cell_type": "code",
   "execution_count": 88,
   "metadata": {
    "collapsed": false,
    "scrolled": false
   },
   "outputs": [
    {
     "name": "stdout",
     "output_type": "stream",
     "text": [
      "#15\n",
      "set_color mCol15 = (1.0, 0.0, 1.0)\n",
      "select mSel15, resi 15\n",
      "show spheres, mSel15\n",
      "color mCol15 ,mSel15\n",
      "#21\n",
      "set_color mCol21 = (1.0, 0.0, 1.0)\n",
      "select mSel21, resi 21\n",
      "show spheres, mSel21\n",
      "color mCol21 ,mSel21\n",
      "#21\n",
      "set_color mCol21 = (1.0, 0.0, 1.0)\n",
      "select mSel21, resi 21\n",
      "show spheres, mSel21\n",
      "color mCol21 ,mSel21\n",
      "#105\n",
      "set_color mCol105 = (1.0, 0.0, 1.0)\n",
      "select mSel105, resi 105\n",
      "show spheres, mSel105\n",
      "color mCol105 ,mSel105\n",
      "#126\n",
      "set_color mCol126 = (1.0, 0.0, 1.0)\n",
      "select mSel126, resi 126\n",
      "show spheres, mSel126\n",
      "color mCol126 ,mSel126\n",
      "#140\n",
      "set_color mCol140 = (1.0, 0.0, 1.0)\n",
      "select mSel140, resi 140\n",
      "show spheres, mSel140\n",
      "color mCol140 ,mSel140\n",
      "#154\n",
      "set_color mCol154 = (1.0, 0.0, 1.0)\n",
      "select mSel154, resi 154\n",
      "show spheres, mSel154\n",
      "color mCol154 ,mSel154\n",
      "#155\n",
      "set_color mCol155 = (1.0, 0.0, 1.0)\n",
      "select mSel155, resi 155\n",
      "show spheres, mSel155\n",
      "color mCol155 ,mSel155\n",
      "#156\n",
      "set_color mCol156 = (1.0, 0.0, 1.0)\n",
      "select mSel156, resi 156\n",
      "show spheres, mSel156\n",
      "color mCol156 ,mSel156\n",
      "#156\n",
      "set_color mCol156 = (1.0, 0.0, 1.0)\n",
      "select mSel156, resi 156\n",
      "show spheres, mSel156\n",
      "color mCol156 ,mSel156\n",
      "#158\n",
      "set_color mCol158 = (1.0, 0.0, 1.0)\n",
      "select mSel158, resi 158\n",
      "show spheres, mSel158\n",
      "color mCol158 ,mSel158\n",
      "#173\n",
      "set_color mCol173 = (1.0, 0.0, 1.0)\n",
      "select mSel173, resi 173\n",
      "show spheres, mSel173\n",
      "color mCol173 ,mSel173\n",
      "#184\n",
      "set_color mCol184 = (1.0, 0.0, 1.0)\n",
      "select mSel184, resi 184\n",
      "show spheres, mSel184\n",
      "color mCol184 ,mSel184\n",
      "#186\n",
      "set_color mCol186 = (1.0, 0.0, 1.0)\n",
      "select mSel186, resi 186\n",
      "show spheres, mSel186\n",
      "color mCol186 ,mSel186\n",
      "#204\n",
      "set_color mCol204 = (1.0, 0.0, 1.0)\n",
      "select mSel204, resi 204\n",
      "show spheres, mSel204\n",
      "color mCol204 ,mSel204\n",
      "#212\n",
      "set_color mCol212 = (1.0, 0.0, 1.0)\n",
      "select mSel212, resi 212\n",
      "show spheres, mSel212\n",
      "color mCol212 ,mSel212\n",
      "#229\n",
      "set_color mCol229 = (1.0, 0.0, 1.0)\n",
      "select mSel229, resi 229\n",
      "show spheres, mSel229\n",
      "color mCol229 ,mSel229\n",
      "#234\n",
      "set_color mCol234 = (1.0, 0.0, 1.0)\n",
      "select mSel234, resi 234\n",
      "show spheres, mSel234\n",
      "color mCol234 ,mSel234\n",
      "#234\n",
      "set_color mCol234 = (1.0, 0.0, 1.0)\n",
      "select mSel234, resi 234\n",
      "show spheres, mSel234\n",
      "color mCol234 ,mSel234\n",
      "#235\n",
      "set_color mCol235 = (1.0, 0.0, 1.0)\n",
      "select mSel235, resi 235\n",
      "show spheres, mSel235\n",
      "color mCol235 ,mSel235\n"
     ]
    }
   ],
   "source": [
    "for position in sorted(positions):\n",
    "    color = cm.cool(10.0)\n",
    "    colorName = \"mCol\" + str(position+2)\n",
    "    selName = \"mSel\" + str(position+2)\n",
    "    print '#' + str(position+2)\n",
    "    print \"set_color \" + colorName + \" = \" +str(color[0:3])\n",
    "    print \"select \" + selName +\", resi \" + str(int(position + 2))\n",
    "    print \"show spheres, \" + selName\n",
    "    print \"color \" + colorName + \" ,\" + selName"
   ]
  },
  {
   "cell_type": "code",
   "execution_count": null,
   "metadata": {
    "collapsed": true
   },
   "outputs": [],
   "source": []
  }
 ],
 "metadata": {
  "anaconda-cloud": {},
  "kernelspec": {
   "display_name": "Python 2",
   "language": "python",
   "name": "python2"
  },
  "language_info": {
   "codemirror_mode": {
    "name": "ipython",
    "version": 2
   },
   "file_extension": ".py",
   "mimetype": "text/x-python",
   "name": "python",
   "nbconvert_exporter": "python",
   "pygments_lexer": "ipython2",
   "version": "2.7.13"
  }
 },
 "nbformat": 4,
 "nbformat_minor": 1
}
